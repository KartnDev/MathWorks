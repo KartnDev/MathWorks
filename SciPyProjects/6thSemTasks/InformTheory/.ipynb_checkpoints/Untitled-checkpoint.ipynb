{
 "cells": [
  {
   "cell_type": "code",
   "execution_count": 2,
   "id": "arranged-space",
   "metadata": {},
   "outputs": [],
   "source": [
    "import numpy as np\n",
    "import pandas as pd"
   ]
  },
  {
   "cell_type": "code",
   "execution_count": 3,
   "id": "executive-steal",
   "metadata": {},
   "outputs": [],
   "source": [
    "def probability_from_matrix(matrix: np.array):\n",
    "    \"\"\"\n",
    "    Calculates probabilities\n",
    "    :arg:\n",
    "       matrix - numpy matrix of common approach the event\n",
    "    :return:\n",
    "       probabilities - numpy array of probabilities\n",
    "    \"\"\"\n",
    "    probabilities = []\n",
    "    for i in range(len(matrix[0])):\n",
    "        probabilities.append(np.sum(matrix[[i]]))\n",
    "    return np.array(probabilities)"
   ]
  },
  {
   "cell_type": "code",
   "execution_count": 4,
   "id": "roman-highlight",
   "metadata": {},
   "outputs": [],
   "source": [
    "def probability_of_x_y(matrix: np.array):\n",
    "    \"\"\"\n",
    "    Create a matrix consisting of conditional probabilities\n",
    "    :arg:\n",
    "       matrix - numpy matrix of common approach the event\n",
    "    :return:\n",
    "       represented_x_y - conditional probability matrix\n",
    "    \"\"\"\n",
    "    represented_x_y = []\n",
    "    probability_y = probability_from_matrix(matrix)\n",
    "    for i in range(len(matrix[0])):\n",
    "        represented_props = []\n",
    "        for j in range(len(matrix[0])):\n",
    "            represented_props.append(matrix[i][j] / probability_y[j])\n",
    "        represented_x_y.append(represented_props)\n",
    "    represented_x_y = np.asarray(represented_x_y)\n",
    "    return represented_x_y"
   ]
  },
  {
   "cell_type": "code",
   "execution_count": 5,
   "id": "broadband-being",
   "metadata": {},
   "outputs": [],
   "source": [
    "def find_entropy(matrix: np.array):\n",
    "    \"\"\"\n",
    "    Find the entropy of a discrete ensemble of x and y.\n",
    "    :arg:\n",
    "       matrix - numpy matrix of common approach the event\n",
    "    :return:\n",
    "       result_hx, result_hy - entropy of a discrete ensemble x and y\n",
    "    \"\"\"\n",
    "    sum_hx = 0\n",
    "    sum_hy = 0\n",
    "    probabilities = probability_from_matrix(matrix)\n",
    "    for i in range(len(probabilities)):\n",
    "        sum_hx += probabilities[i] * np.log2(probabilities[i])\n",
    "        sum_hy += probabilities[i] * np.log2(probabilities[i])\n",
    "    result_hx = -1 * sum_hx\n",
    "    result_hy = -1 * sum_hy\n",
    "    return result_hx, result_hy"
   ]
  },
  {
   "cell_type": "code",
   "execution_count": 6,
   "id": "vital-positive",
   "metadata": {},
   "outputs": [],
   "source": [
    "def find_conditional_entropy(matrix: np.array):\n",
    "    \"\"\"\n",
    "    Find the conditional entropy of H(X|Y) and H (Y|X)\n",
    "    :arg:\n",
    "       matrix - numpy matrix of common approach the event\n",
    "    :return:\n",
    "       hx_x, hy_y - absolute value of conditional entropy of an ensemble X for a fixed ensemble x and y\n",
    "    \"\"\"\n",
    "    sum_x = 0\n",
    "    px_y = probability_of_x_y(matrix)\n",
    "    for i in range(len(matrix[0])):\n",
    "        represented_sum_y = 0\n",
    "        for j in range(len(matrix[0])):\n",
    "            if px_y[i][j] != 0:\n",
    "                represented_sum_y += matrix[i][j] * np.log2(px_y[i][j])\n",
    "        sum_x += represented_sum_y\n",
    "    result_hx_y = -1 * sum_x\n",
    "    represented_sum_y = 0\n",
    "    for j in range(len(matrix[0])):\n",
    "        sum_x = 0\n",
    "        for i in range(len(matrix[0])):\n",
    "            if px_y[i][j] != 0:\n",
    "                sum_x += matrix[i][j] * np.log2(px_y[i][j])\n",
    "        represented_sum_y += sum_x\n",
    "    result_hy_x = -1 * represented_sum_y\n",
    "    return abs(result_hx_y), abs(result_hy_x)"
   ]
  },
  {
   "cell_type": "code",
   "execution_count": 7,
   "id": "unusual-chemistry",
   "metadata": {},
   "outputs": [],
   "source": [
    "def get_total_entropy(matrix: np.array):\n",
    "    \"\"\"\n",
    "    This function is implemented to find the total entropy H (X,Y)\n",
    "    :arg:\n",
    "       matrix - numpy matrix of common approach the event\n",
    "    :return:\n",
    "       total_entropy - total entropy\n",
    "    \"\"\"\n",
    "    sum_x = 0\n",
    "    for i in range(len(matrix[0])):\n",
    "        represented_sum_y = 0\n",
    "        for j in range(len(matrix[0])):\n",
    "            if matrix[i][j] != 0:\n",
    "                represented_sum_y += matrix[i][j] * np.log2(matrix[i][j])\n",
    "        sum_x += represented_sum_y\n",
    "    total_entropy = -1 * sum_x\n",
    "    return total_entropy"
   ]
  },
  {
   "cell_type": "code",
   "execution_count": 8,
   "id": "restricted-nature",
   "metadata": {},
   "outputs": [],
   "source": [
    "def find_total_inform(matrix: np.array):\n",
    "    \"\"\"\n",
    "    Find the total information I (X;Y)\n",
    "    :arg:\n",
    "       matrix - numpy matrix of common approach the event\n",
    "    :return:\n",
    "       result_sum_x - total information\n",
    "    \"\"\"\n",
    "    result_sum_x = 0\n",
    "    pxy, py_x, py = matrix, probability_of_x_y(matrix), probability_from_matrix(matrix)\n",
    "    for i in range(len(pxy[0])):\n",
    "        represented_sum_y = 0\n",
    "        for j in range(len(pxy[0])):\n",
    "            if py_x[i][j] != 0 and py[i] != 0:\n",
    "                represented_sum_y += pxy[i][j] * np.log2(py_x[i][j] / py[i])\n",
    "        result_sum_x += represented_sum_y\n",
    "    return result_sum_x"
   ]
  },
  {
   "cell_type": "code",
   "execution_count": 32,
   "id": "signed-panel",
   "metadata": {},
   "outputs": [
    {
     "data": {
      "text/plain": [
       "array([[0.1, 0. , 0. , 0. , 0. , 0. , 0. , 0. , 0. , 0. ],\n",
       "       [0. , 0.1, 0. , 0. , 0. , 0. , 0. , 0. , 0. , 0. ],\n",
       "       [0. , 0. , 0.1, 0. , 0. , 0. , 0. , 0. , 0. , 0. ],\n",
       "       [0. , 0. , 0. , 0.1, 0. , 0. , 0. , 0. , 0. , 0. ],\n",
       "       [0. , 0. , 0. , 0. , 0.1, 0. , 0. , 0. , 0. , 0. ],\n",
       "       [0. , 0. , 0. , 0. , 0. , 0.1, 0. , 0. , 0. , 0. ],\n",
       "       [0. , 0. , 0. , 0. , 0. , 0. , 0.1, 0. , 0. , 0. ],\n",
       "       [0. , 0. , 0. , 0. , 0. , 0. , 0. , 0.1, 0. , 0. ],\n",
       "       [0. , 0. , 0. , 0. , 0. , 0. , 0. , 0. , 0.1, 0. ],\n",
       "       [0. , 0. , 0. , 0. , 0. , 0. , 0. , 0. , 0. , 0.1]])"
      ]
     },
     "execution_count": 32,
     "metadata": {},
     "output_type": "execute_result"
    }
   ],
   "source": [
    "prob_matrix = np.loadtxt('input.txt')\n",
    "output_file = open('output.txt', 'w')\n",
    "\n",
    "prob_matrix"
   ]
  },
  {
   "cell_type": "code",
   "execution_count": 33,
   "id": "atlantic-jacksonville",
   "metadata": {},
   "outputs": [],
   "source": [
    "entropy = find_entropy(prob_matrix)\n",
    "conditional_entropy = find_conditional_entropy(prob_matrix)\n",
    "\n",
    "output_file.write(\n",
    "    f\"\"\"H(X)={entropy[0]}\n",
    "H(Y)={entropy[1]}\n",
    "H(X|Y)={conditional_entropy[0]}\n",
    "H(Y|X)={conditional_entropy[1]}\n",
    "H(X,Y)={get_total_entropy(prob_matrix)}\n",
    "I(X;Y)={find_total_inform(prob_matrix)}\"\"\")\n",
    "\n",
    "output_file.close()\n"
   ]
  },
  {
   "cell_type": "code",
   "execution_count": 35,
   "id": "preliminary-stable",
   "metadata": {},
   "outputs": [
    {
     "name": "stdout",
     "output_type": "stream",
     "text": [
      "result:\n",
      "\n",
      "H(X)=3.321928094887362\n",
      "H(Y)=3.321928094887362\n",
      "H(X|Y)=0.0\n",
      "H(Y|X)=0.0\n",
      "H(X,Y)=3.321928094887362\n",
      "I(X;Y)=3.321928094887362\n"
     ]
    }
   ],
   "source": [
    "output = open('output.txt')\n",
    "print(\"result:\\n\")\n",
    "print(\"\".join(output.readlines()))"
   ]
  },
  {
   "cell_type": "code",
   "execution_count": null,
   "id": "increasing-species",
   "metadata": {},
   "outputs": [],
   "source": []
  }
 ],
 "metadata": {
  "kernelspec": {
   "display_name": "Python 3",
   "language": "python",
   "name": "python3"
  },
  "language_info": {
   "codemirror_mode": {
    "name": "ipython",
    "version": 3
   },
   "file_extension": ".py",
   "mimetype": "text/x-python",
   "name": "python",
   "nbconvert_exporter": "python",
   "pygments_lexer": "ipython3",
   "version": "3.8.7"
  }
 },
 "nbformat": 4,
 "nbformat_minor": 5
}
