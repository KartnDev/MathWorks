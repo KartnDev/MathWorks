{
 "cells": [
  {
   "cell_type": "code",
   "execution_count": 1,
   "metadata": {},
   "outputs": [],
   "source": [
    "import cv2 \n",
    "from PIL import ImageDraw, Image, ImageStat\n",
    "import matplotlib.pyplot as plt\n",
    "import numpy as np\n",
    "import pandas as pd\n"
   ]
  },
  {
   "cell_type": "code",
   "execution_count": 2,
   "metadata": {},
   "outputs": [],
   "source": [
    "def get_image_countures(image):\n",
    "    imgray = cv2.cvtColor(im, cv2.COLOR_BGR2GRAY)\n",
    "    ret, thresh = cv2.threshold(imgray, 127, 255, 0)\n",
    "    contours, hierarchy = cv2.findContours(thresh, cv2.RETR_TREE, cv2.CHAIN_APPROX_SIMPLE)\n",
    "\n",
    "    img_counture = np.zeros(im.shape, dtype=np.uint8) # empty image\n",
    "\n",
    "    cv2.drawContours(img_counture, contours, -1, (0,255,0), 3) # countur image\n",
    "\n",
    "    return img_counture\n"
   ]
  },
  {
   "cell_type": "code",
   "execution_count": 3,
   "metadata": {},
   "outputs": [],
   "source": [
    "def get_image_countures_area(image):\n",
    "    imgray = cv2.cvtColor(im, cv2.COLOR_BGR2GRAY)\n",
    "    ret, thresh = cv2.threshold(imgray, 127, 255, 0)\n",
    "    contours, hierarchy = cv2.findContours(thresh, cv2.RETR_TREE, cv2.CHAIN_APPROX_SIMPLE)\n",
    "\n",
    "    return cv2.arcLength(contours[0], True)"
   ]
  },
  {
   "cell_type": "code",
   "execution_count": 4,
   "metadata": {},
   "outputs": [],
   "source": [
    "def approximate_contours(image, percent, arc_lenght):\n",
    "    epsilon =  0.1 * percent * arc_lenght\n",
    "\n",
    "    ret, thresh = cv2.threshold(image,127,255,0)\n",
    "    contours, hierarchy = cv2.findContours(thresh, 1, 2)\n",
    "\n",
    "    cnt = contours[0]\n",
    "    return cv2.approxPolyDP(cnt, epsilon, True) "
   ]
  },
  {
   "cell_type": "code",
   "execution_count": 5,
   "metadata": {},
   "outputs": [],
   "source": [
    "def approach_len(image, percent):\n",
    "    lenght = get_image_countures_area(image)\n",
    "    return cv2.arcLength(approximate_contours(circle, percent, lenght), True)"
   ]
  },
  {
   "cell_type": "code",
   "execution_count": 6,
   "metadata": {},
   "outputs": [],
   "source": [
    "def rotate_image(image, angle):\n",
    "    image_center = tuple(np.array(image.shape[1::-1]) / 2)\n",
    "    rot_mat = cv2.getRotationMatrix2D(image_center, angle, 1.0)\n",
    "    result = cv2.warpAffine(image, rot_mat, image.shape[1::-1], flags=cv2.INTER_LINEAR)\n",
    "    return result"
   ]
  },
  {
   "cell_type": "code",
   "execution_count": 7,
   "metadata": {},
   "outputs": [],
   "source": [
    "def match_img(img1, img2):\n",
    "    ret, thresh = cv2.threshold(img1, 127, 255,0)\n",
    "    ret, thresh2 = cv2.threshold(img2, 127, 255,0)\n",
    "    contours, hierarchy = cv2.findContours(thresh, 2,1)\n",
    "    cnt1 = contours[0]\n",
    "    contours, hierarchy = cv2.findContours(thresh2, 2,1)\n",
    "    cnt2 = contours[0]\n",
    "    return cv2.matchShapes(cnt1,cnt2,1,0.0)"
   ]
  },
  {
   "cell_type": "markdown",
   "metadata": {},
   "source": [
    "# 5 A"
   ]
  },
  {
   "cell_type": "markdown",
   "metadata": {},
   "source": [
    "circle = cv2.imread('Resources//whiteCircle.png')\n",
    "plt.imshow(circle) \n",
    "print(\"Radius of the circle is 533, lenght is 3347\")"
   ]
  },
  {
   "cell_type": "code",
   "execution_count": 9,
   "metadata": {},
   "outputs": [
    {
     "data": {
      "text/plain": [
       "'left original, right only countures'"
      ]
     },
     "execution_count": 9,
     "metadata": {},
     "output_type": "execute_result"
    },
    {
     "data": {
      "image/png": "[encoded data removed]",
      "text/plain": [
       "<Figure size 432x288 with 1 Axes>"
      ]
     },
     "metadata": {
      "needs_background": "light"
     },
     "output_type": "display_data"
    }
   ],
   "source": [
    "im = cv2.imread('Resources//whiteCircle.png')\n",
    "\n",
    "img_counture = get_image_countures(im)\n",
    "\n",
    "numpy_concat = np.concatenate((im, img_counture), axis=1)\n",
    "plt.imshow(numpy_concat) \n",
    "\"left original, right only countures\""
   ]
  },
  {
   "cell_type": "code",
   "execution_count": 10,
   "metadata": {},
   "outputs": [
    {
     "name": "stdout",
     "output_type": "stream",
     "text": [
      "Contour lenght:  3346.4288296699524\n"
     ]
    }
   ],
   "source": [
    "print(\"Contour lenght: \", get_image_countures_area(im))"
   ]
  },
  {
   "cell_type": "markdown",
   "metadata": {},
   "source": [
    "# 5 B"
   ]
  },
  {
   "cell_type": "code",
   "execution_count": 11,
   "metadata": {},
   "outputs": [
    {
     "name": "stdout",
     "output_type": "stream",
     "text": [
      "epsilon = 90% of arc length : 2802.7835693359375\n",
      "epsilon = 66% of arc length : 2802.7835693359375\n",
      "epsilon = 33% of arc length : 3034.1333923339844\n",
      "epsilon = 10% of arc length : 3094.1397857666016\n"
     ]
    }
   ],
   "source": [
    "circle = cv2.imread('Resources//whiteCircle.png', 0)\n",
    "print('epsilon = 90% of arc length :', approach_len(circle, 0.9))\n",
    "print('epsilon = 66% of arc length :', approach_len(circle, 0.66))\n",
    "print('epsilon = 33% of arc length :', approach_len(circle, 0.33))\n",
    "print('epsilon = 10% of arc length :', approach_len(circle, 0.1))"
   ]
  },
  {
   "cell_type": "code",
   "execution_count": 12,
   "metadata": {},
   "outputs": [],
   "source": [
    "x = [approach_len(circle, i) for i in [0.9, 0.66, 0.33, 0.1]]\n",
    "s = ['90%','66%','33%','10%']"
   ]
  },
  {
   "cell_type": "code",
   "execution_count": 13,
   "metadata": {},
   "outputs": [
    {
     "name": "stderr",
     "output_type": "stream",
     "text": [
      "<ipython-input-13-2e66fda85c1d>:2: MatplotlibDeprecationWarning: Using a string of single character colors as a color sequence is deprecated since 3.2 and will be removed two minor releases later. Use an explicit list instead.\n",
      "  plt.bar(s, x,align='center', alpha=0.4, color='bgkr')\n"
     ]
    },
    {
     "data": {
      "image/png": "[encoded data removed]",
      "text/plain": [
       "<Figure size 432x288 with 1 Axes>"
      ]
     },
     "metadata": {
      "needs_background": "light"
     },
     "output_type": "display_data"
    }
   ],
   "source": [
    "fig = plt.figure()\n",
    "plt.bar(s, x,align='center', alpha=0.4, color='bgkr')\n",
    "plt.show()"
   ]
  },
  {
   "cell_type": "markdown",
   "metadata": {},
   "source": [
    "# 10"
   ]
  },
  {
   "cell_type": "code",
   "execution_count": 14,
   "metadata": {},
   "outputs": [
    {
     "data": {
      "text/plain": [
       "<matplotlib.image.AxesImage at 0x7f9000575490>"
      ]
     },
     "execution_count": 14,
     "metadata": {},
     "output_type": "execute_result"
    },
    {
     "data": {
      "image/png": "[encoded data removed]",
      "text/plain": [
       "<Figure size 432x288 with 1 Axes>"
      ]
     },
     "metadata": {
      "needs_background": "light"
     },
     "output_type": "display_data"
    }
   ],
   "source": [
    "img = cv2.imread('Resources//index.png', 0)\n",
    "plt.imshow(img)"
   ]
  },
  {
   "cell_type": "code",
   "execution_count": 15,
   "metadata": {},
   "outputs": [
    {
     "data": {
      "text/plain": [
       "<matplotlib.image.AxesImage at 0x7f90004e1070>"
      ]
     },
     "execution_count": 15,
     "metadata": {},
     "output_type": "execute_result"
    },
    {
     "data": {
      "image/png": "[encoded data removed]",
      "text/plain": [
       "<Figure size 432x288 with 1 Axes>"
      ]
     },
     "metadata": {
      "needs_background": "light"
     },
     "output_type": "display_data"
    }
   ],
   "source": [
    "scaled = cv2.resize(img, (0,0), fx=0.2, fy=0.2) \n",
    "plt.imshow(scaled)"
   ]
  },
  {
   "cell_type": "code",
   "execution_count": 16,
   "metadata": {},
   "outputs": [
    {
     "data": {
      "text/plain": [
       "<matplotlib.image.AxesImage at 0x7f90004b35e0>"
      ]
     },
     "execution_count": 16,
     "metadata": {},
     "output_type": "execute_result"
    },
    {
     "data": {
      "image/png": "[encoded data removed]",
      "text/plain": [
       "<Figure size 432x288 with 1 Axes>"
      ]
     },
     "metadata": {
      "needs_background": "light"
     },
     "output_type": "display_data"
    }
   ],
   "source": [
    "rotated = rotate_image(img, 150)\n",
    "plt.imshow(rotated)"
   ]
  },
  {
   "cell_type": "code",
   "execution_count": 17,
   "metadata": {},
   "outputs": [
    {
     "data": {
      "text/plain": [
       "<matplotlib.image.AxesImage at 0x7f900053b9d0>"
      ]
     },
     "execution_count": 17,
     "metadata": {},
     "output_type": "execute_result"
    },
    {
     "data": {
      "image/png": "[encoded data removed]",
      "text/plain": [
       "<Figure size 432x288 with 1 Axes>"
      ]
     },
     "metadata": {
      "needs_background": "light"
     },
     "output_type": "display_data"
    }
   ],
   "source": [
    "rotated_and_scaled = cv2.resize(rotate_image(img, 150), (0,0), fx=0.2, fy=0.2) \n",
    "plt.imshow(rotated_and_scaled)"
   ]
  },
  {
   "cell_type": "code",
   "execution_count": 18,
   "metadata": {},
   "outputs": [],
   "source": [
    "values = [img, scaled, rotated, rotated_and_scaled]\n",
    "names = ['origina', 'scaled', 'rotated', 'rotate+scaled']"
   ]
  },
  {
   "cell_type": "code",
   "execution_count": 19,
   "metadata": {},
   "outputs": [
    {
     "data": {
      "text/html": [
       "<div>\n",
       "<style scoped>\n",
       "    .dataframe tbody tr th:only-of-type {\n",
       "        vertical-align: middle;\n",
       "    }\n",
       "\n",
       "    .dataframe tbody tr th {\n",
       "        vertical-align: top;\n",
       "    }\n",
       "\n",
       "    .dataframe thead th {\n",
       "        text-align: right;\n",
       "    }\n",
       "</style>\n",
       "<table border=\"1\" class=\"dataframe\">\n",
       "  <thead>\n",
       "    <tr style=\"text-align: right;\">\n",
       "      <th></th>\n",
       "      <th>origina</th>\n",
       "      <th>scaled</th>\n",
       "      <th>rotated</th>\n",
       "      <th>rotate+scaled</th>\n",
       "    </tr>\n",
       "  </thead>\n",
       "  <tbody>\n",
       "    <tr>\n",
       "      <th>origina</th>\n",
       "      <td>0.00000</td>\n",
       "      <td>2.09560</td>\n",
       "      <td>6.34755</td>\n",
       "      <td>1.80347</td>\n",
       "    </tr>\n",
       "    <tr>\n",
       "      <th>scaled</th>\n",
       "      <td>2.09560</td>\n",
       "      <td>0.00000</td>\n",
       "      <td>6.93625</td>\n",
       "      <td>0.42578</td>\n",
       "    </tr>\n",
       "    <tr>\n",
       "      <th>rotated</th>\n",
       "      <td>6.34755</td>\n",
       "      <td>6.93625</td>\n",
       "      <td>0.00000</td>\n",
       "      <td>6.66240</td>\n",
       "    </tr>\n",
       "    <tr>\n",
       "      <th>rotate+scaled</th>\n",
       "      <td>1.80347</td>\n",
       "      <td>0.42578</td>\n",
       "      <td>6.66240</td>\n",
       "      <td>0.00000</td>\n",
       "    </tr>\n",
       "  </tbody>\n",
       "</table>\n",
       "</div>"
      ],
      "text/plain": [
       "               origina   scaled  rotated  rotate+scaled\n",
       "origina        0.00000  2.09560  6.34755        1.80347\n",
       "scaled         2.09560  0.00000  6.93625        0.42578\n",
       "rotated        6.34755  6.93625  0.00000        6.66240\n",
       "rotate+scaled  1.80347  0.42578  6.66240        0.00000"
      ]
     },
     "execution_count": 19,
     "metadata": {},
     "output_type": "execute_result"
    }
   ],
   "source": [
    "# matches orig and scaled\n",
    "pd.DataFrame([[np.round(match_img(i, j), 5) for i in values] for j in values],\n",
    "            index=names,    \n",
    "            columns=names)"
   ]
  },
  {
   "cell_type": "code",
   "execution_count": null,
   "metadata": {},
   "outputs": [],
   "source": []
  }
 ],
 "metadata": {
  "kernelspec": {
   "display_name": "Python 3",
   "language": "python",
   "name": "python3"
  },
  "language_info": {
   "codemirror_mode": {
    "name": "ipython",
    "version": 3
   },
   "file_extension": ".py",
   "mimetype": "text/x-python",
   "name": "python",
   "nbconvert_exporter": "python",
   "pygments_lexer": "ipython3",
   "version": "3.8.5"
  }
 },
 "nbformat": 4,
 "nbformat_minor": 4
}
