{
 "cells": [
  {
   "cell_type": "code",
   "execution_count": 20,
   "metadata": {},
   "outputs": [],
   "source": [
    "import numpy as np\n",
    "import matplotlib.pyplot as plt"
   ]
  },
  {
   "cell_type": "code",
   "execution_count": 21,
   "metadata": {},
   "outputs": [],
   "source": [
    "a = 0\n",
    "b = 1\n",
    "A = 0\n",
    "B = 0\n",
    "\n",
    "def f(x, u):\n",
    "  return x - u[0]"
   ]
  },
  {
   "cell_type": "code",
   "execution_count": 22,
   "metadata": {},
   "outputs": [],
   "source": [
    "def F(f):\n",
    "  return lambda x, u: np.append(u[1:], f(x, u))\n",
    "\n",
    "def recount(f, a, b, u, h):\n",
    "  func = F(f)\n",
    "\n",
    "  x = a\n",
    "  u = np.array(u)\n",
    "  res = [(x, u[0])]\n",
    "  \n",
    "  while x + h <= b:\n",
    "    u = u + h / 2 * (func(x, u) + func(x + h, u + h * func(x, u)))\n",
    "    x = x + h\n",
    "    res.append((x, u[0]))\n",
    "  \n",
    "  return res"
   ]
  },
  {
   "cell_type": "code",
   "execution_count": 23,
   "metadata": {},
   "outputs": [
    {
     "data": {
      "text/plain": [
       "[(0, 0),\n",
       " (0.1, 0.5),\n",
       " (0.2, 0.9960000000000001),\n",
       " (0.30000000000000004, 1.4840300000000002),\n",
       " (0.4, 1.9601998000000003),\n",
       " (0.5, 2.42073800125),\n",
       " (0.6, 2.8620298174925),\n",
       " (0.7, 3.280653317110044),\n",
       " (0.7999999999999999, 3.67341373281105),\n",
       " (0.8999999999999999, 4.037375494851018),\n",
       " (0.9999999999999999, 4.369891666599155)]"
      ]
     },
     "execution_count": 23,
     "metadata": {},
     "output_type": "execute_result"
    }
   ],
   "source": [
    "eta = 5\n",
    "recount((lambda x, u: x - u[0]), a, b, [A, eta], 0.1)"
   ]
  },
  {
   "cell_type": "code",
   "execution_count": 24,
   "metadata": {},
   "outputs": [
    {
     "data": {
      "text/plain": [
       "-4.369891666599155"
      ]
     },
     "execution_count": 24,
     "metadata": {},
     "output_type": "execute_result"
    }
   ],
   "source": [
    "def err(actual, res):\n",
    "  return actual - res[-1][1] \n",
    "\n",
    "err(B, _)\n",
    "\n"
   ]
  },
  {
   "cell_type": "code",
   "execution_count": 41,
   "metadata": {},
   "outputs": [],
   "source": [
    "def new_param(eta_k, eta_k_prev, err_k, err_k_prev):\n",
    "    return eta_k - (err_k * (eta_k - eta_k_prev)) / (err_k - err_k_prev)"
   ]
  },
  {
   "cell_type": "code",
   "execution_count": 42,
   "metadata": {},
   "outputs": [],
   "source": [
    "def solve(f, a, b, A, B, eta_1, eta_2, h=0.1, eps=1e-5):\n",
    "    eta_f = eta_1\n",
    "    eta_s = eta_2\n",
    "    while(np.abs(eta_2 - eta_1) > eps):\n",
    "        err_1 = err(B, euler(f, a, b, [A, eta_f], h))\n",
    "        err_2 = err(B, euler(f, a, b, [A, eta_s], h))\n",
    "        eta_1 = new_param(eta_s, eta_f, err_2, err_1)\n",
    "        eta_s = new_param(eta_f, eta_s, err_1, err_2)\n",
    "        \n",
    "    return eta_2"
   ]
  },
  {
   "cell_type": "code",
   "execution_count": 43,
   "metadata": {},
   "outputs": [],
   "source": [
    "eta_1 = 0\n",
    "eta_2 = (B - A) / (b - a)\n",
    "res = solve(f, a, b, A, B, eta_1, eta_2, h=0.1, eps=0.01)"
   ]
  },
  {
   "cell_type": "code",
   "execution_count": 44,
   "metadata": {},
   "outputs": [
    {
     "name": "stdout",
     "output_type": "stream",
     "text": [
      "0.0\n"
     ]
    }
   ],
   "source": [
    "print(res)"
   ]
  },
  {
   "cell_type": "code",
   "execution_count": null,
   "metadata": {},
   "outputs": [],
   "source": []
  }
 ],
 "metadata": {
  "kernelspec": {
   "display_name": "Python 3",
   "language": "python",
   "name": "python3"
  },
  "language_info": {
   "codemirror_mode": {
    "name": "ipython",
    "version": 3
   },
   "file_extension": ".py",
   "mimetype": "text/x-python",
   "name": "python",
   "nbconvert_exporter": "python",
   "pygments_lexer": "ipython3",
   "version": "3.7.5"
  }
 },
 "nbformat": 4,
 "nbformat_minor": 4
}
