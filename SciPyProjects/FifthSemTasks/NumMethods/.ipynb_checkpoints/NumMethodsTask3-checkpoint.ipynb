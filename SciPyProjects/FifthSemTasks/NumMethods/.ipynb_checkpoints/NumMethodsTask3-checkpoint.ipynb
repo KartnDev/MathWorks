{
 "cells": [
  {
   "cell_type": "code",
   "execution_count": 222,
   "metadata": {},
   "outputs": [],
   "source": [
    "import numpy as np\n",
    "import matplotlib.pyplot as plt"
   ]
  },
  {
   "cell_type": "code",
   "execution_count": 223,
   "metadata": {},
   "outputs": [],
   "source": [
    "\n",
    "a = 0\n",
    "b = 1\n",
    "A = 0\n",
    "B = 0\n",
    "\n",
    "def f(x, u):\n",
    "  return u[1] * u[0] + x\n",
    "\n"
   ]
  },
  {
   "cell_type": "code",
   "execution_count": 224,
   "metadata": {},
   "outputs": [],
   "source": [
    "def F(f):\n",
    "  return lambda x, u: np.append(u[1:], f(x, u))\n",
    "\n",
    "def recount(f, a, b, u, h):\n",
    "  func = F(f)\n",
    "\n",
    "  x = a\n",
    "  u = np.array(u)\n",
    "  res = [(x, u[0])]\n",
    "  \n",
    "  while x + h <= b:\n",
    "    u = u + h / 2 * (func(x, u) + func(x + h, u + h * func(x, u)))\n",
    "    x = x + h\n",
    "    res.append((x, u[0]))\n",
    "  \n",
    "  return res"
   ]
  },
  {
   "cell_type": "code",
   "execution_count": 225,
   "metadata": {},
   "outputs": [
    {
     "data": {
      "text/plain": [
       "[(0, 0),\n",
       " (0.1, 0.5),\n",
       " (0.2, 0.9960000000000001),\n",
       " (0.30000000000000004, 1.4840300000000002),\n",
       " (0.4, 1.9601998000000003),\n",
       " (0.5, 2.42073800125),\n",
       " (0.6, 2.8620298174925),\n",
       " (0.7, 3.280653317110044),\n",
       " (0.7999999999999999, 3.67341373281105),\n",
       " (0.8999999999999999, 4.037375494851018),\n",
       " (0.9999999999999999, 4.369891666599155)]"
      ]
     },
     "execution_count": 225,
     "metadata": {},
     "output_type": "execute_result"
    }
   ],
   "source": [
    "eta = 5\n",
    "recount((lambda x, u: x - u[0]), a, b, [A, eta], 0.1)"
   ]
  },
  {
   "cell_type": "code",
   "execution_count": 226,
   "metadata": {},
   "outputs": [
    {
     "data": {
      "text/plain": [
       "-426.68019124109736"
      ]
     },
     "execution_count": 226,
     "metadata": {},
     "output_type": "execute_result"
    }
   ],
   "source": [
    "def err(actual, res):\n",
    "  return actual - res[-1][1] \n",
    "\n",
    "err(B, recount(f, a, b, [A, eta], 0.01))\n",
    "\n"
   ]
  },
  {
   "cell_type": "code",
   "execution_count": 227,
   "metadata": {},
   "outputs": [],
   "source": [
    "def new_param(eta_k, eta_k_prev, err_k, err_k_prev):\n",
    "    return eta_k - (err_k * (eta_k - eta_k_prev)) / (err_k - err_k_prev)"
   ]
  },
  {
   "cell_type": "code",
   "execution_count": 244,
   "metadata": {},
   "outputs": [],
   "source": [
    "def solve(f, a, b, A, B, eta0, eta1, h=0.1, eps=1e-5):\n",
    "    \n",
    "    result = [[eta0, err(B, recount(f, a, b, [A, eta0], h))],\n",
    "              [eta1, err(B, recount(f, a, b, [A, eta1], h))]]\n",
    "    \n",
    "    _iter = 1\n",
    "         \n",
    "    while (np.abs(result[_iter][0] - result[_iter-1][0]) > eps):\n",
    "        print(np.abs(result[_iter][0] - result[_iter-1][0]))\n",
    "        current_eta = new_param(result[_iter][0], result[_iter - 1][0], result[_iter][1], result[_iter - 1][1])\n",
    "        result.append([current_eta, err(B, recount(f, a, b, [A, current_eta], h))])\n",
    "        _iter += 1\n",
    "        \n",
    "    return result\n",
    "\n",
    "def solve_full(f, a, b, A, B, eta0, eta1, h=0.1, eps=1e-5):\n",
    "    err0 = err(B, recount(f, a, b, [A, eta0], h))\n",
    "    err1 = err(B, recount(f, a, b, [A, eta1], h))\n",
    "    \n",
    "    eta2 = new_param(eat1, eta0, err0, err1)\n",
    "    err2 = err(B, recount(f, a, b, [A, eta2], h))\n",
    "    \n",
    "    eta3 = new_param(eat2, eta1, err2, err1)\n",
    "    err3 = err(B, recount(f, a, b, [A, eta3], h))\n",
    "    \n",
    "    eta4 = new_param(eat3, eta2, err3, err2)\n",
    "    err4 = err(B, recount(f, a, b, [A, eta4], h))\n",
    "    \n",
    "    eta5 = new_param(eat4, eta3, err4, err3)\n",
    "    err5 = err(B, recount(f, a, b, [A, eta5], h))\n",
    "    \n",
    "    \n",
    "    return eta0,eta1,eta2,eta3,eta4,eta5\n",
    "\n",
    "def solve2(f, a, b, A, B, eta_1, eta_2, h=0.1, eps=1e-5):\n",
    "  eta = (eta_1 + eta_2) / 2\n",
    "  hist = [\n",
    "      (eta_1, recount(f, a, b, [A, eta_1], h)),\n",
    "      (eta_2, recount(f, a, b, [A, eta_2], h))\n",
    "  ]\n",
    "  errors = {\n",
    "      eta_1: err(B, hist[0][1]),\n",
    "      eta_2: err(B, hist[1][1])\n",
    "  }\n",
    "  hist.append((eta, recount(f, a, b, [A, eta], h)))\n",
    "  errors[eta] = err(B, hist[-1][1])\n",
    "  while (abs(errors[eta]) > eps):\n",
    "    if (errors[eta] * errors[eta_1] < 0):\n",
    "      eta_1, eta_2 = min(eta, eta_1), max(eta, eta_1)\n",
    "    else:\n",
    "      eta_1, eta_2 = min(eta, eta_2), max(eta, eta_2)\n",
    "    eta = (eta_1 + eta_2) / 2\n",
    "    hist.append((eta, recount(f, a, b, [A, eta], h)))\n",
    "    errors[eta] = err(B, hist[-1][1])\n",
    "  return hist[-1], hist\n",
    "\n"
   ]
  },
  {
   "cell_type": "code",
   "execution_count": 255,
   "metadata": {},
   "outputs": [
    {
     "name": "stdout",
     "output_type": "stream",
     "text": [
      "eta_1 = -1.3 \terr = 0.9421731489034499\n",
      "eta_2 = 0.0 \terr = -0.166827988032836\n"
     ]
    }
   ],
   "source": [
    "eta_1 = -1.3\n",
    "eta_2 = (B - A) / (b - a)\n",
    "\n",
    "print('eta_1 =', eta_1, '\\terr =', err(B, recount(f, a, b, [A, eta_1], 0.1)))\n",
    "print('eta_2 =', eta_2, '\\terr =', err(B, recount(f, a, b, [A, eta_2], 0.1)))"
   ]
  },
  {
   "cell_type": "code",
   "execution_count": 256,
   "metadata": {},
   "outputs": [],
   "source": [
    "\n",
    "res, hist = solve2(f, a, b, A, B, eta_1, eta_2, h=0.1, eps=0.01)"
   ]
  },
  {
   "cell_type": "code",
   "execution_count": 257,
   "metadata": {},
   "outputs": [
    {
     "name": "stdout",
     "output_type": "stream",
     "text": [
      "(-0.1625, [(0, 0.0), (0.1, -0.01625), (0.2, -0.03147401072753906), (0.30000000000000004, -0.044652145900561394), (0.4, -0.05477650988952143), (0.5, -0.06085448350963369), (0.6, -0.0619088584157854), (0.7, -0.05697393265019793), (0.7999999999999999, -0.04508674174120227), (0.8999999999999999, -0.025272585878812554), (0.9999999999999999, 0.0034761295102480605)])\n",
      "1.3\n",
      "0.1955601101021655\n",
      "0.028715509205714806\n"
     ]
    }
   ],
   "source": [
    "print(res)\n",
    "res = solve(f, a, b, A, B, eta_1, eta_2, h=0.1, eps=0.01)"
   ]
  },
  {
   "cell_type": "code",
   "execution_count": 258,
   "metadata": {},
   "outputs": [
    {
     "name": "stdout",
     "output_type": "stream",
     "text": [
      "[[-1.3, 0.9421731489034499], [0.0, -0.166827988032836], [-0.1955601101021655, 0.02871264997721418], [-0.1668446008964507, 0.0007734886441500624], [-0.1660496192569939, -3.6688510719647127e-06]]\n"
     ]
    }
   ],
   "source": [
    "print(res)"
   ]
  },
  {
   "cell_type": "code",
   "execution_count": null,
   "metadata": {},
   "outputs": [],
   "source": []
  }
 ],
 "metadata": {
  "kernelspec": {
   "display_name": "Python 3",
   "language": "python",
   "name": "python3"
  },
  "language_info": {
   "codemirror_mode": {
    "name": "ipython",
    "version": 3
   },
   "file_extension": ".py",
   "mimetype": "text/x-python",
   "name": "python",
   "nbconvert_exporter": "python",
   "pygments_lexer": "ipython3",
   "version": "3.7.5"
  }
 },
 "nbformat": 4,
 "nbformat_minor": 4
}
