{
 "cells": [
  {
   "cell_type": "code",
   "execution_count": 222,
   "metadata": {},
   "outputs": [],
   "source": [
    "import numpy as np\n",
    "import matplotlib.pyplot as plt"
   ]
  },
  {
   "cell_type": "code",
   "execution_count": 325,
   "metadata": {},
   "outputs": [],
   "source": [
    "a = 0\n",
    "b = 1\n",
    "A = 0\n",
    "B = 0\n",
    "\n",
    "def f(x, u):\n",
    "  return x - u[0]\n",
    "\n"
   ]
  },
  {
   "cell_type": "code",
   "execution_count": 336,
   "metadata": {},
   "outputs": [],
   "source": [
    "def F(f):\n",
    "  return lambda x, u: np.append(u[1:], f(x, u))\n",
    "\n",
    "def recount(func, a, b, u, h):\n",
    "  func = F(f)\n",
    "\n",
    "  x = a\n",
    "  u = np.array(u)\n",
    "  res = [(x, u[0])]\n",
    "  \n",
    "  while x + h <= b:\n",
    "    u = u + h / 2 * (func(x, u) + func(x + h, u + h * func(x, u)))\n",
    "    x = x + h\n",
    "    res.append((x, u[0]))\n",
    "  \n",
    "  return res"
   ]
  },
  {
   "cell_type": "code",
   "execution_count": 345,
   "metadata": {},
   "outputs": [
    {
     "data": {
      "text/plain": [
       "[(0, 0),\n",
       " (0.1, 0.4),\n",
       " (0.2, 0.797),\n",
       " (0.30000000000000004, 1.1880225),\n",
       " (0.4, 1.57014985),\n",
       " (0.5, 1.9405535009375),\n",
       " (0.6, 2.296522363119375),\n",
       " (0.7, 2.635489987832533),\n",
       " (0.7999999999999999, 2.9550602996082875),\n",
       " (0.8999999999999999, 3.2530316211382635),\n",
       " (0.9999999999999999, 3.5274187499493665)]"
      ]
     },
     "execution_count": 345,
     "metadata": {},
     "output_type": "execute_result"
    }
   ],
   "source": [
    "eta = 4\n",
    "recount((lambda x, u: x - u[0]), a, b, [A, eta], 0.1)"
   ]
  },
  {
   "cell_type": "code",
   "execution_count": 338,
   "metadata": {},
   "outputs": [
    {
     "data": {
      "text/plain": [
       "-1.3296075307941777"
      ]
     },
     "execution_count": 338,
     "metadata": {},
     "output_type": "execute_result"
    }
   ],
   "source": [
    "def err(actual, res):\n",
    "  return actual - res[-1][1] \n",
    "\n",
    "err(B, recount(f, a, b, [A, eta], 0.01))\n",
    "\n"
   ]
  },
  {
   "cell_type": "code",
   "execution_count": 339,
   "metadata": {},
   "outputs": [],
   "source": [
    "def new_param(eta_k, eta_k_prev, err_k, err_k_prev):\n",
    "    return eta_k - (err_k * (eta_k - eta_k_prev)) / (err_k - err_k_prev)"
   ]
  },
  {
   "cell_type": "code",
   "execution_count": 349,
   "metadata": {},
   "outputs": [],
   "source": [
    "def solve(f, a, b, A, B, eta0, eta1, h=0.1, eps=1e-5):\n",
    "    \n",
    "    result = [[eta0, err(B, recount(f, a, b, [A, eta0], h))],\n",
    "              [eta1, err(B, recount(f, a, b, [A, eta1], h))]]\n",
    "    \n",
    "    _iter = 1\n",
    "         \n",
    "    while (np.abs(result[_iter][0] - result[_iter-1][0]) > eps):\n",
    "        print(np.abs(result[_iter][0] - result[_iter-1][0]))\n",
    "        current_eta = new_param(result[_iter][0], result[_iter - 1][0], result[_iter][1], result[_iter - 1][1])\n",
    "        result.append([current_eta, err(B, recount(f, a, b, [A, current_eta], h))])\n",
    "        _iter += 1\n",
    "        \n",
    "    return result\n",
    "def solve_chord(f, a, b, A, B, eta_1, eta_2, h=0.1, eps=1e-5):\n",
    "  eta = [eta_1, eta_2]\n",
    "  hist = [recount(f, a, b, [A, eta_1], h), recount(f, a, b, [A, eta_2], h)]\n",
    "  errors = [err(B, hist[0]), err(B, hist[1])]\n",
    "\n",
    "  while abs(eta[-2] - eta[-1]) > eps:\n",
    "    eta.append(eta[-1] - (eta[-1] - eta[-2]) * errors[-1] / (errors[-1] - errors[-2]))\n",
    "    hist.append(recount(f, a, b, [A, eta[-1]], h))\n",
    "    errors.append(err(B, hist[-1]))\n",
    "\n",
    "  return hist[-1], hist\n",
    "\n"
   ]
  },
  {
   "cell_type": "code",
   "execution_count": 350,
   "metadata": {},
   "outputs": [
    {
     "name": "stdout",
     "output_type": "stream",
     "text": [
      "eta_1 = -1.3 \terr = 1.351830979266201\n",
      "eta_2 = 0.0 \terr = -0.17276993088733636\n"
     ]
    }
   ],
   "source": [
    "eta_1 = -1.3\n",
    "eta_2 = (B - A) / (b - a)\n",
    "\n",
    "print('eta_1 =', eta_1, '\\terr =', err(B, recount(f, a, b, [A, eta_1], 0.1)))\n",
    "print('eta_2 =', eta_2, '\\terr =', err(B, recount(f, a, b, [A, eta_2], 0.1)))"
   ]
  },
  {
   "cell_type": "code",
   "execution_count": 363,
   "metadata": {},
   "outputs": [],
   "source": [
    "res, hist = solve_chord(f, a, b, A, B, eta_1, eta_2, h=0.01, eps=0.01)"
   ]
  },
  {
   "cell_type": "code",
   "execution_count": 381,
   "metadata": {},
   "outputs": [
    {
     "name": "stdout",
     "output_type": "stream",
     "text": [
      "[[ 0.     0.   ]\n",
      " [ 0.01  -0.001]\n",
      " [ 0.02  -0.003]\n",
      " [ 0.03  -0.004]\n",
      " [ 0.04  -0.006]\n",
      " [ 0.05  -0.007]\n",
      " [ 0.06  -0.009]\n",
      " [ 0.07  -0.01 ]\n",
      " [ 0.08  -0.012]\n",
      " [ 0.09  -0.013]\n",
      " [ 0.1   -0.014]\n",
      " [ 0.11  -0.016]\n",
      " [ 0.12  -0.017]\n",
      " [ 0.13  -0.019]\n",
      " [ 0.14  -0.02 ]\n",
      " [ 0.15  -0.021]\n",
      " [ 0.16  -0.023]\n",
      " [ 0.17  -0.024]\n",
      " [ 0.18  -0.026]\n",
      " [ 0.19  -0.027]\n",
      " [ 0.2   -0.028]\n",
      " [ 0.21  -0.029]\n",
      " [ 0.22  -0.031]\n",
      " [ 0.23  -0.032]\n",
      " [ 0.24  -0.033]\n",
      " [ 0.25  -0.034]\n",
      " [ 0.26  -0.036]\n",
      " [ 0.27  -0.037]\n",
      " [ 0.28  -0.038]\n",
      " [ 0.29  -0.039]\n",
      " [ 0.3   -0.04 ]\n",
      " [ 0.31  -0.041]\n",
      " [ 0.32  -0.042]\n",
      " [ 0.33  -0.043]\n",
      " [ 0.34  -0.044]\n",
      " [ 0.35  -0.045]\n",
      " [ 0.36  -0.046]\n",
      " [ 0.37  -0.047]\n",
      " [ 0.38  -0.048]\n",
      " [ 0.39  -0.049]\n",
      " [ 0.4   -0.049]\n",
      " [ 0.41  -0.05 ]\n",
      " [ 0.42  -0.051]\n",
      " [ 0.43  -0.052]\n",
      " [ 0.44  -0.052]\n",
      " [ 0.45  -0.053]\n",
      " [ 0.46  -0.053]\n",
      " [ 0.47  -0.054]\n",
      " [ 0.48  -0.054]\n",
      " [ 0.49  -0.055]\n",
      " [ 0.5   -0.055]\n",
      " [ 0.51  -0.056]\n",
      " [ 0.52  -0.056]\n",
      " [ 0.53  -0.056]\n",
      " [ 0.54  -0.056]\n",
      " [ 0.55  -0.057]\n",
      " [ 0.56  -0.057]\n",
      " [ 0.57  -0.057]\n",
      " [ 0.58  -0.057]\n",
      " [ 0.59  -0.057]\n",
      " [ 0.6   -0.057]\n",
      " [ 0.61  -0.056]\n",
      " [ 0.62  -0.056]\n",
      " [ 0.63  -0.056]\n",
      " [ 0.64  -0.056]\n",
      " [ 0.65  -0.055]\n",
      " [ 0.66  -0.055]\n",
      " [ 0.67  -0.054]\n",
      " [ 0.68  -0.054]\n",
      " [ 0.69  -0.053]\n",
      " [ 0.7   -0.052]\n",
      " [ 0.71  -0.052]\n",
      " [ 0.72  -0.051]\n",
      " [ 0.73  -0.05 ]\n",
      " [ 0.74  -0.049]\n",
      " [ 0.75  -0.048]\n",
      " [ 0.76  -0.047]\n",
      " [ 0.77  -0.046]\n",
      " [ 0.78  -0.045]\n",
      " [ 0.79  -0.043]\n",
      " [ 0.8   -0.042]\n",
      " [ 0.81  -0.04 ]\n",
      " [ 0.82  -0.039]\n",
      " [ 0.83  -0.037]\n",
      " [ 0.84  -0.036]\n",
      " [ 0.85  -0.034]\n",
      " [ 0.86  -0.032]\n",
      " [ 0.87  -0.03 ]\n",
      " [ 0.88  -0.028]\n",
      " [ 0.89  -0.026]\n",
      " [ 0.9   -0.024]\n",
      " [ 0.91  -0.022]\n",
      " [ 0.92  -0.019]\n",
      " [ 0.93  -0.017]\n",
      " [ 0.94  -0.014]\n",
      " [ 0.95  -0.012]\n",
      " [ 0.96  -0.009]\n",
      " [ 0.97  -0.006]\n",
      " [ 0.98  -0.003]\n",
      " [ 0.99  -0.   ]]\n"
     ]
    }
   ],
   "source": [
    "\n",
    "arr = np.round(np.array(res), 3)\n",
    "print(arr) "
   ]
  },
  {
   "cell_type": "code",
   "execution_count": 372,
   "metadata": {},
   "outputs": [
    {
     "ename": "IndexError",
     "evalue": "too many indices for array: array is 1-dimensional, but 2 were indexed",
     "output_type": "error",
     "traceback": [
      "\u001b[1;31m---------------------------------------------------------------------------\u001b[0m",
      "\u001b[1;31mIndexError\u001b[0m                                Traceback (most recent call last)",
      "\u001b[1;32m<ipython-input-372-55a21b4f04a6>\u001b[0m in \u001b[0;36m<module>\u001b[1;34m\u001b[0m\n\u001b[0;32m      4\u001b[0m \u001b[1;33m\u001b[0m\u001b[0m\n\u001b[0;32m      5\u001b[0m \u001b[0marr\u001b[0m \u001b[1;33m=\u001b[0m \u001b[0mnp\u001b[0m\u001b[1;33m.\u001b[0m\u001b[0marray\u001b[0m\u001b[1;33m(\u001b[0m\u001b[0mres\u001b[0m\u001b[1;33m[\u001b[0m\u001b[1;36m1\u001b[0m\u001b[1;33m]\u001b[0m\u001b[1;33m)\u001b[0m\u001b[1;33m\u001b[0m\u001b[1;33m\u001b[0m\u001b[0m\n\u001b[1;32m----> 6\u001b[1;33m \u001b[0mx\u001b[0m \u001b[1;33m=\u001b[0m \u001b[0marr\u001b[0m\u001b[1;33m[\u001b[0m\u001b[1;33m:\u001b[0m\u001b[1;33m,\u001b[0m \u001b[1;36m0\u001b[0m\u001b[1;33m]\u001b[0m\u001b[1;33m\u001b[0m\u001b[1;33m\u001b[0m\u001b[0m\n\u001b[0m\u001b[0;32m      7\u001b[0m \u001b[0my\u001b[0m \u001b[1;33m=\u001b[0m \u001b[0marr\u001b[0m\u001b[1;33m[\u001b[0m\u001b[1;33m:\u001b[0m\u001b[1;33m,\u001b[0m \u001b[1;36m1\u001b[0m\u001b[1;33m]\u001b[0m\u001b[1;33m\u001b[0m\u001b[1;33m\u001b[0m\u001b[0m\n\u001b[0;32m      8\u001b[0m \u001b[0mline\u001b[0m \u001b[1;33m=\u001b[0m \u001b[0max\u001b[0m\u001b[1;33m.\u001b[0m\u001b[0mplot\u001b[0m\u001b[1;33m(\u001b[0m\u001b[0mx\u001b[0m\u001b[1;33m,\u001b[0m \u001b[0my\u001b[0m\u001b[1;33m,\u001b[0m \u001b[0mlabel\u001b[0m\u001b[1;33m=\u001b[0m\u001b[1;34m'result'\u001b[0m\u001b[1;33m,\u001b[0m \u001b[0mlinewidth\u001b[0m\u001b[1;33m=\u001b[0m\u001b[1;36m3\u001b[0m\u001b[1;33m,\u001b[0m \u001b[0mcolor\u001b[0m\u001b[1;33m=\u001b[0m\u001b[1;34m'black'\u001b[0m\u001b[1;33m)\u001b[0m\u001b[1;33m\u001b[0m\u001b[1;33m\u001b[0m\u001b[0m\n",
      "\u001b[1;31mIndexError\u001b[0m: too many indices for array: array is 1-dimensional, but 2 were indexed"
     ]
    },
    {
     "data": {
      "image/png": "[encoded data removed]",
      "text/plain": [
       "<Figure size 1440x1080 with 1 Axes>"
      ]
     },
     "metadata": {
      "needs_background": "light"
     },
     "output_type": "display_data"
    }
   ],
   "source": [
    "plt.rcParams[\"figure.figsize\"] = (20, 15)\n",
    "\n",
    "fig, ax = plt.subplots()\n",
    "\n",
    "arr = np.array(res[1])\n",
    "x = arr[:, 0]\n",
    "y = arr[:, 1]\n",
    "line = ax.plot(x, y, label='result', linewidth=3, color='black')\n",
    "\n",
    "for eta, r in hist[:-1]:\n",
    "  arr = np.array(r)\n",
    "  x = arr[:, 0]\n",
    "  y = arr[:, 1]\n",
    "  line = ax.plot(x, y, label='eta = {:f}'.format(eta))\n",
    "\n",
    "ax.legend()\n",
    "plt.show()"
   ]
  },
  {
   "cell_type": "code",
   "execution_count": null,
   "metadata": {},
   "outputs": [],
   "source": []
  }
 ],
 "metadata": {
  "kernelspec": {
   "display_name": "Python 3",
   "language": "python",
   "name": "python3"
  },
  "language_info": {
   "codemirror_mode": {
    "name": "ipython",
    "version": 3
   },
   "file_extension": ".py",
   "mimetype": "text/x-python",
   "name": "python",
   "nbconvert_exporter": "python",
   "pygments_lexer": "ipython3",
   "version": "3.7.5"
  }
 },
 "nbformat": 4,
 "nbformat_minor": 4
}
