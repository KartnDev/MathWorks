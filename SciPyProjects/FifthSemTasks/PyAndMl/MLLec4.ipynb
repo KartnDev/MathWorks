{
 "cells": [
  {
   "cell_type": "code",
   "execution_count": 3,
   "metadata": {},
   "outputs": [],
   "source": [
    "import pandas as pd\n",
    "import datetime\n",
    "import numpy as np\n",
    "import matplotlib.pyplot as plt"
   ]
  },
  {
   "cell_type": "code",
   "execution_count": 4,
   "metadata": {},
   "outputs": [
    {
     "data": {
      "text/html": [
       "<div>\n",
       "<style scoped>\n",
       "    .dataframe tbody tr th:only-of-type {\n",
       "        vertical-align: middle;\n",
       "    }\n",
       "\n",
       "    .dataframe tbody tr th {\n",
       "        vertical-align: top;\n",
       "    }\n",
       "\n",
       "    .dataframe thead th {\n",
       "        text-align: right;\n",
       "    }\n",
       "</style>\n",
       "<table border=\"1\" class=\"dataframe\">\n",
       "  <thead>\n",
       "    <tr style=\"text-align: right;\">\n",
       "      <th></th>\n",
       "      <th>&lt;DATE&gt;</th>\n",
       "      <th>&lt;OPEN&gt;</th>\n",
       "      <th>&lt;HIGH&gt;</th>\n",
       "      <th>&lt;LOW&gt;</th>\n",
       "      <th>&lt;CLOSE&gt;</th>\n",
       "      <th>&lt;VOL&gt;</th>\n",
       "    </tr>\n",
       "  </thead>\n",
       "  <tbody>\n",
       "    <tr>\n",
       "      <th>0</th>\n",
       "      <td>02.01.12</td>\n",
       "      <td>186.88</td>\n",
       "      <td>188.64</td>\n",
       "      <td>182.320</td>\n",
       "      <td>182.52</td>\n",
       "      <td>1002795</td>\n",
       "    </tr>\n",
       "    <tr>\n",
       "      <th>1</th>\n",
       "      <td>09.01.12</td>\n",
       "      <td>181.87</td>\n",
       "      <td>183.52</td>\n",
       "      <td>177.350</td>\n",
       "      <td>179.19</td>\n",
       "      <td>1528096</td>\n",
       "    </tr>\n",
       "    <tr>\n",
       "      <th>2</th>\n",
       "      <td>16.01.12</td>\n",
       "      <td>180.34</td>\n",
       "      <td>188.96</td>\n",
       "      <td>179.410</td>\n",
       "      <td>188.53</td>\n",
       "      <td>1633959</td>\n",
       "    </tr>\n",
       "    <tr>\n",
       "      <th>3</th>\n",
       "      <td>23.01.12</td>\n",
       "      <td>187.81</td>\n",
       "      <td>192.78</td>\n",
       "      <td>187.740</td>\n",
       "      <td>190.53</td>\n",
       "      <td>1286450</td>\n",
       "    </tr>\n",
       "    <tr>\n",
       "      <th>4</th>\n",
       "      <td>30.01.12</td>\n",
       "      <td>188.74</td>\n",
       "      <td>194.81</td>\n",
       "      <td>188.290</td>\n",
       "      <td>193.56</td>\n",
       "      <td>1224958</td>\n",
       "    </tr>\n",
       "    <tr>\n",
       "      <th>...</th>\n",
       "      <td>...</td>\n",
       "      <td>...</td>\n",
       "      <td>...</td>\n",
       "      <td>...</td>\n",
       "      <td>...</td>\n",
       "      <td>...</td>\n",
       "    </tr>\n",
       "    <tr>\n",
       "      <th>454</th>\n",
       "      <td>21.09.20</td>\n",
       "      <td>120.45</td>\n",
       "      <td>121.55</td>\n",
       "      <td>116.495</td>\n",
       "      <td>118.91</td>\n",
       "      <td>762538</td>\n",
       "    </tr>\n",
       "    <tr>\n",
       "      <th>455</th>\n",
       "      <td>28.09.20</td>\n",
       "      <td>120.54</td>\n",
       "      <td>123.22</td>\n",
       "      <td>118.850</td>\n",
       "      <td>120.53</td>\n",
       "      <td>530172</td>\n",
       "    </tr>\n",
       "    <tr>\n",
       "      <th>456</th>\n",
       "      <td>05.10.20</td>\n",
       "      <td>121.78</td>\n",
       "      <td>135.49</td>\n",
       "      <td>121.060</td>\n",
       "      <td>127.77</td>\n",
       "      <td>1186117</td>\n",
       "    </tr>\n",
       "    <tr>\n",
       "      <th>457</th>\n",
       "      <td>12.10.20</td>\n",
       "      <td>128.07</td>\n",
       "      <td>128.16</td>\n",
       "      <td>124.000</td>\n",
       "      <td>125.90</td>\n",
       "      <td>700642</td>\n",
       "    </tr>\n",
       "    <tr>\n",
       "      <th>458</th>\n",
       "      <td>19.10.20</td>\n",
       "      <td>126.87</td>\n",
       "      <td>127.29</td>\n",
       "      <td>105.920</td>\n",
       "      <td>111.66</td>\n",
       "      <td>2841388</td>\n",
       "    </tr>\n",
       "  </tbody>\n",
       "</table>\n",
       "<p>459 rows × 6 columns</p>\n",
       "</div>"
      ],
      "text/plain": [
       "       <DATE>  <OPEN>  <HIGH>    <LOW>  <CLOSE>    <VOL>\n",
       "0    02.01.12  186.88  188.64  182.320   182.52  1002795\n",
       "1    09.01.12  181.87  183.52  177.350   179.19  1528096\n",
       "2    16.01.12  180.34  188.96  179.410   188.53  1633959\n",
       "3    23.01.12  187.81  192.78  187.740   190.53  1286450\n",
       "4    30.01.12  188.74  194.81  188.290   193.56  1224958\n",
       "..        ...     ...     ...      ...      ...      ...\n",
       "454  21.09.20  120.45  121.55  116.495   118.91   762538\n",
       "455  28.09.20  120.54  123.22  118.850   120.53   530172\n",
       "456  05.10.20  121.78  135.49  121.060   127.77  1186117\n",
       "457  12.10.20  128.07  128.16  124.000   125.90   700642\n",
       "458  19.10.20  126.87  127.29  105.920   111.66  2841388\n",
       "\n",
       "[459 rows x 6 columns]"
      ]
     },
     "execution_count": 4,
     "metadata": {},
     "output_type": "execute_result"
    }
   ],
   "source": [
    "csv_data = pd.read_csv(\"Res\\\\IBM.csv\", delimiter=';') # Read csv and delimite it by \";\" char\n",
    "csv_data"
   ]
  },
  {
   "cell_type": "code",
   "execution_count": 5,
   "metadata": {},
   "outputs": [
    {
     "data": {
      "text/html": [
       "<div>\n",
       "<style scoped>\n",
       "    .dataframe tbody tr th:only-of-type {\n",
       "        vertical-align: middle;\n",
       "    }\n",
       "\n",
       "    .dataframe tbody tr th {\n",
       "        vertical-align: top;\n",
       "    }\n",
       "\n",
       "    .dataframe thead th {\n",
       "        text-align: right;\n",
       "    }\n",
       "</style>\n",
       "<table border=\"1\" class=\"dataframe\">\n",
       "  <thead>\n",
       "    <tr style=\"text-align: right;\">\n",
       "      <th></th>\n",
       "      <th>&lt;DATE&gt;</th>\n",
       "      <th>&lt;OPEN&gt;</th>\n",
       "      <th>&lt;HIGH&gt;</th>\n",
       "      <th>&lt;LOW&gt;</th>\n",
       "      <th>&lt;CLOSE&gt;</th>\n",
       "      <th>&lt;VOL&gt;</th>\n",
       "    </tr>\n",
       "    <tr>\n",
       "      <th>&lt;DATE&gt;</th>\n",
       "      <th></th>\n",
       "      <th></th>\n",
       "      <th></th>\n",
       "      <th></th>\n",
       "      <th></th>\n",
       "      <th></th>\n",
       "    </tr>\n",
       "  </thead>\n",
       "  <tbody>\n",
       "    <tr>\n",
       "      <th>2012-01-02</th>\n",
       "      <td>02.01.12</td>\n",
       "      <td>186.88</td>\n",
       "      <td>188.64</td>\n",
       "      <td>182.320</td>\n",
       "      <td>182.52</td>\n",
       "      <td>1002795</td>\n",
       "    </tr>\n",
       "    <tr>\n",
       "      <th>2012-01-09</th>\n",
       "      <td>09.01.12</td>\n",
       "      <td>181.87</td>\n",
       "      <td>183.52</td>\n",
       "      <td>177.350</td>\n",
       "      <td>179.19</td>\n",
       "      <td>1528096</td>\n",
       "    </tr>\n",
       "    <tr>\n",
       "      <th>2012-01-16</th>\n",
       "      <td>16.01.12</td>\n",
       "      <td>180.34</td>\n",
       "      <td>188.96</td>\n",
       "      <td>179.410</td>\n",
       "      <td>188.53</td>\n",
       "      <td>1633959</td>\n",
       "    </tr>\n",
       "    <tr>\n",
       "      <th>2012-01-23</th>\n",
       "      <td>23.01.12</td>\n",
       "      <td>187.81</td>\n",
       "      <td>192.78</td>\n",
       "      <td>187.740</td>\n",
       "      <td>190.53</td>\n",
       "      <td>1286450</td>\n",
       "    </tr>\n",
       "    <tr>\n",
       "      <th>2012-01-30</th>\n",
       "      <td>30.01.12</td>\n",
       "      <td>188.74</td>\n",
       "      <td>194.81</td>\n",
       "      <td>188.290</td>\n",
       "      <td>193.56</td>\n",
       "      <td>1224958</td>\n",
       "    </tr>\n",
       "    <tr>\n",
       "      <th>...</th>\n",
       "      <td>...</td>\n",
       "      <td>...</td>\n",
       "      <td>...</td>\n",
       "      <td>...</td>\n",
       "      <td>...</td>\n",
       "      <td>...</td>\n",
       "    </tr>\n",
       "    <tr>\n",
       "      <th>2020-09-21</th>\n",
       "      <td>21.09.20</td>\n",
       "      <td>120.45</td>\n",
       "      <td>121.55</td>\n",
       "      <td>116.495</td>\n",
       "      <td>118.91</td>\n",
       "      <td>762538</td>\n",
       "    </tr>\n",
       "    <tr>\n",
       "      <th>2020-09-28</th>\n",
       "      <td>28.09.20</td>\n",
       "      <td>120.54</td>\n",
       "      <td>123.22</td>\n",
       "      <td>118.850</td>\n",
       "      <td>120.53</td>\n",
       "      <td>530172</td>\n",
       "    </tr>\n",
       "    <tr>\n",
       "      <th>2020-10-05</th>\n",
       "      <td>05.10.20</td>\n",
       "      <td>121.78</td>\n",
       "      <td>135.49</td>\n",
       "      <td>121.060</td>\n",
       "      <td>127.77</td>\n",
       "      <td>1186117</td>\n",
       "    </tr>\n",
       "    <tr>\n",
       "      <th>2020-10-12</th>\n",
       "      <td>12.10.20</td>\n",
       "      <td>128.07</td>\n",
       "      <td>128.16</td>\n",
       "      <td>124.000</td>\n",
       "      <td>125.90</td>\n",
       "      <td>700642</td>\n",
       "    </tr>\n",
       "    <tr>\n",
       "      <th>2020-10-19</th>\n",
       "      <td>19.10.20</td>\n",
       "      <td>126.87</td>\n",
       "      <td>127.29</td>\n",
       "      <td>105.920</td>\n",
       "      <td>111.66</td>\n",
       "      <td>2841388</td>\n",
       "    </tr>\n",
       "  </tbody>\n",
       "</table>\n",
       "<p>459 rows × 6 columns</p>\n",
       "</div>"
      ],
      "text/plain": [
       "              <DATE>  <OPEN>  <HIGH>    <LOW>  <CLOSE>    <VOL>\n",
       "<DATE>                                                         \n",
       "2012-01-02  02.01.12  186.88  188.64  182.320   182.52  1002795\n",
       "2012-01-09  09.01.12  181.87  183.52  177.350   179.19  1528096\n",
       "2012-01-16  16.01.12  180.34  188.96  179.410   188.53  1633959\n",
       "2012-01-23  23.01.12  187.81  192.78  187.740   190.53  1286450\n",
       "2012-01-30  30.01.12  188.74  194.81  188.290   193.56  1224958\n",
       "...              ...     ...     ...      ...      ...      ...\n",
       "2020-09-21  21.09.20  120.45  121.55  116.495   118.91   762538\n",
       "2020-09-28  28.09.20  120.54  123.22  118.850   120.53   530172\n",
       "2020-10-05  05.10.20  121.78  135.49  121.060   127.77  1186117\n",
       "2020-10-12  12.10.20  128.07  128.16  124.000   125.90   700642\n",
       "2020-10-19  19.10.20  126.87  127.29  105.920   111.66  2841388\n",
       "\n",
       "[459 rows x 6 columns]"
      ]
     },
     "execution_count": 5,
     "metadata": {},
     "output_type": "execute_result"
    }
   ],
   "source": [
    "csv_data.index = pd.to_datetime(csv_data['<DATE>'], format='%d.%m.%y') # set main index as date\n",
    "csv_data"
   ]
  },
  {
   "cell_type": "code",
   "execution_count": 6,
   "metadata": {},
   "outputs": [
    {
     "data": {
      "text/plain": [
       "'1. Узнать в какие месяцы объём сделок был больше, \\nчем в остальные (для этого вывести суммарный объем сделок по месяцам в таблице, \\nа затем визуализировать в виде столбцовой диаграммы).'"
      ]
     },
     "execution_count": 6,
     "metadata": {},
     "output_type": "execute_result"
    }
   ],
   "source": [
    "\"\"\"1. Узнать в какие месяцы объём сделок был больше, \n",
    "чем в остальные (для этого вывести суммарный объем сделок по месяцам в таблице, \n",
    "а затем визуализировать в виде столбцовой диаграммы).\"\"\""
   ]
  },
  {
   "cell_type": "code",
   "execution_count": 7,
   "metadata": {},
   "outputs": [
    {
     "data": {
      "text/plain": [
       "<DATE>\n",
       "1     59985954\n",
       "2     39448267\n",
       "3     52047034\n",
       "4     51531543\n",
       "5     33380255\n",
       "6     33444172\n",
       "7     41393175\n",
       "8     30809852\n",
       "9     33203360\n",
       "10    54529079\n",
       "11    32516264\n",
       "12    34368306\n",
       "Name: <VOL>, dtype: int64"
      ]
     },
     "execution_count": 7,
     "metadata": {},
     "output_type": "execute_result"
    }
   ],
   "source": [
    "# group the query by month 1-12 and sum 'VOLUME' in each group \n",
    "val = csv_data.groupby(by=[csv_data.index.month])['<VOL>'].sum()\n",
    "val"
   ]
  },
  {
   "cell_type": "code",
   "execution_count": 8,
   "metadata": {},
   "outputs": [
    {
     "data": {
      "text/plain": [
       "<AxesSubplot:xlabel='<DATE>'>"
      ]
     },
     "execution_count": 8,
     "metadata": {},
     "output_type": "execute_result"
    },
    {
     "data": {
      "image/png": "[encoded data removed]",
      "text/plain": [
       "<Figure size 432x288 with 1 Axes>"
      ]
     },
     "metadata": {
      "needs_background": "light"
     },
     "output_type": "display_data"
    }
   ],
   "source": [
    "val.plot(x='<DATE>', y='<VOL>', kind='bar')"
   ]
  },
  {
   "cell_type": "code",
   "execution_count": 9,
   "metadata": {},
   "outputs": [
    {
     "data": {
      "text/plain": [
       "<DATE>  <DATE>\n",
       "1       2012       6676258\n",
       "        2013       5480431\n",
       "        2014       3757794\n",
       "        2015      16640622\n",
       "        2016       4943424\n",
       "                    ...   \n",
       "12      2015       3306737\n",
       "        2016       2117483\n",
       "        2017       2636092\n",
       "        2018       7291374\n",
       "        2019       4062009\n",
       "Name: <VOL>, Length: 106, dtype: int64"
      ]
     },
     "execution_count": 9,
     "metadata": {},
     "output_type": "execute_result"
    }
   ],
   "source": [
    "# same but grouping by each year + each month \n",
    "val = csv_data.groupby(by=[csv_data.index.month, csv_data.index.year])['<VOL>'].sum()\n",
    "val"
   ]
  },
  {
   "cell_type": "code",
   "execution_count": 10,
   "metadata": {},
   "outputs": [
    {
     "data": {
      "text/plain": [
       "<AxesSubplot:xlabel='<DATE>,<DATE>'>"
      ]
     },
     "execution_count": 10,
     "metadata": {},
     "output_type": "execute_result"
    },
    {
     "data": {
      "image/png": "[encoded data removed]",
      "text/plain": [
       "<Figure size 432x288 with 1 Axes>"
      ]
     },
     "metadata": {
      "needs_background": "light"
     },
     "output_type": "display_data"
    }
   ],
   "source": [
    "val[::6].plot(x='DATA', y='VOL', kind='bar')"
   ]
  },
  {
   "cell_type": "code",
   "execution_count": 11,
   "metadata": {},
   "outputs": [
    {
     "data": {
      "text/plain": [
       "'2. Узнать среднюю цену акций на закрытии торгов по годам.'"
      ]
     },
     "execution_count": 11,
     "metadata": {},
     "output_type": "execute_result"
    }
   ],
   "source": [
    "\"2. Узнать среднюю цену акций на закрытии торгов по годам.\""
   ]
  },
  {
   "cell_type": "code",
   "execution_count": 12,
   "metadata": {},
   "outputs": [
    {
     "data": {
      "text/plain": [
       "<DATE>\n",
       "2012    196.579245\n",
       "2013    193.817885\n",
       "2014    181.863750\n",
       "2015    155.217451\n",
       "2016    150.711731\n",
       "2017    157.573654\n",
       "2018    142.910000\n",
       "2019    137.341346\n",
       "2020    124.650357\n",
       "Name: <CLOSE>, dtype: float64"
      ]
     },
     "execution_count": 12,
     "metadata": {},
     "output_type": "execute_result"
    }
   ],
   "source": [
    "# same but grouping by only each year\n",
    "val = csv_data.groupby(by=[csv_data.index.year])['<CLOSE>'].mean()\n",
    "val"
   ]
  },
  {
   "cell_type": "code",
   "execution_count": 13,
   "metadata": {},
   "outputs": [
    {
     "data": {
      "text/plain": [
       "<AxesSubplot:xlabel='<DATE>'>"
      ]
     },
     "execution_count": 13,
     "metadata": {},
     "output_type": "execute_result"
    },
    {
     "data": {
      "image/png": "[encoded data removed]",
      "text/plain": [
       "<Figure size 432x288 with 1 Axes>"
      ]
     },
     "metadata": {
      "needs_background": "light"
     },
     "output_type": "display_data"
    }
   ],
   "source": [
    "val.plot(x='DATA', y='VOL', kind='bar')"
   ]
  },
  {
   "cell_type": "code",
   "execution_count": 23,
   "metadata": {},
   "outputs": [
    {
     "data": {
      "text/html": [
       "\n",
       "Github: \n",
       "\n",
       "https://github.com/KartonDCP/MathWorks/blob/master/SciPyProjects/FifthSemTasks/PyAndMl/MLLec4.ipynb\n"
      ],
      "text/plain": [
       "<IPython.core.display.HTML object>"
      ]
     },
     "metadata": {},
     "output_type": "display_data"
    }
   ],
   "source": [
    "%%html\n",
    "\n",
    "Github: \n",
    "\n",
    "https://github.com/KartonDCP/MathWorks/blob/master/SciPyProjects/FifthSemTasks/PyAndMl/MLLec4.ipynb"
   ]
  },
  {
   "cell_type": "code",
   "execution_count": null,
   "metadata": {},
   "outputs": [],
   "source": []
  }
 ],
 "metadata": {
  "kernelspec": {
   "display_name": "Python 3",
   "language": "python",
   "name": "python3"
  },
  "language_info": {
   "codemirror_mode": {
    "name": "ipython",
    "version": 3
   },
   "file_extension": ".py",
   "mimetype": "text/x-python",
   "name": "python",
   "nbconvert_exporter": "python",
   "pygments_lexer": "ipython3",
   "version": "3.7.5"
  }
 },
 "nbformat": 4,
 "nbformat_minor": 4
}
