{
 "cells": [
  {
   "cell_type": "markdown",
   "metadata": {},
   "source": [
    "Состояния Белла"
   ]
  },
  {
   "cell_type": "markdown",
   "metadata": {},
   "source": [
    "Вопросы.\n",
    "\n",
    "1) Квантовая схема по формированию состояний Белла\n",
    "\n",
    "2) Нормировка состояний Белла.\n",
    "\n",
    "3) Ортогональность состояний Белла.\n",
    "\n",
    "4) Полнота.\n",
    "\n",
    "5) Визуализация."
   ]
  },
  {
   "cell_type": "code",
   "execution_count": 121,
   "metadata": {},
   "outputs": [],
   "source": [
    "#initialization\n",
    "import numpy as np  # сокращение\n",
    "\n",
    "% matplotlib inline\n",
    "\n",
    "# importing Qiskit\n",
    "from qiskit import (\n",
    "    QuantumCircuit,\n",
    "    execute,\n",
    "    Aer)\n",
    "# import basic plot tools\n",
    "from qiskit.visualization import (\n",
    "    plot_state_qsphere)\n",
    "# Use Aer's qasm_simulator\n",
    "#simulator = Aer.get_backend('qasm_simulator')\n",
    "#simulator = Aer.get_backend('statevector_simulator')\n",
    "#simulator = Aer.get_backend('unitary_simulator')\n",
    "#from qiskit.extensions import Initialize\n",
    "#from qiskit_textbook.tools import random_state, array_to_latex"
   ]
  },
  {
   "cell_type": "code",
   "execution_count": 122,
   "metadata": {},
   "outputs": [
    {
     "name": "stdout",
     "output_type": "stream",
     "text": [
      "[0.+0.j 0.+0.j 0.+0.j 1.+0.j]\n"
     ]
    },
    {
     "data": {
      "text/plain": "<Figure size 387.452x204.68 with 1 Axes>",
      "image/png": "[encoded data removed]"
     },
     "execution_count": 122,
     "metadata": {},
     "output_type": "execute_result"
    }
   ],
   "source": [
    "nq = 2\n",
    "nc = 2\n",
    "qc = QuantumCircuit(nq, nc)\n",
    "#init\n",
    "qc.x(0)\n",
    "qc.x(1)\n",
    "qc.barrier()\n",
    "backend = Aer.get_backend('statevector_simulator')\n",
    "initial_state = execute(qc, backend).result().get_statevector()\n",
    "print(initial_state)\n",
    "# Результаты\n",
    "qc.h(0)\n",
    "qc.cx(0, 1)\n",
    "qc.barrier()\n",
    "qc.draw('mpl')\n"
   ]
  },
  {
   "cell_type": "code",
   "execution_count": 123,
   "metadata": {},
   "outputs": [
    {
     "name": "stdout",
     "output_type": "stream",
     "text": [
      "[ 0.        +0.00000000e+00j -0.70710678+8.65956056e-17j\n",
      "  0.70710678-8.65956056e-17j  0.        +0.00000000e+00j]\n"
     ]
    }
   ],
   "source": [
    "backend = Aer.get_backend('statevector_simulator')\n",
    "final_state = execute(qc, backend).result().get_statevector()\n",
    "print(final_state)  #|betta_ab>\n"
   ]
  },
  {
   "cell_type": "code",
   "execution_count": 128,
   "metadata": {},
   "outputs": [
    {
     "data": {
      "text/plain": "array([[ 0.        +0.00000000e+00j,  0.        +0.00000000e+00j,\n         0.70710678-8.65956056e-17j,  0.70710678+0.00000000e+00j],\n       [-0.70710678+8.65956056e-17j,  0.70710678+0.00000000e+00j,\n         0.        +0.00000000e+00j,  0.        +0.00000000e+00j],\n       [ 0.70710678-8.65956056e-17j,  0.70710678+0.00000000e+00j,\n         0.        +0.00000000e+00j,  0.        +0.00000000e+00j],\n       [ 0.        +0.00000000e+00j,  0.        +0.00000000e+00j,\n        -0.70710678+8.65956056e-17j,  0.70710678+0.00000000e+00j]])"
     },
     "execution_count": 128,
     "metadata": {},
     "output_type": "execute_result"
    }
   ],
   "source": [
    "backend = Aer.get_backend('unitary_simulator')\n",
    "unitary = execute(qc, backend).result().get_unitary()\n",
    "unitary"
   ]
  },
  {
   "cell_type": "code",
   "execution_count": null,
   "metadata": {},
   "outputs": [],
   "source": [
    "plot_state_qsphere(final_state, show_state_phases='true')"
   ]
  },
  {
   "cell_type": "code",
   "execution_count": null,
   "metadata": {},
   "outputs": [],
   "source": [
    "def create_bell_pair(qcB, a, b):\n",
    "    \"\"\"создаем белловские пары\"\"\"\n",
    "    qcB.h(a)  #  a в |+>\n",
    "    qcB.cx(a, b)  # CNOT (CX)"
   ]
  },
  {
   "cell_type": "code",
   "execution_count": null,
   "metadata": {},
   "outputs": [],
   "source": [
    "nq = 2\n",
    "nc = 2\n",
    "qcA = QuantumCircuit(nq, nc)\n",
    "#init\n",
    "qcA.x(0)\n",
    "qcA.x(1)\n",
    "qcA.barrier()\n",
    "qcA.draw('mpl')"
   ]
  },
  {
   "cell_type": "code",
   "execution_count": null,
   "metadata": {},
   "outputs": [],
   "source": [
    "create_bell_pair(qcA, 0, 1)\n",
    "qcA.draw('mpl')"
   ]
  },
  {
   "cell_type": "code",
   "execution_count": null,
   "metadata": {},
   "outputs": [],
   "source": [
    "plot_state_qsphere(final_state, show_state_phases='true')"
   ]
  },
  {
   "cell_type": "code",
   "execution_count": 149,
   "metadata": {},
   "outputs": [
    {
     "name": "stdout",
     "output_type": "stream",
     "text": [
      "[0.7071067811865475, 0, 0, 0.7071067811865475]\n",
      "[0.7071067811865475, 0, 0, -0.7071067811865475]\n",
      "[0, 0.7071067811865475, 0.7071067811865475, 0]\n",
      "[0, -0.7071067811865475, 0.7071067811865475, 0]\n",
      "Normalized value : \n",
      "[[1. 0. 0. 0.]\n",
      " [0. 1. 0. 0.]\n",
      " [0. 0. 1. 0.]\n",
      " [0. 0. 0. 1.]]\n"
     ]
    }
   ],
   "source": [
    "sum = 0\n",
    "one_sqrt = 1/np.sqrt(2)\n",
    "for i in [[one_sqrt, 0, 0, one_sqrt], [one_sqrt, 0, 0, -one_sqrt], [0, one_sqrt, one_sqrt, 0], [0, -one_sqrt, one_sqrt, 0]]:\n",
    "    print(i)\n",
    "    sum += np.outer(i, np.transpose(i))\n",
    "print(\"Normalized value : \")\n",
    "print(sum)"
   ]
  }
 ],
 "metadata": {
  "kernelspec": {
   "display_name": "Python 3",
   "language": "python",
   "name": "python3"
  },
  "language_info": {
   "codemirror_mode": {
    "name": "ipython",
    "version": 3
   },
   "file_extension": ".py",
   "mimetype": "text/x-python",
   "name": "python",
   "nbconvert_exporter": "python",
   "pygments_lexer": "ipython3",
   "version": "3.8.3"
  }
 },
 "nbformat": 4,
 "nbformat_minor": 4
}