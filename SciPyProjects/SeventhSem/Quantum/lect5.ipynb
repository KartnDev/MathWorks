{
 "cells": [
  {
   "cell_type": "code",
   "execution_count": 166,
   "metadata": {
    "collapsed": true
   },
   "outputs": [],
   "source": [
    "import numpy as np\n",
    "from qiskit import *"
   ]
  },
  {
   "cell_type": "markdown",
   "source": [
    "# Hadamar's Test\n",
    "# тест адамара нужен для оценки значения интеграла перекрытия 2 векторов состояния"
   ],
   "metadata": {
    "collapsed": false
   }
  },
  {
   "cell_type": "code",
   "execution_count": 173,
   "outputs": [],
   "source": [
    "# первые параметры для состояния 1\n",
    "theta_1 = np.pi / 3\n",
    "phi_1 = np.pi / 4\n",
    "psi_1 = np.array([np.cos(theta_1 / 2), np.exp(1j * phi_1) * np.sin(theta_1 / 2)])"
   ],
   "metadata": {
    "collapsed": false,
    "pycharm": {
     "name": "#%%\n"
    }
   }
  },
  {
   "cell_type": "code",
   "execution_count": 174,
   "outputs": [],
   "source": [
    "# вторые параметры для состояния 2\n",
    "theta_2 = np.pi / 6\n",
    "phi_2 = 3 * np.pi / 4\n",
    "psi_2 = np.array([np.cos(theta_2 / 2), np.exp(1j * phi_2) * np.sin(theta_2 / 2)])"
   ],
   "metadata": {
    "collapsed": false,
    "pycharm": {
     "name": "#%%\n"
    }
   }
  },
  {
   "cell_type": "code",
   "execution_count": 175,
   "outputs": [],
   "source": [
    "lam = 2  # lambda"
   ],
   "metadata": {
    "collapsed": false,
    "pycharm": {
     "name": "#%%\n"
    }
   }
  },
  {
   "cell_type": "code",
   "execution_count": 170,
   "outputs": [
    {
     "data": {
      "text/plain": "<Figure size 929.397x264.88 with 1 Axes>",
      "image/png": "[encoded data removed]"
     },
     "execution_count": 170,
     "metadata": {},
     "output_type": "execute_result"
    }
   ],
   "source": [
    "# Создание самой квантовой схемы с 3 кубитами и 1 классичесиким регистром\n",
    "qr = QuantumRegister(3, name=\"q\")\n",
    "c3 = ClassicalRegister(1, name=\"c3\")\n",
    "qc = QuantumCircuit(qr, c3)\n",
    "\n",
    "# Инициализация\n",
    "qc.u2(phi_2, lam, 2)\n",
    "qc.u3(theta_2, phi_2, lam, 1)\n",
    "qc.barrier()\n",
    "\n",
    "# Суперпозиция\n",
    "qc.h(0)\n",
    "qc.barrier()\n",
    "\n",
    "# Свап\n",
    "qc.ccx(0, 1, 2)\n",
    "qc.ccx(0, 2, 1)\n",
    "qc.ccx(0, 1, 2)\n",
    "qc.barrier()\n",
    "\n",
    "# Сварачивает супер позицию\n",
    "qc.h(0)\n",
    "qc.barrier()\n",
    "\n",
    "# Измерения\n",
    "qc.measure(0, 0)\n",
    "qc.measure(1, 0)\n",
    "qc.measure(2, 0)\n",
    "\n",
    "# Отрисовка схемы\n",
    "qc.draw(output='mpl')"
   ],
   "metadata": {
    "collapsed": false,
    "pycharm": {
     "name": "#%%\n"
    }
   }
  },
  {
   "cell_type": "markdown",
   "source": [
    "# По нашей формуле мы можем просчитать значения\n",
    "$P_0 = \\frac{1 + \\left | \\left \\langle \\psi_1|\\psi_2 \\right \\rangle \\right | ^ 2}{2}$"
   ],
   "metadata": {
    "collapsed": false
   }
  },
  {
   "cell_type": "code",
   "execution_count": 171,
   "outputs": [
    {
     "data": {
      "text/plain": "(0.7566906754730549-2.573573154054427e-18j)"
     },
     "execution_count": 171,
     "metadata": {},
     "output_type": "execute_result"
    }
   ],
   "source": [
    "bra_ket_inner_product = psi_1.T * psi_2\n",
    "P_0 = (1 + np.sum(bra_ket_inner_product**2) ** 2) / 2\n",
    "P_0"
   ],
   "metadata": {
    "collapsed": false,
    "pycharm": {
     "name": "#%%\n"
    }
   }
  },
  {
   "cell_type": "code",
   "execution_count": 171,
   "outputs": [],
   "source": [],
   "metadata": {
    "collapsed": false,
    "pycharm": {
     "name": "#%%\n"
    }
   }
  }
 ],
 "metadata": {
  "kernelspec": {
   "display_name": "Python 3",
   "language": "python",
   "name": "python3"
  },
  "language_info": {
   "codemirror_mode": {
    "name": "ipython",
    "version": 2
   },
   "file_extension": ".py",
   "mimetype": "text/x-python",
   "name": "python",
   "nbconvert_exporter": "python",
   "pygments_lexer": "ipython2",
   "version": "2.7.6"
  }
 },
 "nbformat": 4,
 "nbformat_minor": 0
}