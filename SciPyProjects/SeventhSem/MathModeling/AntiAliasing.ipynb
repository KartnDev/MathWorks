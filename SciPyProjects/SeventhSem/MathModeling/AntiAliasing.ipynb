{
 "cells": [
  {
   "cell_type": "code",
   "execution_count": 92,
   "metadata": {
    "collapsed": true
   },
   "outputs": [],
   "source": [
    "import matplotlib.pyplot as plt\n",
    "import pandas as pd"
   ]
  },
  {
   "cell_type": "code",
   "execution_count": 93,
   "outputs": [
    {
     "data": {
      "text/plain": "                    date     price\n0    2020-09-27 00:00:00  10732.40\n1    2020-09-28 00:00:00  10774.24\n2    2020-09-29 00:00:00  10692.33\n3    2020-09-30 00:00:00  10840.80\n4    2020-10-01 00:00:00  10777.92\n..                   ...       ...\n185  2021-03-31 00:00:00  58730.13\n186  2021-04-01 00:00:00  58735.25\n187  2021-04-02 00:00:00  58736.92\n188  2021-04-03 00:00:00  59031.32\n189  2021-04-04 00:00:00  57076.49\n\n[190 rows x 2 columns]",
      "text/html": "<div>\n<style scoped>\n    .dataframe tbody tr th:only-of-type {\n        vertical-align: middle;\n    }\n\n    .dataframe tbody tr th {\n        vertical-align: top;\n    }\n\n    .dataframe thead th {\n        text-align: right;\n    }\n</style>\n<table border=\"1\" class=\"dataframe\">\n  <thead>\n    <tr style=\"text-align: right;\">\n      <th></th>\n      <th>date</th>\n      <th>price</th>\n    </tr>\n  </thead>\n  <tbody>\n    <tr>\n      <th>0</th>\n      <td>2020-09-27 00:00:00</td>\n      <td>10732.40</td>\n    </tr>\n    <tr>\n      <th>1</th>\n      <td>2020-09-28 00:00:00</td>\n      <td>10774.24</td>\n    </tr>\n    <tr>\n      <th>2</th>\n      <td>2020-09-29 00:00:00</td>\n      <td>10692.33</td>\n    </tr>\n    <tr>\n      <th>3</th>\n      <td>2020-09-30 00:00:00</td>\n      <td>10840.80</td>\n    </tr>\n    <tr>\n      <th>4</th>\n      <td>2020-10-01 00:00:00</td>\n      <td>10777.92</td>\n    </tr>\n    <tr>\n      <th>...</th>\n      <td>...</td>\n      <td>...</td>\n    </tr>\n    <tr>\n      <th>185</th>\n      <td>2021-03-31 00:00:00</td>\n      <td>58730.13</td>\n    </tr>\n    <tr>\n      <th>186</th>\n      <td>2021-04-01 00:00:00</td>\n      <td>58735.25</td>\n    </tr>\n    <tr>\n      <th>187</th>\n      <td>2021-04-02 00:00:00</td>\n      <td>58736.92</td>\n    </tr>\n    <tr>\n      <th>188</th>\n      <td>2021-04-03 00:00:00</td>\n      <td>59031.32</td>\n    </tr>\n    <tr>\n      <th>189</th>\n      <td>2021-04-04 00:00:00</td>\n      <td>57076.49</td>\n    </tr>\n  </tbody>\n</table>\n<p>190 rows × 2 columns</p>\n</div>"
     },
     "execution_count": 93,
     "metadata": {},
     "output_type": "execute_result"
    }
   ],
   "source": [
    "data = pd.read_csv('resources/market-price.csv')[0:190]\n",
    "data"
   ],
   "metadata": {
    "collapsed": false,
    "pycharm": {
     "name": "#%%\n"
    }
   }
  },
  {
   "cell_type": "code",
   "execution_count": 94,
   "outputs": [
    {
     "name": "stdout",
     "output_type": "stream",
     "text": [
      "                    date     price\n",
      "0    2020-09-27 00:00:00  10732.40\n",
      "1    2020-09-28 00:00:00  10774.24\n",
      "2    2020-09-29 00:00:00  10692.33\n",
      "3    2020-09-30 00:00:00  10840.80\n",
      "4    2020-10-01 00:00:00  10777.92\n",
      "..                   ...       ...\n",
      "185  2021-03-31 00:00:00  58730.13\n",
      "186  2021-04-01 00:00:00  58735.25\n",
      "187  2021-04-02 00:00:00  58736.92\n",
      "188  2021-04-03 00:00:00  59031.32\n",
      "189  2021-04-04 00:00:00  57076.49\n",
      "\n",
      "[190 rows x 2 columns]\n"
     ]
    }
   ],
   "source": [
    "print(data)"
   ],
   "metadata": {
    "collapsed": false,
    "pycharm": {
     "name": "#%%\n"
    }
   }
  },
  {
   "cell_type": "code",
   "execution_count": 95,
   "outputs": [
    {
     "data": {
      "text/plain": "<Figure size 432x288 with 1 Axes>",
      "image/png": "[encoded data removed]"
     },
     "metadata": {
      "needs_background": "light"
     },
     "output_type": "display_data"
    }
   ],
   "source": [
    "x = data['date']\n",
    "y = data['price']\n",
    "plt.xlabel('Date')\n",
    "plt.ylabel('Bitcoin price')\n",
    "plt.title('Bitcoin price history')\n",
    "plt.plot(x, y)\n",
    "plt.xticks(x[::75]);"
   ],
   "metadata": {
    "collapsed": false,
    "pycharm": {
     "name": "#%%\n"
    }
   }
  },
  {
   "cell_type": "code",
   "execution_count": 95,
   "outputs": [],
   "source": [
    "def anti_aliasing(y_array, lenght):\n",
    "    backspace = int((lenght - 1) / 2)\n",
    "    for i in range(backspace, y_array - backspace):\n",
    "        y_array[i] "
   ],
   "metadata": {
    "collapsed": false,
    "pycharm": {
     "name": "#%%\n"
    }
   }
  }
 ],
 "metadata": {
  "kernelspec": {
   "display_name": "Python 3",
   "language": "python",
   "name": "python3"
  },
  "language_info": {
   "codemirror_mode": {
    "name": "ipython",
    "version": 2
   },
   "file_extension": ".py",
   "mimetype": "text/x-python",
   "name": "python",
   "nbconvert_exporter": "python",
   "pygments_lexer": "ipython2",
   "version": "2.7.6"
  }
 },
 "nbformat": 4,
 "nbformat_minor": 0
}