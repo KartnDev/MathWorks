{
 "cells": [
  {
   "cell_type": "code",
   "execution_count": 19,
   "metadata": {
    "collapsed": true
   },
   "outputs": [],
   "source": [
    "import matplotlib.pyplot as plt\n",
    "import numpy as np\n",
    "import pandas as pd"
   ]
  },
  {
   "cell_type": "code",
   "execution_count": 66,
   "outputs": [
    {
     "data": {
      "text/plain": "           DATE   RSAFS\n0    1992-01-01  164083\n1    1992-02-01  164260\n2    1992-03-01  163747\n3    1992-04-01  164759\n4    1992-05-01  165617\n..          ...     ...\n185  2007-06-01  367933\n186  2007-07-01  369472\n187  2007-08-01  370982\n188  2007-09-01  373138\n189  2007-10-01  375048\n\n[190 rows x 2 columns]",
      "text/html": "<div>\n<style scoped>\n    .dataframe tbody tr th:only-of-type {\n        vertical-align: middle;\n    }\n\n    .dataframe tbody tr th {\n        vertical-align: top;\n    }\n\n    .dataframe thead th {\n        text-align: right;\n    }\n</style>\n<table border=\"1\" class=\"dataframe\">\n  <thead>\n    <tr style=\"text-align: right;\">\n      <th></th>\n      <th>DATE</th>\n      <th>RSAFS</th>\n    </tr>\n  </thead>\n  <tbody>\n    <tr>\n      <th>0</th>\n      <td>1992-01-01</td>\n      <td>164083</td>\n    </tr>\n    <tr>\n      <th>1</th>\n      <td>1992-02-01</td>\n      <td>164260</td>\n    </tr>\n    <tr>\n      <th>2</th>\n      <td>1992-03-01</td>\n      <td>163747</td>\n    </tr>\n    <tr>\n      <th>3</th>\n      <td>1992-04-01</td>\n      <td>164759</td>\n    </tr>\n    <tr>\n      <th>4</th>\n      <td>1992-05-01</td>\n      <td>165617</td>\n    </tr>\n    <tr>\n      <th>...</th>\n      <td>...</td>\n      <td>...</td>\n    </tr>\n    <tr>\n      <th>185</th>\n      <td>2007-06-01</td>\n      <td>367933</td>\n    </tr>\n    <tr>\n      <th>186</th>\n      <td>2007-07-01</td>\n      <td>369472</td>\n    </tr>\n    <tr>\n      <th>187</th>\n      <td>2007-08-01</td>\n      <td>370982</td>\n    </tr>\n    <tr>\n      <th>188</th>\n      <td>2007-09-01</td>\n      <td>373138</td>\n    </tr>\n    <tr>\n      <th>189</th>\n      <td>2007-10-01</td>\n      <td>375048</td>\n    </tr>\n  </tbody>\n</table>\n<p>190 rows × 2 columns</p>\n</div>"
     },
     "execution_count": 66,
     "metadata": {},
     "output_type": "execute_result"
    }
   ],
   "source": [
    "data = pd.read_csv('resources/RSAFS.csv')[0:190]\n",
    "data"
   ],
   "metadata": {
    "collapsed": false,
    "pycharm": {
     "name": "#%%\n"
    }
   }
  },
  {
   "cell_type": "code",
   "execution_count": 67,
   "outputs": [
    {
     "name": "stdout",
     "output_type": "stream",
     "text": [
      "           DATE   RSAFS\n",
      "0    1992-01-01  164083\n",
      "1    1992-02-01  164260\n",
      "2    1992-03-01  163747\n",
      "3    1992-04-01  164759\n",
      "4    1992-05-01  165617\n",
      "..          ...     ...\n",
      "185  2007-06-01  367933\n",
      "186  2007-07-01  369472\n",
      "187  2007-08-01  370982\n",
      "188  2007-09-01  373138\n",
      "189  2007-10-01  375048\n",
      "\n",
      "[190 rows x 2 columns]\n"
     ]
    }
   ],
   "source": [
    "print(data)"
   ],
   "metadata": {
    "collapsed": false,
    "pycharm": {
     "name": "#%%\n"
    }
   }
  },
  {
   "cell_type": "code",
   "execution_count": 68,
   "outputs": [
    {
     "data": {
      "text/plain": "<Figure size 432x288 with 1 Axes>",
      "image/png": "[encoded data removed]"
     },
     "metadata": {
      "needs_background": "light"
     },
     "output_type": "display_data"
    }
   ],
   "source": [
    "x = data['DATE']\n",
    "y = data['RSAFS']\n",
    "plt.xlabel('Date')\n",
    "plt.ylabel('Purchases total cost')\n",
    "plt.scatter(data['DATE'], data['RSAFS'], s=0.4)\n",
    "plt.xticks(data['DATE'][::75]);"
   ],
   "metadata": {
    "collapsed": false,
    "pycharm": {
     "name": "#%%\n"
    }
   }
  },
  {
   "cell_type": "code",
   "execution_count": 69,
   "outputs": [],
   "source": [
    "def calculate_m_array(y):\n",
    "    temp_m = []\n",
    "    m = []\n",
    "    for i in range(0, len(y)):\n",
    "        for j in range(0, len(temp_m)):\n",
    "            if y[i] > temp_m[j]:\n",
    "                if j == len(temp_m) - 1:\n",
    "                    m.append(1)\n",
    "            else:\n",
    "                m.append(0)\n",
    "                break\n",
    "        temp_m.append(y[i])\n",
    "    return m"
   ],
   "metadata": {
    "collapsed": false,
    "pycharm": {
     "name": "#%%\n"
    }
   }
  },
  {
   "cell_type": "code",
   "execution_count": 58,
   "outputs": [],
   "source": [
    "def calculate_l_array(y):\n",
    "    temp_l = []\n",
    "    l = []\n",
    "    for i in range(0, len(y)):\n",
    "        for j in range(0, len(temp_l)):\n",
    "            if y[i] < temp_l[j]:\n",
    "                if j == len(temp_l) - 1:\n",
    "                    l.append(1)\n",
    "            else:\n",
    "                l.append(0)\n",
    "                break\n",
    "        temp_l.append(y[i])\n",
    "    return l"
   ],
   "metadata": {
    "collapsed": false,
    "pycharm": {
     "name": "#%%\n"
    }
   }
  },
  {
   "cell_type": "code",
   "execution_count": 59,
   "outputs": [],
   "source": [
    "def calculate_d_array(y):\n",
    "    m = calculate_m_array(y)\n",
    "    l = calculate_l_array(y)\n",
    "    d = [0 for _ in range(0, len(m))]\n",
    "    for i in range(0, len(m)):\n",
    "        d[i] = (m[i] - l[i])\n",
    "    return d"
   ],
   "metadata": {
    "collapsed": false,
    "pycharm": {
     "name": "#%%\n"
    }
   }
  },
  {
   "cell_type": "code",
   "execution_count": 60,
   "outputs": [],
   "source": [
    "def get_big_d_value(y):\n",
    "    return np.sum(calculate_d_array(y))"
   ],
   "metadata": {
    "collapsed": false,
    "pycharm": {
     "name": "#%%\n"
    }
   }
  },
  {
   "cell_type": "code",
   "execution_count": 76,
   "outputs": [],
   "source": [
    "def get_t_observable(y):\n",
    "    const_sigma = 1E2\n",
    "    big_d = get_big_d_value(y)\n",
    "    return big_d / const_sigma"
   ],
   "metadata": {
    "collapsed": false,
    "pycharm": {
     "name": "#%%\n"
    }
   }
  },
  {
   "cell_type": "code",
   "execution_count": 77,
   "outputs": [
    {
     "name": "stdout",
     "output_type": "stream",
     "text": [
      "Real observable value:  1.09\n"
     ]
    }
   ],
   "source": [
    "t_observable = get_t_observable(y)\n",
    "print('Real observable value: ', t_observable)"
   ],
   "metadata": {
    "collapsed": false,
    "pycharm": {
     "name": "#%%\n"
    }
   }
  },
  {
   "cell_type": "code",
   "execution_count": 78,
   "outputs": [
    {
     "data": {
      "text/plain": "  chance   value\n0   0.05   12.70\n1   0.01   63.65\n2  0.001  636.61",
      "text/html": "<div>\n<style scoped>\n    .dataframe tbody tr th:only-of-type {\n        vertical-align: middle;\n    }\n\n    .dataframe tbody tr th {\n        vertical-align: top;\n    }\n\n    .dataframe thead th {\n        text-align: right;\n    }\n</style>\n<table border=\"1\" class=\"dataframe\">\n  <thead>\n    <tr style=\"text-align: right;\">\n      <th></th>\n      <th>chance</th>\n      <th>value</th>\n    </tr>\n  </thead>\n  <tbody>\n    <tr>\n      <th>0</th>\n      <td>0.05</td>\n      <td>12.70</td>\n    </tr>\n    <tr>\n      <th>1</th>\n      <td>0.01</td>\n      <td>63.65</td>\n    </tr>\n    <tr>\n      <th>2</th>\n      <td>0.001</td>\n      <td>636.61</td>\n    </tr>\n  </tbody>\n</table>\n</div>"
     },
     "execution_count": 78,
     "metadata": {},
     "output_type": "execute_result"
    }
   ],
   "source": [
    "pd.DataFrame.from_dict({'chance': ['0.05', '0.01', '0.001'], 'value': [12.7, 63.65, 636.61]})"
   ],
   "metadata": {
    "collapsed": false,
    "pycharm": {
     "name": "#%%\n"
    }
   }
  }
 ],
 "metadata": {
  "kernelspec": {
   "display_name": "Python 3",
   "language": "python",
   "name": "python3"
  },
  "language_info": {
   "codemirror_mode": {
    "name": "ipython",
    "version": 2
   },
   "file_extension": ".py",
   "mimetype": "text/x-python",
   "name": "python",
   "nbconvert_exporter": "python",
   "pygments_lexer": "ipython2",
   "version": "2.7.6"
  }
 },
 "nbformat": 4,
 "nbformat_minor": 0
}