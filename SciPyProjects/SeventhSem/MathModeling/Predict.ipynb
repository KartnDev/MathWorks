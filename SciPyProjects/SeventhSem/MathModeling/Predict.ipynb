{
 "cells": [
  {
   "cell_type": "code",
   "execution_count": 64,
   "metadata": {
    "collapsed": true
   },
   "outputs": [],
   "source": [
    "import matplotlib.pyplot as plt\n",
    "import numpy as np\n",
    "import pandas as pd\n",
    "import seaborn as sns\n",
    "from scipy.interpolate import splrep, splev"
   ]
  },
  {
   "cell_type": "code",
   "execution_count": 65,
   "outputs": [
    {
     "data": {
      "text/plain": "                    date     price\n0    2020-09-27 00:00:00  10732.40\n1    2020-09-28 00:00:00  10774.24\n2    2020-09-29 00:00:00  10692.33\n3    2020-09-30 00:00:00  10840.80\n4    2020-10-01 00:00:00  10777.92\n..                   ...       ...\n361  2021-09-23 00:00:00  43604.76\n362  2021-09-24 00:00:00  44888.96\n363  2021-09-25 00:00:00  42815.56\n364  2021-09-26 00:00:00  42742.01\n365  2021-09-27 00:00:00  43182.63\n\n[366 rows x 2 columns]",
      "text/html": "<div>\n<style scoped>\n    .dataframe tbody tr th:only-of-type {\n        vertical-align: middle;\n    }\n\n    .dataframe tbody tr th {\n        vertical-align: top;\n    }\n\n    .dataframe thead th {\n        text-align: right;\n    }\n</style>\n<table border=\"1\" class=\"dataframe\">\n  <thead>\n    <tr style=\"text-align: right;\">\n      <th></th>\n      <th>date</th>\n      <th>price</th>\n    </tr>\n  </thead>\n  <tbody>\n    <tr>\n      <th>0</th>\n      <td>2020-09-27 00:00:00</td>\n      <td>10732.40</td>\n    </tr>\n    <tr>\n      <th>1</th>\n      <td>2020-09-28 00:00:00</td>\n      <td>10774.24</td>\n    </tr>\n    <tr>\n      <th>2</th>\n      <td>2020-09-29 00:00:00</td>\n      <td>10692.33</td>\n    </tr>\n    <tr>\n      <th>3</th>\n      <td>2020-09-30 00:00:00</td>\n      <td>10840.80</td>\n    </tr>\n    <tr>\n      <th>4</th>\n      <td>2020-10-01 00:00:00</td>\n      <td>10777.92</td>\n    </tr>\n    <tr>\n      <th>...</th>\n      <td>...</td>\n      <td>...</td>\n    </tr>\n    <tr>\n      <th>361</th>\n      <td>2021-09-23 00:00:00</td>\n      <td>43604.76</td>\n    </tr>\n    <tr>\n      <th>362</th>\n      <td>2021-09-24 00:00:00</td>\n      <td>44888.96</td>\n    </tr>\n    <tr>\n      <th>363</th>\n      <td>2021-09-25 00:00:00</td>\n      <td>42815.56</td>\n    </tr>\n    <tr>\n      <th>364</th>\n      <td>2021-09-26 00:00:00</td>\n      <td>42742.01</td>\n    </tr>\n    <tr>\n      <th>365</th>\n      <td>2021-09-27 00:00:00</td>\n      <td>43182.63</td>\n    </tr>\n  </tbody>\n</table>\n<p>366 rows × 2 columns</p>\n</div>"
     },
     "execution_count": 65,
     "metadata": {},
     "output_type": "execute_result"
    }
   ],
   "source": [
    "data = pd.read_csv('resources/market-price_hit.csv')\n",
    "data"
   ],
   "metadata": {
    "collapsed": false,
    "pycharm": {
     "name": "#%%\n"
    }
   }
  },
  {
   "cell_type": "code",
   "execution_count": 66,
   "outputs": [
    {
     "data": {
      "text/plain": "<Figure size 432x288 with 1 Axes>",
      "image/png": "[encoded data removed]"
     },
     "metadata": {
      "needs_background": "light"
     },
     "output_type": "display_data"
    }
   ],
   "source": [
    "x = data['date']\n",
    "y = data['price']\n",
    "plt.xlabel('Date')\n",
    "plt.ylabel('Bitcoin price')\n",
    "plt.title('Bitcoin price history')\n",
    "plt.plot(x, y)\n",
    "plt.xticks(x[::150]);"
   ],
   "metadata": {
    "collapsed": false,
    "pycharm": {
     "name": "#%%\n"
    }
   }
  },
  {
   "cell_type": "code",
   "execution_count": 67,
   "outputs": [],
   "source": [
    "def build_models(values):\n",
    "    time = np.arange(0, len(values))\n",
    "    a_times = time[:, np.newaxis] ** [0, 1, 2, 3]\n",
    "    table = []\n",
    "    for i in range(len(values)):\n",
    "        table.append([1, np.sin(i), np.cos(i) * i, i])\n",
    "    t = [i * 5 for i in range(1, 50)]\n",
    "\n",
    "    # Coefficients\n",
    "    a1 = np.linalg.lstsq(table, values, rcond=None)[0]\n",
    "    a2 = np.linalg.lstsq(a_times, values, rcond=None)[0]\n",
    "\n",
    "    # Splain Model\n",
    "    spl = splrep(time, values, task=-1, t=t, k=3)\n",
    "    mnk_spl = splev(time, spl)\n",
    "\n",
    "    # Polynom Model\n",
    "    polynomial = []\n",
    "    for i in range(len(values)):\n",
    "        polynomial.append(a1[0] + a1[1] * np.sin(i) + a1[2] * i * np.cos(i) + a1[3] * i)\n",
    "\n",
    "    # Trigonometric Model\n",
    "    trigonometry = []\n",
    "    for i in range(len(values)):\n",
    "        trigonometry.append(a2[0] + a2[1] * i + a2[2] * i ** 2 + a2[3] * i ** 3)\n",
    "\n",
    "    return mnk_spl, polynomial, trigonometry"
   ],
   "metadata": {
    "collapsed": false,
    "pycharm": {
     "name": "#%%\n"
    }
   }
  },
  {
   "cell_type": "code",
   "execution_count": 68,
   "outputs": [],
   "source": [
    "def calc_adeq(data, model, title):\n",
    "    e = data - model\n",
    "    n = len(e)\n",
    "    a_numeration = 0\n",
    "    a_denumerator = 0\n",
    "    e_numeration = 0\n",
    "    e_denumerator = 0\n",
    "\n",
    "    for i in range(0, n):\n",
    "        a_numeration += e[i] ** 3\n",
    "        a_denumerator += e[i] ** 2\n",
    "        e_numeration += e[i] ** 4\n",
    "        e_denumerator += e[i] ** 2\n",
    "\n",
    "    a_table = (a_numeration * 1 / n) / np.sqrt(((1 / n * a_denumerator) ** 3))\n",
    "    e_calculated = ((e_numeration * 1 / n) / ((1 / n * e_denumerator) ** 2)) - 3 + (6 / (n + 1))\n",
    "\n",
    "    value_of_a = (6 * (n - 2)) / ((n + 1) * (n + 3))\n",
    "    value_of_a_inner = (6 * (n - 2)) / ((n + 1) * (n + 3))\n",
    "\n",
    "    value_of_e = (24 * n * (n - 2) * (n - 3)) / (((n + 1) ** 2) * (n + 3) * (n + 5))\n",
    "    value_of_e_inner = (24 * n * (n - 2) * (n - 3)) / (((n + 1) ** 2) * (n + 3) * (n + 5))\n",
    "\n",
    "    ineq_a = 1.5 * np.sqrt(value_of_a), 2 * np.sqrt(value_of_a_inner)\n",
    "    ineq_e = 1.5 * np.sqrt(value_of_e), 2 * np.sqrt(value_of_e_inner)\n",
    "    print(f'A {np.abs(a_table)} < {ineq_a[0]} | {np.abs(a_table)} > {ineq_a[1]}')\n",
    "    print(f'E {np.abs(e_calculated)} < {ineq_e[0]} | {np.abs(e_calculated)} > {ineq_e[1]}')\n",
    "    plt.title(title)\n",
    "    sns.kdeplot(e, shade=True)\n",
    "    plt.show()"
   ],
   "metadata": {
    "collapsed": false,
    "pycharm": {
     "name": "#%%\n"
    }
   }
  },
  {
   "cell_type": "code",
   "execution_count": 69,
   "outputs": [],
   "source": [
    "def calculate_coef(data, model):\n",
    "    e = data - model\n",
    "    d_numerator = 0\n",
    "    d_denominator = 0\n",
    "    for i in range(0, len(e)):\n",
    "        if i != 0:\n",
    "            d_numerator += (e[i] - e[i - 1]) ** 2\n",
    "        d_denominator += e[i] ** 2\n",
    "    return d_numerator/d_denominator"
   ],
   "metadata": {
    "collapsed": false,
    "pycharm": {
     "name": "#%%\n"
    }
   }
  },
  {
   "cell_type": "code",
   "execution_count": 70,
   "outputs": [],
   "source": [
    "def get_r(data, model):\n",
    "    e = 0\n",
    "    e_f = 0\n",
    "    for i in range(0, len(data)):\n",
    "        e += (model[i] - data[i] ** 2)\n",
    "        e_f += (model[i] - (sum(data) / len(data)) ** 2)\n",
    "    r = 1 - (e / e_f)\n",
    "    print(f'R^2 = {np.abs(r)}')"
   ],
   "metadata": {
    "collapsed": false,
    "pycharm": {
     "name": "#%%\n"
    }
   }
  },
  {
   "cell_type": "code",
   "execution_count": 71,
   "outputs": [],
   "source": [
    "def calc_accuracy(data, model):\n",
    "    sum_abs_error = 0\n",
    "    for i in range(0, len(data)):\n",
    "        sum_abs_error += ((np.abs(model[i] - data[i])) / data[i])\n",
    "    return (sum_abs_error / len(data)) * 100"
   ],
   "metadata": {
    "collapsed": false,
    "pycharm": {
     "name": "#%%\n"
    }
   }
  },
  {
   "cell_type": "code",
   "execution_count": 72,
   "outputs": [],
   "source": [
    "mnk, polynom, trig = build_models(y)"
   ],
   "metadata": {
    "collapsed": false,
    "pycharm": {
     "name": "#%%\n"
    }
   }
  },
  {
   "cell_type": "code",
   "execution_count": 73,
   "outputs": [
    {
     "name": "stdout",
     "output_type": "stream",
     "text": [
      "MNK Spline\n",
      "A 0.2242035998477831 < 0.1904896399217687 | 0.2242035998477831 > 0.2539861865623583\n",
      "E 2.2909625317559508 < 0.37633553227636696 | 2.2909625317559508 > 0.5017807097018226\n"
     ]
    },
    {
     "data": {
      "text/plain": "<Figure size 432x288 with 1 Axes>",
      "image/png": "[encoded data removed]"
     },
     "metadata": {
      "needs_background": "light"
     },
     "output_type": "display_data"
    }
   ],
   "source": [
    "N = 150\n",
    "print('MNK Spline')\n",
    "calc_adeq(y, mnk, 'MNK')"
   ],
   "metadata": {
    "collapsed": false,
    "pycharm": {
     "name": "#%%\n"
    }
   }
  },
  {
   "cell_type": "code",
   "execution_count": 74,
   "outputs": [
    {
     "name": "stdout",
     "output_type": "stream",
     "text": [
      "Polynom\n",
      "A 0.6945864656213748 < 0.1904896399217687 | 0.6945864656213748 > 0.2539861865623583\n",
      "E 0.9122621979015295 < 0.37633553227636696 | 0.9122621979015295 > 0.5017807097018226\n"
     ]
    },
    {
     "data": {
      "text/plain": "<Figure size 432x288 with 1 Axes>",
      "image/png": "[encoded data removed]"
     },
     "metadata": {
      "needs_background": "light"
     },
     "output_type": "display_data"
    }
   ],
   "source": [
    "print('Polynom')\n",
    "calc_adeq(y, polynom, 'Polynom')"
   ],
   "metadata": {
    "collapsed": false,
    "pycharm": {
     "name": "#%%\n"
    }
   }
  },
  {
   "cell_type": "code",
   "execution_count": 75,
   "outputs": [
    {
     "name": "stdout",
     "output_type": "stream",
     "text": [
      "Trigonometry\n",
      "A 0.11625571189374223 < 0.1904896399217687 | 0.11625571189374223 > 0.2539861865623583\n",
      "E 1.2083110906645251 < 0.37633553227636696 | 1.2083110906645251 > 0.5017807097018226\n"
     ]
    },
    {
     "data": {
      "text/plain": "<Figure size 432x288 with 1 Axes>",
      "image/png": "[encoded data removed]"
     },
     "metadata": {
      "needs_background": "light"
     },
     "output_type": "display_data"
    }
   ],
   "source": [
    "print('Trigonometry')\n",
    "calc_adeq(y, trig, 'Trigonometry')"
   ],
   "metadata": {
    "collapsed": false,
    "pycharm": {
     "name": "#%%\n"
    }
   }
  },
  {
   "cell_type": "code",
   "execution_count": 76,
   "outputs": [],
   "source": [
    "d_mnk = calculate_coef(y[0:N], mnk[0:N])\n",
    "d_polynom = calculate_coef(y[0:N], polynom[0:N])\n",
    "d_trig = calculate_coef(y[0:N], trig[0:N])"
   ],
   "metadata": {
    "collapsed": false,
    "pycharm": {
     "name": "#%%\n"
    }
   }
  },
  {
   "cell_type": "code",
   "execution_count": 77,
   "outputs": [
    {
     "name": "stdout",
     "output_type": "stream",
     "text": [
      "MNK Spline critical = 1.411011606811227 | (4-d) = 2.5889883931887727\n",
      "Polynom critical = 0.019847121193483225 | (4-d) = 3.980152878806517\n",
      "Trigonometry critical = 0.019847121193483225 | (4-d) = 3.9622803114707525\n"
     ]
    }
   ],
   "source": [
    "print(f'MNK Spline critical = {d_mnk} | (4-d) = {4-d_mnk}')\n",
    "print(f'Polynom critical = {d_polynom} | (4-d) = {4-d_polynom}')\n",
    "print(f'Trigonometry critical = {d_polynom} | (4-d) = {4-d_trig}')"
   ],
   "metadata": {
    "collapsed": false,
    "pycharm": {
     "name": "#%%\n"
    }
   }
  },
  {
   "cell_type": "code",
   "execution_count": 78,
   "outputs": [],
   "source": [
    "def get_d_coef(n):\n",
    "    # For alpha = 0.01\n",
    "    if n == 50:\n",
    "        return 1.324, 1.403\n",
    "    if n == 150:\n",
    "        return 1.611, 1.637\n",
    "    if n == 100:\n",
    "        return 1.522, 1.562\n",
    "    if n == 200:\n",
    "        return 1.664, 1.684\n",
    "    else:\n",
    "        return 0, 0"
   ],
   "metadata": {
    "collapsed": false,
    "pycharm": {
     "name": "#%%\n"
    }
   }
  },
  {
   "cell_type": "code",
   "execution_count": 79,
   "outputs": [
    {
     "name": "stdout",
     "output_type": "stream",
     "text": [
      "d_1 = 1.611 | d_2 = 1.637\n",
      "\n"
     ]
    }
   ],
   "source": [
    "d_1, d_2 = get_d_coef(N)\n",
    "print(f'd_1 = {d_1} | d_2 = {d_2}\\n')"
   ],
   "metadata": {
    "collapsed": false,
    "pycharm": {
     "name": "#%%\n"
    }
   }
  },
  {
   "cell_type": "code",
   "execution_count": 80,
   "outputs": [],
   "source": [
    "e_mnk = np.round(calc_accuracy(y, mnk), 5)\n",
    "e_polynom = np.round(calc_accuracy(y, polynom), 5)\n",
    "e_trig = np.round(calc_accuracy(y, trig), 5)"
   ],
   "metadata": {
    "collapsed": false,
    "pycharm": {
     "name": "#%%\n"
    }
   }
  },
  {
   "cell_type": "code",
   "execution_count": 81,
   "outputs": [
    {
     "name": "stdout",
     "output_type": "stream",
     "text": [
      "MNK Spline Error = 3.36819%\n",
      "Polynom Error = 32.99315%\n",
      "Trigonometry Error = 23.25153%\n"
     ]
    }
   ],
   "source": [
    "print(f'MNK Spline Error = {e_mnk}%')\n",
    "print(f'Polynom Error = {e_polynom}%')\n",
    "print(f'Trigonometry Error = {e_trig}%')"
   ],
   "metadata": {
    "collapsed": false,
    "pycharm": {
     "name": "#%%\n"
    }
   }
  },
  {
   "cell_type": "code",
   "execution_count": 82,
   "outputs": [
    {
     "name": "stdout",
     "output_type": "stream",
     "text": [
      "MNK Spline\n",
      "R^2 = 0.15972882478503503\n"
     ]
    }
   ],
   "source": [
    "print('MNK Spline')\n",
    "get_r(y, mnk)"
   ],
   "metadata": {
    "collapsed": false,
    "pycharm": {
     "name": "#%%\n"
    }
   }
  },
  {
   "cell_type": "code",
   "execution_count": 83,
   "outputs": [
    {
     "name": "stdout",
     "output_type": "stream",
     "text": [
      "Polynom\n",
      "R^2 = 0.15972882478503725\n"
     ]
    }
   ],
   "source": [
    "print('Polynom')\n",
    "get_r(y, polynom)"
   ],
   "metadata": {
    "collapsed": false,
    "pycharm": {
     "name": "#%%\n"
    }
   }
  },
  {
   "cell_type": "code",
   "execution_count": 84,
   "outputs": [
    {
     "name": "stdout",
     "output_type": "stream",
     "text": [
      "Trigonometry\n",
      "R^2 = 0.15972882478503703\n"
     ]
    }
   ],
   "source": [
    "print('Trigonometry')\n",
    "get_r(y, trig)"
   ],
   "metadata": {
    "collapsed": false,
    "pycharm": {
     "name": "#%%\n"
    }
   }
  },
  {
   "cell_type": "code",
   "execution_count": 84,
   "outputs": [],
   "source": [],
   "metadata": {
    "collapsed": false,
    "pycharm": {
     "name": "#%%\n"
    }
   }
  }
 ],
 "metadata": {
  "kernelspec": {
   "display_name": "Python 3",
   "language": "python",
   "name": "python3"
  },
  "language_info": {
   "codemirror_mode": {
    "name": "ipython",
    "version": 2
   },
   "file_extension": ".py",
   "mimetype": "text/x-python",
   "name": "python",
   "nbconvert_exporter": "python",
   "pygments_lexer": "ipython2",
   "version": "2.7.6"
  }
 },
 "nbformat": 4,
 "nbformat_minor": 0
}