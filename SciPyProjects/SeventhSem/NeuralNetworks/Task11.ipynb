{
  "nbformat": 4,
  "nbformat_minor": 0,
  "metadata": {
    "colab": {
      "name": "Task11.ipynb",
      "provenance": [],
      "collapsed_sections": [],
      "authorship_tag": "ABX9TyM3iHY6u3vN2C2PGGgOYc6c",
      "include_colab_link": true
    },
    "kernelspec": {
      "name": "python3",
      "display_name": "Python 3"
    },
    "language_info": {
      "name": "python"
    }
  },
  "cells": [
    {
      "cell_type": "markdown",
      "metadata": {
        "id": "view-in-github",
        "colab_type": "text"
      },
      "source": [
        "<a href=\"https://colab.research.google.com/github/KartonDCP/MathWorks/blob/master/Task11.ipynb\" target=\"_parent\"><img src=\"https://colab.research.google.com/assets/colab-badge.svg\" alt=\"Open In Colab\"/></a>"
      ]
    },
    {
      "cell_type": "markdown",
      "source": [
        "# Вариант 5\n",
        "## Оценка стоимости разработки WEB–страниц. \n"
      ],
      "metadata": {
        "id": "wNAxmizF5kjC"
      }
    },
    {
      "cell_type": "code",
      "execution_count": 378,
      "metadata": {
        "id": "H79A71wLuAIS"
      },
      "outputs": [],
      "source": [
        "import numpy as np\n",
        "import pandas as pd\n",
        "import matplotlib.pyplot as plt\n",
        "import tensorflow as tf\n",
        "from tensorflow import keras as keras\n",
        "from tensorflow.keras import regularizers"
      ]
    },
    {
      "cell_type": "code",
      "source": [
        "answers = np.array([\n",
        "           ([1, 0, 0, 0], 10),\n",
        "           ([0, 0, 0, 0], 1),\n",
        "           ([1, 1, 0, 0], 30),\n",
        "           ([1, 1, 1, 0], 80),\n",
        "           ([1, 1, 0, 1], 100),\n",
        "           ([1, 1, 1, 1], 300),\n",
        "]);\n",
        "answers_dict = {\n",
        "           str(np.array([1, 0, 0, 0])): 10,\n",
        "           str(np.array([0, 0, 0, 0])): 1,\n",
        "           str(np.array([1, 1, 0, 0])): 30,\n",
        "           str(np.array([1, 1, 1, 0])): 80,\n",
        "           str(np.array([1, 1, 0, 1])): 100,\n",
        "           str(np.array([1, 1, 1, 1])): 300,\n",
        "};"
      ],
      "metadata": {
        "colab": {
          "base_uri": "https://localhost:8080/",
          "height": 0
        },
        "id": "2_DyvF2n7CG_",
        "outputId": "ff05e70e-8403-4f42-b7a5-49a9c6206a9d"
      },
      "execution_count": 379,
      "outputs": [
        {
          "output_type": "stream",
          "name": "stderr",
          "text": [
            "/usr/local/lib/python3.7/dist-packages/ipykernel_launcher.py:7: VisibleDeprecationWarning: Creating an ndarray from ragged nested sequences (which is a list-or-tuple of lists-or-tuples-or ndarrays with different lengths or shapes) is deprecated. If you meant to do this, you must specify 'dtype=object' when creating the ndarray\n",
            "  import sys\n"
          ]
        }
      ]
    },
    {
      "cell_type": "code",
      "source": [
        "x = np.array([np.array(i[0]) for i in answers])\n",
        "y = np.array([i[1] for i in answers])\n",
        "max_y = np.max(y)\n",
        "y = y/max_y"
      ],
      "metadata": {
        "id": "S0VRV85o7bvE"
      },
      "execution_count": 380,
      "outputs": []
    },
    {
      "cell_type": "code",
      "source": [
        "x"
      ],
      "metadata": {
        "colab": {
          "base_uri": "https://localhost:8080/",
          "height": 0
        },
        "id": "Jub7YjIr728v",
        "outputId": "275d4230-20ca-4190-9fc9-21ec5357a016"
      },
      "execution_count": 381,
      "outputs": [
        {
          "output_type": "execute_result",
          "data": {
            "text/plain": [
              "array([[1, 0, 0, 0],\n",
              "       [0, 0, 0, 0],\n",
              "       [1, 1, 0, 0],\n",
              "       [1, 1, 1, 0],\n",
              "       [1, 1, 0, 1],\n",
              "       [1, 1, 1, 1]])"
            ]
          },
          "metadata": {},
          "execution_count": 381
        }
      ]
    },
    {
      "cell_type": "code",
      "source": [
        "y"
      ],
      "metadata": {
        "colab": {
          "base_uri": "https://localhost:8080/",
          "height": 0
        },
        "id": "FCC3nzhd73zw",
        "outputId": "0f6924e5-dda0-40b7-fb63-f4e75d04e628"
      },
      "execution_count": 382,
      "outputs": [
        {
          "output_type": "execute_result",
          "data": {
            "text/plain": [
              "array([0.03333333, 0.00333333, 0.1       , 0.26666667, 0.33333333,\n",
              "       1.        ])"
            ]
          },
          "metadata": {},
          "execution_count": 382
        }
      ]
    },
    {
      "cell_type": "code",
      "source": [
        "model = keras.Sequential([keras.layers.Dense(4, activation='tanh', kernel_regularizer=regularizers.l1_l2(l1=0.0005, l2=0.05)),\n",
        "                          keras.layers.Dense(20, activation='tanh', kernel_regularizer=regularizers.l1(l1=0.0005)),\n",
        "                          keras.layers.Dense(1, activation='tanh')])"
      ],
      "metadata": {
        "id": "dGrh_ndW75nQ"
      },
      "execution_count": 383,
      "outputs": []
    },
    {
      "cell_type": "code",
      "source": [
        "model.compile(optimizer='adam', metrics=['accuracy'])"
      ],
      "metadata": {
        "id": "4L0-Vwp08Pp_"
      },
      "execution_count": 384,
      "outputs": []
    },
    {
      "cell_type": "code",
      "source": [
        "model.fit(x, y, epochs=5);"
      ],
      "metadata": {
        "colab": {
          "base_uri": "https://localhost:8080/",
          "height": 0
        },
        "id": "H_n4ADoz8RXI",
        "outputId": "27b5e7cc-bef8-4217-f020-78c12023ad6e"
      },
      "execution_count": 385,
      "outputs": [
        {
          "output_type": "stream",
          "name": "stdout",
          "text": [
            "Epoch 1/5\n",
            "WARNING:tensorflow:Gradients do not exist for variables ['dense_80/bias:0', 'dense_81/bias:0', 'dense_82/kernel:0', 'dense_82/bias:0'] when minimizing the loss. If you're using `model.compile()`, did you forget to provide a `loss`argument?\n",
            "WARNING:tensorflow:Gradients do not exist for variables ['dense_80/bias:0', 'dense_81/bias:0', 'dense_82/kernel:0', 'dense_82/bias:0'] when minimizing the loss. If you're using `model.compile()`, did you forget to provide a `loss`argument?\n",
            "1/1 [==============================] - 0s 350ms/step - loss: 0.1870 - accuracy: 0.0000e+00\n",
            "Epoch 2/5\n",
            "1/1 [==============================] - 0s 10ms/step - loss: 0.1863 - accuracy: 0.0000e+00\n",
            "Epoch 3/5\n",
            "1/1 [==============================] - 0s 5ms/step - loss: 0.1857 - accuracy: 0.0000e+00\n",
            "Epoch 4/5\n",
            "1/1 [==============================] - 0s 7ms/step - loss: 0.1851 - accuracy: 0.0000e+00\n",
            "Epoch 5/5\n",
            "1/1 [==============================] - 0s 7ms/step - loss: 0.1844 - accuracy: 0.0000e+00\n"
          ]
        }
      ]
    },
    {
      "cell_type": "markdown",
      "source": [
        "#Вместо input который тоже есть в питоне, буду использовать просто переменные, тк в Notebook не получиться делать input адекватно, суть никак не измениться"
      ],
      "metadata": {
        "id": "R4o9RS5i80ab"
      }
    },
    {
      "cell_type": "code",
      "source": [
        "is_visial_cool = 1\n",
        "is_site_fast = 1\n",
        "is_site_hard_understand = 1\n",
        "is_site_reach = 0\n",
        "x_test = np.array([is_visial_cool, is_site_fast, is_site_hard_understand, is_site_reach])"
      ],
      "metadata": {
        "id": "_drlYZb48XRS"
      },
      "execution_count": 386,
      "outputs": []
    },
    {
      "cell_type": "code",
      "source": [
        "predicted = model.predict(np.array([x_test])) * max_y # избавимся от нормализации данных умножив на max_y\n",
        "predicted"
      ],
      "metadata": {
        "colab": {
          "base_uri": "https://localhost:8080/",
          "height": 0
        },
        "id": "IgSjGQ6E9DIV",
        "outputId": "59e17100-152b-4441-964f-9ae08007f457"
      },
      "execution_count": 387,
      "outputs": [
        {
          "output_type": "execute_result",
          "data": {
            "text/plain": [
              "array([[90.39575]], dtype=float32)"
            ]
          },
          "metadata": {},
          "execution_count": 387
        }
      ]
    },
    {
      "cell_type": "code",
      "source": [
        "\n",
        "print(f\"predicted cost {predicted[0]}, real is {answers_dict[str(x_test)]}\")"
      ],
      "metadata": {
        "colab": {
          "base_uri": "https://localhost:8080/",
          "height": 0
        },
        "id": "a_POHWT49_Fm",
        "outputId": "6ae9292c-ecd8-4894-af16-28a71fe05f51"
      },
      "execution_count": 388,
      "outputs": [
        {
          "output_type": "stream",
          "name": "stdout",
          "text": [
            "predicted cost [90.39575], real is 80\n"
          ]
        }
      ]
    },
    {
      "cell_type": "markdown",
      "source": [
        "# Мы предсказали значение сайта в 90к $, реально значение 80, можель успешно обучена, несмотря на малый датасет"
      ],
      "metadata": {
        "id": "UiG9gY5UA4Fb"
      }
    }
  ]
}