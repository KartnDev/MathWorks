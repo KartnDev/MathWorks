{
  "nbformat": 4,
  "nbformat_minor": 0,
  "metadata": {
    "colab": {
      "name": "Lab10.ipynb",
      "provenance": [],
      "collapsed_sections": [],
      "authorship_tag": "ABX9TyPL1FXNeP0QBbB2NODj7Yv8",
      "include_colab_link": true
    },
    "kernelspec": {
      "name": "python3",
      "display_name": "Python 3"
    },
    "language_info": {
      "name": "python"
    },
    "accelerator": "GPU"
  },
  "cells": [
    {
      "cell_type": "markdown",
      "metadata": {
        "id": "view-in-github",
        "colab_type": "text"
      },
      "source": [
        "<a href=\"https://colab.research.google.com/github/KartonDCP/MathWorks/blob/master/Lab10.ipynb\" target=\"_parent\"><img src=\"https://colab.research.google.com/assets/colab-badge.svg\" alt=\"Open In Colab\"/></a>"
      ]
    },
    {
      "cell_type": "markdown",
      "source": [
        "# Вариант 4\n",
        "## Разработать, обучить и исследовать нейронную сеть, предназначенную для распознавания 5 символов, представленных в виде матриц `4:5`:\n",
        "# Символы:\n",
        "# 1 0 0 1 == K\n",
        "# 1 0 1 0 \n",
        "# 1 1 0 0 \n",
        "# 1 0 1 0 \n",
        "# 1 0 0 1 \n",
        "=========\n",
        "# 1 0 0 1 == H\n",
        "# 1 0 0 1 \n",
        "# 1 1 1 1 \n",
        "# 1 0 0 1 \n",
        "# 1 0 0 1\n",
        "\n",
        "# 1 1 1 1 == Г\n",
        "# 1 0 0 0 \n",
        "# 1 0 0 0 \n",
        "# 1 0 0 0 \n",
        "# 1 0 0 0\n",
        "\n",
        "# 1 1 1 1 == Е\n",
        "# 1 0 0 0 \n",
        "# 1 1 1 1 \n",
        "# 1 0 0 0 \n",
        "# 1 1 1 1\n",
        "\n",
        "# 1 1 1 1 == Г\n",
        "# 1 0 0 1\n",
        "# 1 0 0 1 \n",
        "# 1 0 0 1 \n",
        "# 1 1 1 1\n",
        "\n"
      ],
      "metadata": {
        "id": "lW5Rg_TfM3Ok"
      }
    },
    {
      "cell_type": "code",
      "source": [
        "import numpy as np\n",
        "import pandas as pd\n",
        "import matplotlib.pyplot as plt\n",
        "import tensorflow as tf\n",
        "from tensorflow import keras as keras\n",
        "from tensorflow.keras import regularizers"
      ],
      "metadata": {
        "id": "am7yy-bvXBTI"
      },
      "execution_count": 577,
      "outputs": []
    },
    {
      "cell_type": "code",
      "execution_count": 578,
      "metadata": {
        "id": "G0JlrgyBMAkR"
      },
      "outputs": [],
      "source": [
        "K = [[1, 0, 0, 1],\n",
        "     [1, 0, 1, 0],\n",
        "     [1, 1, 0, 0],\n",
        "     [1, 0, 1, 0],\n",
        "     [1, 0, 0, 1]] \n",
        "\n",
        "H = [[1, 0, 0, 1],\n",
        "     [1, 0, 0, 1],\n",
        "     [1, 1, 1, 1],\n",
        "     [1, 0, 0, 1],\n",
        "     [1, 0, 0, 1]] \n",
        "\n",
        "G_r = [[1, 1, 1, 1],\n",
        "       [1, 0, 0, 0],\n",
        "       [1, 0, 0, 0],\n",
        "       [1, 0, 0, 0],\n",
        "       [1, 0, 0, 0]] \n",
        "\n",
        "E = [[1, 1, 1, 1],\n",
        "     [1, 0, 0, 0],\n",
        "     [1, 1, 1, 0],\n",
        "     [1, 0, 0, 0],\n",
        "     [1, 1, 1, 1]] \n",
        "\n",
        "O = [[1, 1, 1, 1],\n",
        "     [1, 0, 0, 1],\n",
        "     [1, 0, 0, 1],\n",
        "     [1, 0, 0, 1],\n",
        "     [1, 1, 1, 1]] \n"
      ]
    },
    {
      "cell_type": "code",
      "source": [
        "dataset_size = 1000\n",
        "dataset = []\n",
        "\n",
        "for i in range(dataset_size):\n",
        "  dataset.append((K, 0.1))\n",
        "  dataset.append((H, 0.3))\n",
        "  dataset.append((G_r, 0.5))\n",
        "  dataset.append((E, 0.7))\n",
        "  dataset.append((O, 1))\n",
        "\n",
        "dataset = np.array(dataset)"
      ],
      "metadata": {
        "colab": {
          "base_uri": "https://localhost:8080/",
          "height": 0
        },
        "id": "IzxPRaBeVrOE",
        "outputId": "400305c3-a22f-46e2-dafa-50c7f92ac21e"
      },
      "execution_count": 579,
      "outputs": [
        {
          "output_type": "stream",
          "name": "stderr",
          "text": [
            "/usr/local/lib/python3.7/dist-packages/ipykernel_launcher.py:11: VisibleDeprecationWarning: Creating an ndarray from ragged nested sequences (which is a list-or-tuple of lists-or-tuples-or ndarrays with different lengths or shapes) is deprecated. If you meant to do this, you must specify 'dtype=object' when creating the ndarray\n",
            "  # This is added back by InteractiveShellApp.init_path()\n"
          ]
        }
      ]
    },
    {
      "cell_type": "code",
      "source": [
        "dataset"
      ],
      "metadata": {
        "colab": {
          "base_uri": "https://localhost:8080/",
          "height": 0
        },
        "id": "92XR_rcyXGFi",
        "outputId": "52f38112-694f-450a-bbe7-812ac3ea02f3"
      },
      "execution_count": 580,
      "outputs": [
        {
          "output_type": "execute_result",
          "data": {
            "text/plain": [
              "array([[list([[1, 0, 0, 1], [1, 0, 1, 0], [1, 1, 0, 0], [1, 0, 1, 0], [1, 0, 0, 1]]),\n",
              "        0.1],\n",
              "       [list([[1, 0, 0, 1], [1, 0, 0, 1], [1, 1, 1, 1], [1, 0, 0, 1], [1, 0, 0, 1]]),\n",
              "        0.3],\n",
              "       [list([[1, 1, 1, 1], [1, 0, 0, 0], [1, 0, 0, 0], [1, 0, 0, 0], [1, 0, 0, 0]]),\n",
              "        0.5],\n",
              "       ...,\n",
              "       [list([[1, 1, 1, 1], [1, 0, 0, 0], [1, 0, 0, 0], [1, 0, 0, 0], [1, 0, 0, 0]]),\n",
              "        0.5],\n",
              "       [list([[1, 1, 1, 1], [1, 0, 0, 0], [1, 1, 1, 0], [1, 0, 0, 0], [1, 1, 1, 1]]),\n",
              "        0.7],\n",
              "       [list([[1, 1, 1, 1], [1, 0, 0, 1], [1, 0, 0, 1], [1, 0, 0, 1], [1, 1, 1, 1]]),\n",
              "        1]], dtype=object)"
            ]
          },
          "metadata": {},
          "execution_count": 580
        }
      ]
    },
    {
      "cell_type": "code",
      "source": [
        "x = np.array([np.array(i[0]).reshape(20,) for i in dataset])\n",
        "y = np.array([i[1] for i in dataset])"
      ],
      "metadata": {
        "id": "PgIqT8rLXY2c"
      },
      "execution_count": 581,
      "outputs": []
    },
    {
      "cell_type": "code",
      "source": [
        "x"
      ],
      "metadata": {
        "colab": {
          "base_uri": "https://localhost:8080/",
          "height": 0
        },
        "id": "H-bcB2RNXy7D",
        "outputId": "e2359764-5503-47f6-fbdb-e4c445161a4a"
      },
      "execution_count": 582,
      "outputs": [
        {
          "output_type": "execute_result",
          "data": {
            "text/plain": [
              "array([[1, 0, 0, ..., 0, 0, 1],\n",
              "       [1, 0, 0, ..., 0, 0, 1],\n",
              "       [1, 1, 1, ..., 0, 0, 0],\n",
              "       ...,\n",
              "       [1, 1, 1, ..., 0, 0, 0],\n",
              "       [1, 1, 1, ..., 1, 1, 1],\n",
              "       [1, 1, 1, ..., 1, 1, 1]])"
            ]
          },
          "metadata": {},
          "execution_count": 582
        }
      ]
    },
    {
      "cell_type": "code",
      "source": [
        "y"
      ],
      "metadata": {
        "colab": {
          "base_uri": "https://localhost:8080/",
          "height": 0
        },
        "id": "IxNVQ2fFX_VW",
        "outputId": "154353e7-c8b5-4dc4-db93-a6a6f5d61cc7"
      },
      "execution_count": 583,
      "outputs": [
        {
          "output_type": "execute_result",
          "data": {
            "text/plain": [
              "array([0.1, 0.3, 0.5, ..., 0.5, 0.7, 1. ])"
            ]
          },
          "metadata": {},
          "execution_count": 583
        }
      ]
    },
    {
      "cell_type": "code",
      "source": [
        "translate = {\n",
        "    0.1: \"К\",\n",
        "    0.3: \"Н\",\n",
        "    0.5: \"Г\",\n",
        "    0.7: \"Е\",\n",
        "    1: \"О\",\n",
        "}"
      ],
      "metadata": {
        "id": "P-KPcrbxYD7k"
      },
      "execution_count": 584,
      "outputs": []
    },
    {
      "cell_type": "code",
      "source": [
        "random_value = dataset[55]\n",
        "print(translate[random_value[1]])\n",
        "np.array(random_value[0])"
      ],
      "metadata": {
        "colab": {
          "base_uri": "https://localhost:8080/",
          "height": 0
        },
        "id": "YavI6rnRYYkX",
        "outputId": "491afd39-1c52-4744-d4fb-22af3b3ee6bf"
      },
      "execution_count": 585,
      "outputs": [
        {
          "output_type": "stream",
          "name": "stdout",
          "text": [
            "К\n"
          ]
        },
        {
          "output_type": "execute_result",
          "data": {
            "text/plain": [
              "array([[1, 0, 0, 1],\n",
              "       [1, 0, 1, 0],\n",
              "       [1, 1, 0, 0],\n",
              "       [1, 0, 1, 0],\n",
              "       [1, 0, 0, 1]])"
            ]
          },
          "metadata": {},
          "execution_count": 585
        }
      ]
    },
    {
      "cell_type": "code",
      "source": [
        "model = keras.Sequential([keras.layers.Dense(20, activation='tanh', kernel_regularizer=regularizers.l2(l2=0.005)),\n",
        "                          keras.layers.Dense(1, activation='tanh')])"
      ],
      "metadata": {
        "id": "hZDNzuXQY4Vo"
      },
      "execution_count": 586,
      "outputs": []
    },
    {
      "cell_type": "code",
      "source": [
        "model.compile(optimizer='adam',\n",
        "              loss=tf.keras.losses.BinaryCrossentropy(),\n",
        "              metrics=['accuracy'])"
      ],
      "metadata": {
        "id": "prHulQlebKbi"
      },
      "execution_count": 587,
      "outputs": []
    },
    {
      "cell_type": "code",
      "source": [
        "model.fit(x, y, epochs=5);"
      ],
      "metadata": {
        "colab": {
          "base_uri": "https://localhost:8080/",
          "height": 0
        },
        "id": "c1fZXk9wbWlD",
        "outputId": "04da8bb8-8847-40ba-f470-1bd9948bc6ba"
      },
      "execution_count": 588,
      "outputs": [
        {
          "output_type": "stream",
          "name": "stdout",
          "text": [
            "Epoch 1/5\n",
            "157/157 [==============================] - 1s 4ms/step - loss: 0.7573 - accuracy: 0.1848\n",
            "Epoch 2/5\n",
            "157/157 [==============================] - 1s 4ms/step - loss: 0.5615 - accuracy: 0.2000\n",
            "Epoch 3/5\n",
            "157/157 [==============================] - 1s 4ms/step - loss: 0.5414 - accuracy: 0.2000\n",
            "Epoch 4/5\n",
            "157/157 [==============================] - 1s 4ms/step - loss: 0.5293 - accuracy: 0.2000\n",
            "Epoch 5/5\n",
            "157/157 [==============================] - 1s 4ms/step - loss: 0.5209 - accuracy: 0.2000\n"
          ]
        }
      ]
    },
    {
      "cell_type": "code",
      "source": [
        "test_size = 10000\n",
        "test = []\n",
        "\n",
        "for i in range(test_size):\n",
        "  test.append((K, 0.1))\n",
        "  test.append((H, 0.3))\n",
        "  test.append((G_r, 0.5))\n",
        "  test.append((E, 0.7))\n",
        "  test.append((O, 1))\n",
        "\n",
        "test = np.array(test)"
      ],
      "metadata": {
        "colab": {
          "base_uri": "https://localhost:8080/",
          "height": 0
        },
        "id": "guUBXhuEcH1-",
        "outputId": "97069c27-6e3a-4301-86f6-4368d73c96b3"
      },
      "execution_count": 589,
      "outputs": [
        {
          "output_type": "stream",
          "name": "stderr",
          "text": [
            "/usr/local/lib/python3.7/dist-packages/ipykernel_launcher.py:11: VisibleDeprecationWarning: Creating an ndarray from ragged nested sequences (which is a list-or-tuple of lists-or-tuples-or ndarrays with different lengths or shapes) is deprecated. If you meant to do this, you must specify 'dtype=object' when creating the ndarray\n",
            "  # This is added back by InteractiveShellApp.init_path()\n"
          ]
        }
      ]
    },
    {
      "cell_type": "code",
      "source": [
        "def output(value, outline_error=0.1):\n",
        "  for kv in translate.items():\n",
        "    if np.abs(value - kv[0]) < outline_error:\n",
        "      return kv[1]"
      ],
      "metadata": {
        "id": "c_2Y5z2LfL3b"
      },
      "execution_count": 590,
      "outputs": []
    },
    {
      "cell_type": "code",
      "source": [
        "test_x = np.array([np.array(i[0]).reshape(20,) for i in test])\n",
        "test_y = np.array([i[1] for i in test])"
      ],
      "metadata": {
        "id": "rootxy8BgDKe"
      },
      "execution_count": 591,
      "outputs": []
    },
    {
      "cell_type": "code",
      "source": [
        "predicted_x = model.predict(test_x)"
      ],
      "metadata": {
        "id": "1XSWbgkngQfB"
      },
      "execution_count": 592,
      "outputs": []
    },
    {
      "cell_type": "code",
      "source": [
        "current_predicts = 0\n",
        "for i in range(test_size):\n",
        "  if i % 1003 == 0:\n",
        "    print(f\"{i}) predicted={output(predicted_x[i], 0.1)}, real={translate[test_y[i]]}\")\n",
        "  if output(predicted_x[i], 0.1) == translate[test_y[i]]:\n",
        "    current_predicts += 1\n",
        "print(f\"Test size: {test_size}, Currect predictions: {current_predicts}\")\n",
        "print(f\"Test accuracy: {np.round(current_predicts/test_size*100, 2)}%\")"
      ],
      "metadata": {
        "colab": {
          "base_uri": "https://localhost:8080/",
          "height": 0
        },
        "id": "D5GaU91igVal",
        "outputId": "d30d5c03-5bc1-4e59-c034-361b25f4e90f"
      },
      "execution_count": 594,
      "outputs": [
        {
          "output_type": "stream",
          "name": "stdout",
          "text": [
            "0) predicted=К, real=К\n",
            "1003) predicted=Е, real=Е\n",
            "2006) predicted=Н, real=Н\n",
            "3009) predicted=О, real=О\n",
            "4012) predicted=Г, real=Г\n",
            "5015) predicted=К, real=К\n",
            "6018) predicted=Е, real=Е\n",
            "7021) predicted=Н, real=Н\n",
            "8024) predicted=О, real=О\n",
            "9027) predicted=Г, real=Г\n",
            "Test size: 10000, Currect predictions: 10000\n",
            "Test accuracy: 100.0%\n"
          ]
        }
      ]
    }
  ]
}