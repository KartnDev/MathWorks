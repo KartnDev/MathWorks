{
  "nbformat": 4,
  "nbformat_minor": 0,
  "metadata": {
    "colab": {
      "name": "Task12.ipynb",
      "provenance": [],
      "collapsed_sections": [],
      "authorship_tag": "ABX9TyPzq/kmkjQolloJI4NrJdsV",
      "include_colab_link": true
    },
    "kernelspec": {
      "name": "python3",
      "display_name": "Python 3"
    },
    "language_info": {
      "name": "python"
    },
    "accelerator": "GPU"
  },
  "cells": [
    {
      "cell_type": "markdown",
      "metadata": {
        "id": "view-in-github",
        "colab_type": "text"
      },
      "source": [
        "<a href=\"https://colab.research.google.com/github/KartonDCP/MathWorks/blob/master/Task12.ipynb\" target=\"_parent\"><img src=\"https://colab.research.google.com/assets/colab-badge.svg\" alt=\"Open In Colab\"/></a>"
      ]
    },
    {
      "cell_type": "markdown",
      "source": [
        "# Вариант 5\n",
        "## Разработать, обучить и исследовать нейронную сеть, предназначенную для прогнозирования зависимости y=f(x), представленную в виде функции:\n",
        "\n",
        " \n",
        "5. $y=logxsin(10x)$, $1 <= x <= 2$"
      ],
      "metadata": {
        "id": "llFK9wVVP6oT"
      }
    },
    {
      "cell_type": "code",
      "execution_count": 40,
      "metadata": {
        "id": "OlqpuZy0Pz0V"
      },
      "outputs": [],
      "source": [
        "import numpy as np\n",
        "import pandas as pd\n",
        "import matplotlib.pyplot as plt\n",
        "import tensorflow as tf\n",
        "from tensorflow import keras as keras\n",
        "from tensorflow.keras import regularizers\n",
        "from keras.layers import *"
      ]
    },
    {
      "cell_type": "code",
      "source": [
        "x = np.arange(1, 2, 0.000001)\n",
        "y = np.log(x) * np.sin(10 * x)"
      ],
      "metadata": {
        "id": "trizJACtQTDq"
      },
      "execution_count": 41,
      "outputs": []
    },
    {
      "cell_type": "code",
      "source": [
        "plt.plot(x, y)"
      ],
      "metadata": {
        "colab": {
          "base_uri": "https://localhost:8080/",
          "height": 282
        },
        "id": "OwFCskC9QTLL",
        "outputId": "eae6db5d-ac8d-4c49-f875-aec4d6edb049"
      },
      "execution_count": 42,
      "outputs": [
        {
          "output_type": "execute_result",
          "data": {
            "text/plain": [
              "[<matplotlib.lines.Line2D at 0x7fc3d5ce8510>]"
            ]
          },
          "metadata": {},
          "execution_count": 42
        },
        {
          "output_type": "display_data",
          "data": {
            "image/png": "[encoded data removed]",
            "text/plain": [
              "<Figure size 432x288 with 1 Axes>"
            ]
          },
          "metadata": {
            "needs_background": "light"
          }
        }
      ]
    },
    {
      "cell_type": "code",
      "source": [
        "model = keras.Sequential()\n",
        "model.add(Dense(16, activation='linear', input_shape = (1,)))\n",
        "model.add(Dense(5, activation='tanh'))\n",
        "model.add(Dense(2, activation='tanh'))\n",
        "model.add(Dense(1))\n",
        "\n",
        "optimizer = keras.optimizers.Adam(lr=0.01)\n",
        "model.compile(loss='mse',\n",
        "              optimizer=optimizer)"
      ],
      "metadata": {
        "colab": {
          "base_uri": "https://localhost:8080/",
          "height": 0
        },
        "id": "x3n5EnQXQTP8",
        "outputId": "c46f45ac-fb71-4850-86f0-f384ca3cb819"
      },
      "execution_count": 43,
      "outputs": [
        {
          "output_type": "stream",
          "name": "stderr",
          "text": [
            "/usr/local/lib/python3.7/dist-packages/keras/optimizer_v2/adam.py:105: UserWarning: The `lr` argument is deprecated, use `learning_rate` instead.\n",
            "  super(Adam, self).__init__(name, **kwargs)\n"
          ]
        }
      ]
    },
    {
      "cell_type": "code",
      "source": [
        "model.fit(x, y, epochs=6)"
      ],
      "metadata": {
        "colab": {
          "base_uri": "https://localhost:8080/",
          "height": 0
        },
        "id": "DM2mLgtUlpnY",
        "outputId": "70e83d34-158a-4140-c6c5-056f33b90d79"
      },
      "execution_count": 46,
      "outputs": [
        {
          "output_type": "stream",
          "name": "stdout",
          "text": [
            "Epoch 1/6\n",
            "31250/31250 [==============================] - 85s 3ms/step - loss: 1.1126e-04\n",
            "Epoch 2/6\n",
            "31250/31250 [==============================] - 83s 3ms/step - loss: 6.6931e-05\n",
            "Epoch 3/6\n",
            "31250/31250 [==============================] - 86s 3ms/step - loss: 5.6593e-05\n",
            "Epoch 4/6\n",
            "31250/31250 [==============================] - 84s 3ms/step - loss: 4.3070e-05\n",
            "Epoch 5/6\n",
            "31250/31250 [==============================] - 89s 3ms/step - loss: 4.0670e-05\n",
            "Epoch 6/6\n",
            "31250/31250 [==============================] - 90s 3ms/step - loss: 4.0473e-05\n"
          ]
        },
        {
          "output_type": "execute_result",
          "data": {
            "text/plain": [
              "<keras.callbacks.History at 0x7fc3d5b7a910>"
            ]
          },
          "metadata": {},
          "execution_count": 46
        }
      ]
    },
    {
      "cell_type": "code",
      "source": [
        "x= np.arange(1, 2, 0.0001)\n",
        "y = np.log(x) * np.sin(10 * x)\n",
        "predict = model.predict(x)"
      ],
      "metadata": {
        "id": "pk8igrmqQTU_"
      },
      "execution_count": 49,
      "outputs": []
    },
    {
      "cell_type": "code",
      "source": [
        "plt.plot(x, predict, label='predict')\n",
        "plt.plot(x, y, label='real')\n",
        "plt.legend()"
      ],
      "metadata": {
        "colab": {
          "base_uri": "https://localhost:8080/",
          "height": 282
        },
        "id": "JvsKH3FOWE4p",
        "outputId": "e8ce5a13-9e80-4e7b-f791-7bb358365dc7"
      },
      "execution_count": 50,
      "outputs": [
        {
          "output_type": "execute_result",
          "data": {
            "text/plain": [
              "<matplotlib.legend.Legend at 0x7fc3d5a7af50>"
            ]
          },
          "metadata": {},
          "execution_count": 50
        },
        {
          "output_type": "display_data",
          "data": {
            "image/png": "[encoded data removed]",
            "text/plain": [
              "<Figure size 432x288 with 1 Axes>"
            ]
          },
          "metadata": {
            "needs_background": "light"
          }
        }
      ]
    },
    {
      "cell_type": "markdown",
      "source": [
        "# Наша сеть обучилась невероятно точно на тренировочных данных"
      ],
      "metadata": {
        "id": "ERDGRLsZzEBg"
      }
    },
    {
      "cell_type": "markdown",
      "source": [
        "# Пусть сеть предсткажет интервал [1.95 2.05]\n"
      ],
      "metadata": {
        "id": "MR7XrlaL3KVW"
      }
    },
    {
      "cell_type": "code",
      "source": [
        "x= np.arange(1.95, 2.05, 0.0001)\n",
        "y = np.log(x) * np.sin(10 * x)\n",
        "predict = model.predict(x)\n",
        "plt.plot(x, predict, label='predict')\n",
        "plt.plot(x, y, label='real')\n",
        "plt.legend()"
      ],
      "metadata": {
        "colab": {
          "base_uri": "https://localhost:8080/",
          "height": 282
        },
        "id": "rQ2nt33Iz803",
        "outputId": "a7ee5cd6-9748-46ac-d1b6-38b465ec3c13"
      },
      "execution_count": 76,
      "outputs": [
        {
          "output_type": "execute_result",
          "data": {
            "text/plain": [
              "<matplotlib.legend.Legend at 0x7fc3d8821050>"
            ]
          },
          "metadata": {},
          "execution_count": 76
        },
        {
          "output_type": "display_data",
          "data": {
            "image/png": "[encoded data removed]",
            "text/plain": [
              "<Figure size 432x288 with 1 Axes>"
            ]
          },
          "metadata": {
            "needs_background": "light"
          }
        }
      ]
    }
  ]
}