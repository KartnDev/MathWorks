{
  "nbformat": 4,
  "nbformat_minor": 0,
  "metadata": {
    "colab": {
      "name": "Copy of Task7part2.ipynb",
      "provenance": [],
      "authorship_tag": "ABX9TyN46PfvUhtTnsM4B0L645i9",
      "include_colab_link": true
    },
    "kernelspec": {
      "name": "python3",
      "display_name": "Python 3"
    },
    "language_info": {
      "name": "python"
    },
    "accelerator": "GPU"
  },
  "cells": [
    {
      "cell_type": "markdown",
      "metadata": {
        "id": "view-in-github",
        "colab_type": "text"
      },
      "source": [
        "<a href=\"https://colab.research.google.com/github/KartonDCP/MathWorks/blob/master/Copy_of_Task7part2.ipynb\" target=\"_parent\"><img src=\"https://colab.research.google.com/assets/colab-badge.svg\" alt=\"Open In Colab\"/></a>"
      ]
    },
    {
      "cell_type": "code",
      "metadata": {
        "id": "4pEeZ_0iQfYs"
      },
      "source": [
        "import numpy as np\n",
        "import pandas as pd\n",
        "import matplotlib.pyplot as plt\n",
        "import tensorflow as tf\n",
        "from tensorflow import keras as keras\n",
        "from tensorflow.keras import regularizers"
      ],
      "execution_count": null,
      "outputs": []
    },
    {
      "cell_type": "markdown",
      "metadata": {
        "id": "nc4rPglpTJEQ"
      },
      "source": [
        "# Вариант 6\n",
        "## С помощью аппроксимирующей НС найти корень уравнения $ 0.5^{x^2} * 2^{2x+2} = 64^{-1} $ с абсолютной погрешностью не более $10^{-3}$\n",
        "\n",
        "\n"
      ]
    },
    {
      "cell_type": "code",
      "metadata": {
        "id": "3mOx2mvpR8jA"
      },
      "source": [
        "x = np.arange(-3, 5, 0.0001)\n",
        "func = lambda x: (0.5**(x**2)) * (2**(2*x+2))\n",
        "y = func(x)\n",
        "y_val = 1.0/64"
      ],
      "execution_count": null,
      "outputs": []
    },
    {
      "cell_type": "code",
      "metadata": {
        "colab": {
          "base_uri": "https://localhost:8080/",
          "height": 265
        },
        "id": "3JShJ2jPShGf",
        "outputId": "b77684bb-7b6a-4345-8a90-f88a866f80a3"
      },
      "source": [
        "plt.plot(x, y)\n",
        "plt.plot(x, np.ones(x.shape) * y_val);"
      ],
      "execution_count": null,
      "outputs": [
        {
          "output_type": "display_data",
          "data": {
            "image/png": "[encoded data removed]",
            "text/plain": [
              "<Figure size 432x288 with 1 Axes>"
            ]
          },
          "metadata": {
            "needs_background": "light"
          }
        }
      ]
    },
    {
      "cell_type": "markdown",
      "metadata": {
        "id": "GAEd4AVSUv6y"
      },
      "source": [
        "# Отсюда видно, что корень находится в промежутке [-2.1 -1.9] и второй в [3.8 4.1]"
      ]
    },
    {
      "cell_type": "code",
      "metadata": {
        "id": "NW1hhDtrU7b7"
      },
      "source": [
        "model = keras.Sequential()\n",
        "model.add(keras.layers.Dense(10, input_dim=1, activation='sigmoid', kernel_initializer='he_uniform'))\n",
        "model.add(keras.layers.Dense(10, activation='sigmoid', kernel_initializer='he_uniform'))\n",
        "model.add(keras.layers.Dense(1))\n",
        "model.compile(loss='mse', optimizer='adam')"
      ],
      "execution_count": null,
      "outputs": []
    },
    {
      "cell_type": "code",
      "metadata": {
        "id": "_K6kInE8jVdz",
        "colab": {
          "base_uri": "https://localhost:8080/"
        },
        "outputId": "8b20eb51-2bd6-4b41-cd52-3f14ca77ca84"
      },
      "source": [
        "train_x = np.arange(-2.1, -1.9, 0.0001)\n",
        "train_y = func(train_x)\n",
        "print(train_x)\n",
        "print(train_y)"
      ],
      "execution_count": null,
      "outputs": [
        {
          "output_type": "stream",
          "name": "stdout",
          "text": [
            "[-2.1    -2.0999 -2.0998 ... -1.9002 -1.9001 -1.9   ]\n",
            "[0.01023745 0.01024185 0.01024625 ... 0.02350058 0.02351003 0.02351948]\n"
          ]
        }
      ]
    },
    {
      "cell_type": "code",
      "metadata": {
        "colab": {
          "base_uri": "https://localhost:8080/"
        },
        "id": "gU41Sa1FfJmr",
        "outputId": "d6f1b68d-1f0b-4b0d-c640-941f681423f4"
      },
      "source": [
        "model.fit(train_y, train_x, epochs=50);"
      ],
      "execution_count": null,
      "outputs": [
        {
          "output_type": "stream",
          "name": "stdout",
          "text": [
            "Epoch 1/50\n",
            "63/63 [==============================] - 0s 2ms/step - loss: 5.3622\n",
            "Epoch 2/50\n",
            "63/63 [==============================] - 0s 1ms/step - loss: 3.1631\n",
            "Epoch 3/50\n",
            "63/63 [==============================] - 0s 2ms/step - loss: 1.7579\n",
            "Epoch 4/50\n",
            "63/63 [==============================] - 0s 2ms/step - loss: 0.8916\n",
            "Epoch 5/50\n",
            "63/63 [==============================] - 0s 2ms/step - loss: 0.4031\n",
            "Epoch 6/50\n",
            "63/63 [==============================] - 0s 2ms/step - loss: 0.1608\n",
            "Epoch 7/50\n",
            "63/63 [==============================] - 0s 2ms/step - loss: 0.0571\n",
            "Epoch 8/50\n",
            "63/63 [==============================] - 0s 2ms/step - loss: 0.0193\n",
            "Epoch 9/50\n",
            "63/63 [==============================] - 0s 2ms/step - loss: 0.0074\n",
            "Epoch 10/50\n",
            "63/63 [==============================] - 0s 1ms/step - loss: 0.0043\n",
            "Epoch 11/50\n",
            "63/63 [==============================] - 0s 2ms/step - loss: 0.0035\n",
            "Epoch 12/50\n",
            "63/63 [==============================] - 0s 2ms/step - loss: 0.0034\n",
            "Epoch 13/50\n",
            "63/63 [==============================] - 0s 1ms/step - loss: 0.0033\n",
            "Epoch 14/50\n",
            "63/63 [==============================] - 0s 2ms/step - loss: 0.0033\n",
            "Epoch 15/50\n",
            "63/63 [==============================] - 0s 2ms/step - loss: 0.0033\n",
            "Epoch 16/50\n",
            "63/63 [==============================] - 0s 1ms/step - loss: 0.0033\n",
            "Epoch 17/50\n",
            "63/63 [==============================] - 0s 2ms/step - loss: 0.0033\n",
            "Epoch 18/50\n",
            "63/63 [==============================] - 0s 2ms/step - loss: 0.0033\n",
            "Epoch 19/50\n",
            "63/63 [==============================] - 0s 2ms/step - loss: 0.0033\n",
            "Epoch 20/50\n",
            "63/63 [==============================] - 0s 2ms/step - loss: 0.0033\n",
            "Epoch 21/50\n",
            "63/63 [==============================] - 0s 1ms/step - loss: 0.0033\n",
            "Epoch 22/50\n",
            "63/63 [==============================] - 0s 1ms/step - loss: 0.0033\n",
            "Epoch 23/50\n",
            "63/63 [==============================] - 0s 2ms/step - loss: 0.0033\n",
            "Epoch 24/50\n",
            "63/63 [==============================] - 0s 2ms/step - loss: 0.0033\n",
            "Epoch 25/50\n",
            "63/63 [==============================] - 0s 2ms/step - loss: 0.0033\n",
            "Epoch 26/50\n",
            "63/63 [==============================] - 0s 1ms/step - loss: 0.0033\n",
            "Epoch 27/50\n",
            "63/63 [==============================] - 0s 2ms/step - loss: 0.0033\n",
            "Epoch 28/50\n",
            "63/63 [==============================] - 0s 1ms/step - loss: 0.0033\n",
            "Epoch 29/50\n",
            "63/63 [==============================] - 0s 1ms/step - loss: 0.0033\n",
            "Epoch 30/50\n",
            "63/63 [==============================] - 0s 2ms/step - loss: 0.0033\n",
            "Epoch 31/50\n",
            "63/63 [==============================] - 0s 1ms/step - loss: 0.0033\n",
            "Epoch 32/50\n",
            "63/63 [==============================] - 0s 1ms/step - loss: 0.0033\n",
            "Epoch 33/50\n",
            "63/63 [==============================] - 0s 1ms/step - loss: 0.0033\n",
            "Epoch 34/50\n",
            "63/63 [==============================] - 0s 1ms/step - loss: 0.0033\n",
            "Epoch 35/50\n",
            "63/63 [==============================] - 0s 1ms/step - loss: 0.0033\n",
            "Epoch 36/50\n",
            "63/63 [==============================] - 0s 2ms/step - loss: 0.0033\n",
            "Epoch 37/50\n",
            "63/63 [==============================] - 0s 2ms/step - loss: 0.0033\n",
            "Epoch 38/50\n",
            "63/63 [==============================] - 0s 1ms/step - loss: 0.0033\n",
            "Epoch 39/50\n",
            "63/63 [==============================] - 0s 1ms/step - loss: 0.0033\n",
            "Epoch 40/50\n",
            "63/63 [==============================] - 0s 1ms/step - loss: 0.0033\n",
            "Epoch 41/50\n",
            "63/63 [==============================] - 0s 1ms/step - loss: 0.0033\n",
            "Epoch 42/50\n",
            "63/63 [==============================] - 0s 1ms/step - loss: 0.0033\n",
            "Epoch 43/50\n",
            "63/63 [==============================] - 0s 2ms/step - loss: 0.0033\n",
            "Epoch 44/50\n",
            "63/63 [==============================] - 0s 2ms/step - loss: 0.0033\n",
            "Epoch 45/50\n",
            "63/63 [==============================] - 0s 1ms/step - loss: 0.0033\n",
            "Epoch 46/50\n",
            "63/63 [==============================] - 0s 2ms/step - loss: 0.0033\n",
            "Epoch 47/50\n",
            "63/63 [==============================] - 0s 2ms/step - loss: 0.0033\n",
            "Epoch 48/50\n",
            "63/63 [==============================] - 0s 1ms/step - loss: 0.0033\n",
            "Epoch 49/50\n",
            "63/63 [==============================] - 0s 2ms/step - loss: 0.0033\n",
            "Epoch 50/50\n",
            "63/63 [==============================] - 0s 1ms/step - loss: 0.0033\n"
          ]
        }
      ]
    },
    {
      "cell_type": "code",
      "metadata": {
        "colab": {
          "base_uri": "https://localhost:8080/"
        },
        "id": "A6fwZFVfgnqR",
        "outputId": "32cb7b88-e099-4261-ce2d-8c3ebc650b9a"
      },
      "source": [
        "result = model.predict([1.0/64])\n",
        "print(result)"
      ],
      "execution_count": null,
      "outputs": [
        {
          "output_type": "stream",
          "name": "stdout",
          "text": [
            "[[-2.0013046]]\n"
          ]
        }
      ]
    },
    {
      "cell_type": "markdown",
      "metadata": {
        "id": "o0AI6jvOsiWT"
      },
      "source": [
        "# Получили реальное решение с точностью выше $10^{-3}$\n",
        "# Один из корней уравнения - 2\n",
        "# Напишем функцию которая дает численное решение уравнения на интервале"
      ]
    },
    {
      "cell_type": "code",
      "metadata": {
        "id": "ApHQ0pWThi7N"
      },
      "source": [
        "def solve(inverval_left, interval_right):\n",
        "  model = keras.Sequential()\n",
        "  model.add(keras.layers.Dense(10, input_dim=1, activation='sigmoid', kernel_initializer='he_uniform'))\n",
        "  model.add(keras.layers.Dense(10, activation='relu', kernel_initializer='he_uniform'))\n",
        "  model.add(keras.layers.Dense(1))\n",
        "  model.compile(loss='mse', optimizer='adam')\n",
        "  left_value = [1.0/64]\n",
        "  train_x = np.arange(inverval_left, interval_right, 0.00005)\n",
        "  train_y = func(train_x)\n",
        "  model.fit(train_y, train_x, epochs=50, verbose=0);\n",
        "  result = model.predict(left_value)[0][0]\n",
        "  return result"
      ],
      "execution_count": null,
      "outputs": []
    },
    {
      "cell_type": "code",
      "metadata": {
        "id": "isWpDtl00uA0",
        "colab": {
          "base_uri": "https://localhost:8080/"
        },
        "outputId": "61066670-30a0-43f3-e110-e6513d5e086a"
      },
      "source": [
        "solve(-2.1, -1.9) # Реальный корень -2"
      ],
      "execution_count": null,
      "outputs": [
        {
          "output_type": "execute_result",
          "data": {
            "text/plain": [
              "-2.0002413"
            ]
          },
          "metadata": {},
          "execution_count": 246
        }
      ]
    },
    {
      "cell_type": "code",
      "metadata": {
        "id": "GaesrMso4MYN",
        "colab": {
          "base_uri": "https://localhost:8080/"
        },
        "outputId": "94ec8f0b-1358-446a-df5d-e2c405d3bce9"
      },
      "source": [
        "solve(3.9, 4.1) # Реальный корень 4"
      ],
      "execution_count": null,
      "outputs": [
        {
          "output_type": "execute_result",
          "data": {
            "text/plain": [
              "4.0044923"
            ]
          },
          "metadata": {},
          "execution_count": 247
        }
      ]
    }
  ]
}