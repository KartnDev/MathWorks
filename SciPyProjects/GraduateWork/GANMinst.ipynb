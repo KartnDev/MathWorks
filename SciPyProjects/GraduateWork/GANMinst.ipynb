{
 "cells": [
  {
   "cell_type": "code",
   "execution_count": 1,
   "metadata": {
    "collapsed": true
   },
   "outputs": [],
   "source": [
    "import matplotlib.pyplot as plt\n",
    "import torch\n",
    "import torchvision\n",
    "import torchvision.transforms as transforms\n",
    "from torch import nn"
   ]
  },
  {
   "cell_type": "code",
   "execution_count": 2,
   "outputs": [
    {
     "data": {
      "text/plain": "<torch._C.Generator at 0x7faa20b1eab0>"
     },
     "execution_count": 2,
     "metadata": {},
     "output_type": "execute_result"
    }
   ],
   "source": [
    "torch.manual_seed(111)"
   ],
   "metadata": {
    "collapsed": false,
    "pycharm": {
     "name": "#%%\n"
    }
   }
  },
  {
   "cell_type": "code",
   "execution_count": 3,
   "outputs": [],
   "source": [
    "device = \"\"\n",
    "if torch.cuda.is_available():\n",
    "    device = torch.device(\"cuda\")\n",
    "else:\n",
    "    device = torch.device(\"cpu\")\n",
    "torch.set_num_threads(16)"
   ],
   "metadata": {
    "collapsed": false,
    "pycharm": {
     "name": "#%%\n"
    }
   }
  },
  {
   "cell_type": "code",
   "execution_count": 4,
   "outputs": [],
   "source": [
    "transform = transforms.Compose([transforms.ToTensor(), transforms.Normalize((0.5,), (0.5,))])"
   ],
   "metadata": {
    "collapsed": false,
    "pycharm": {
     "name": "#%%\n"
    }
   }
  },
  {
   "cell_type": "code",
   "execution_count": 5,
   "outputs": [],
   "source": [
    "train_set = torchvision.datasets.MNIST(root=\".\", train=True, download=True, transform=transform)"
   ],
   "metadata": {
    "collapsed": false,
    "pycharm": {
     "name": "#%%\n"
    }
   }
  },
  {
   "cell_type": "code",
   "execution_count": 6,
   "outputs": [],
   "source": [
    "batch_size = 32\n",
    "train_loader = torch.utils.data.DataLoader(train_set, batch_size=batch_size, shuffle=True)"
   ],
   "metadata": {
    "collapsed": false,
    "pycharm": {
     "name": "#%%\n"
    }
   }
  },
  {
   "cell_type": "code",
   "execution_count": 7,
   "outputs": [
    {
     "data": {
      "text/plain": "<Figure size 432x288 with 16 Axes>",
      "image/png": "[encoded data removed]"
     },
     "metadata": {},
     "output_type": "display_data"
    }
   ],
   "source": [
    "real_samples, mnist_labels = next(iter(train_loader))\n",
    "for i in range(16):\n",
    "    ax = plt.subplot(4, 4, i + 1)\n",
    "    plt.imshow(real_samples[i].reshape(28, 28), cmap=\"gray_r\")\n",
    "    plt.xticks([])\n",
    "    plt.yticks([])"
   ],
   "metadata": {
    "collapsed": false,
    "pycharm": {
     "name": "#%%\n"
    }
   }
  },
  {
   "cell_type": "code",
   "execution_count": 8,
   "outputs": [],
   "source": [
    "class Discriminator(nn.Module):\n",
    "    def __init__(self):\n",
    "        super().__init__()\n",
    "        self.model = nn.Sequential(\n",
    "            nn.Linear(784, 1024),\n",
    "            nn.ReLU(),\n",
    "            nn.Dropout(0.3),\n",
    "            nn.Linear(1024, 512),\n",
    "            nn.ReLU(),\n",
    "            nn.Dropout(0.3),\n",
    "            nn.Linear(512, 256),\n",
    "            nn.ReLU(),\n",
    "            nn.Dropout(0.3),\n",
    "            nn.Linear(256, 1),\n",
    "            nn.Sigmoid(),\n",
    "        )\n",
    "\n",
    "    def forward(self, x):\n",
    "        x = x.view(x.size(0), 784)\n",
    "        output = self.model(x)\n",
    "        return output"
   ],
   "metadata": {
    "collapsed": false,
    "pycharm": {
     "name": "#%%\n"
    }
   }
  },
  {
   "cell_type": "code",
   "execution_count": 9,
   "outputs": [],
   "source": [
    "class Generator(nn.Module):\n",
    "    def __init__(self):\n",
    "        super().__init__()\n",
    "        self.model = nn.Sequential(\n",
    "            nn.Linear(100, 256),\n",
    "            nn.ReLU(),\n",
    "            nn.Linear(256, 512),\n",
    "            nn.ReLU(),\n",
    "            nn.Linear(512, 1024),\n",
    "            nn.ReLU(),\n",
    "            nn.Linear(1024, 784),\n",
    "            nn.Tanh(),\n",
    "        )\n",
    "\n",
    "    def forward(self, x):\n",
    "        output = self.model(x)\n",
    "        output = output.view(x.size(0), 1, 28, 28)\n",
    "        return output"
   ],
   "metadata": {
    "collapsed": false,
    "pycharm": {
     "name": "#%%\n"
    }
   }
  },
  {
   "cell_type": "code",
   "execution_count": 10,
   "outputs": [],
   "source": [
    "generator = Generator().to(device=device)\n",
    "discriminator = Discriminator().to(device=device)"
   ],
   "metadata": {
    "collapsed": false,
    "pycharm": {
     "name": "#%%\n"
    }
   }
  },
  {
   "cell_type": "code",
   "execution_count": 11,
   "outputs": [],
   "source": [
    "lr = 0.0001\n",
    "num_epochs = 50\n",
    "loss_function = nn.BCELoss()\n",
    "\n",
    "optimizer_discriminator = torch.optim.Adam(discriminator.parameters(), lr=lr)\n",
    "optimizer_generator = torch.optim.Adam(generator.parameters(), lr=lr)"
   ],
   "metadata": {
    "collapsed": false,
    "pycharm": {
     "name": "#%%\n"
    }
   }
  },
  {
   "cell_type": "code",
   "execution_count": 12,
   "outputs": [
    {
     "name": "stdout",
     "output_type": "stream",
     "text": [
      "Epoch: 0 Loss D.: 0.5406770706176758\n",
      "Epoch: 0 Loss G.: 0.551925003528595\n",
      "Epoch: 1 Loss D.: 0.009983246214687824\n",
      "Epoch: 1 Loss G.: 6.007025241851807\n",
      "Epoch: 2 Loss D.: 0.01783660613000393\n",
      "Epoch: 2 Loss G.: 5.613433361053467\n",
      "Epoch: 3 Loss D.: 0.00043504522182047367\n",
      "Epoch: 3 Loss G.: 12.087265014648438\n",
      "Epoch: 4 Loss D.: 0.04591355100274086\n",
      "Epoch: 4 Loss G.: 4.9324846267700195\n",
      "Epoch: 5 Loss D.: 0.14933349192142487\n",
      "Epoch: 5 Loss G.: 4.127684593200684\n",
      "Epoch: 6 Loss D.: 0.06315147876739502\n",
      "Epoch: 6 Loss G.: 4.936400413513184\n",
      "Epoch: 7 Loss D.: 0.0\n",
      "Epoch: 7 Loss G.: 51.4395751953125\n",
      "Epoch: 8 Loss D.: 0.0036757916677743196\n",
      "Epoch: 8 Loss G.: 6.11959171295166\n",
      "Epoch: 9 Loss D.: 0.0\n",
      "Epoch: 9 Loss G.: 47.49930953979492\n",
      "Epoch: 10 Loss D.: 0.0\n",
      "Epoch: 10 Loss G.: 50.32887268066406\n",
      "Epoch: 11 Loss D.: 0.06494221836328506\n",
      "Epoch: 11 Loss G.: 7.8155341148376465\n",
      "Epoch: 12 Loss D.: 1.2857542060373817e-05\n",
      "Epoch: 12 Loss G.: 15.157013893127441\n",
      "Epoch: 13 Loss D.: 0.0\n",
      "Epoch: 13 Loss G.: 68.6679916381836\n",
      "Epoch: 14 Loss D.: 0.0\n",
      "Epoch: 14 Loss G.: 61.008880615234375\n",
      "Epoch: 15 Loss D.: 0.0\n",
      "Epoch: 15 Loss G.: 59.892574310302734\n",
      "Epoch: 16 Loss D.: 0.0\n",
      "Epoch: 16 Loss G.: 58.22454071044922\n",
      "Epoch: 17 Loss D.: 0.0\n",
      "Epoch: 17 Loss G.: 44.955509185791016\n",
      "Epoch: 18 Loss D.: 1.4901168299275014e-08\n",
      "Epoch: 18 Loss G.: 33.50166702270508\n",
      "Epoch: 19 Loss D.: 0.00015325119602493942\n",
      "Epoch: 19 Loss G.: 10.147239685058594\n",
      "Epoch: 20 Loss D.: 3.871639819408301e-06\n",
      "Epoch: 20 Loss G.: 16.217906951904297\n",
      "Epoch: 21 Loss D.: 4.08855953537568e-07\n",
      "Epoch: 21 Loss G.: 25.91815948486328\n",
      "Epoch: 22 Loss D.: 0.00047982108662836254\n",
      "Epoch: 22 Loss G.: 8.868528366088867\n",
      "Epoch: 23 Loss D.: 6.238187324925093e-06\n",
      "Epoch: 23 Loss G.: 15.520633697509766\n",
      "Epoch: 24 Loss D.: 6.649727879448619e-07\n",
      "Epoch: 24 Loss G.: 17.275676727294922\n",
      "Epoch: 25 Loss D.: 1.2479745237214956e-07\n",
      "Epoch: 25 Loss G.: 21.352161407470703\n",
      "Epoch: 26 Loss D.: 8.381904947896146e-09\n",
      "Epoch: 26 Loss G.: 24.727733612060547\n",
      "Epoch: 27 Loss D.: 0.0\n",
      "Epoch: 27 Loss G.: 33.64879608154297\n",
      "Epoch: 28 Loss D.: 0.0\n",
      "Epoch: 28 Loss G.: 38.00874710083008\n",
      "Epoch: 29 Loss D.: 0.0\n",
      "Epoch: 29 Loss G.: 34.78828430175781\n",
      "Epoch: 30 Loss D.: 0.0002419724769424647\n",
      "Epoch: 30 Loss G.: 14.102561950683594\n",
      "Epoch: 31 Loss D.: 4.060582909914956e-07\n",
      "Epoch: 31 Loss G.: 20.263662338256836\n",
      "Epoch: 32 Loss D.: 7.171199456479371e-08\n",
      "Epoch: 32 Loss G.: 27.319435119628906\n",
      "Epoch: 33 Loss D.: 0.0\n",
      "Epoch: 33 Loss G.: 42.061065673828125\n",
      "Epoch: 34 Loss D.: 0.0\n",
      "Epoch: 34 Loss G.: 46.18580627441406\n",
      "Epoch: 35 Loss D.: 0.0\n",
      "Epoch: 35 Loss G.: 44.52096176147461\n",
      "Epoch: 36 Loss D.: 0.00012491170491557568\n",
      "Epoch: 36 Loss G.: 11.246360778808594\n",
      "Epoch: 37 Loss D.: 1.0735838259279262e-05\n",
      "Epoch: 37 Loss G.: 11.595596313476562\n",
      "Epoch: 38 Loss D.: 3.4086491496054805e-07\n",
      "Epoch: 38 Loss G.: 19.873098373413086\n",
      "Epoch: 39 Loss D.: 2.9522985300900473e-07\n",
      "Epoch: 39 Loss G.: 18.342004776000977\n",
      "Epoch: 40 Loss D.: 7.720768735453021e-07\n",
      "Epoch: 40 Loss G.: 23.433687210083008\n",
      "Epoch: 41 Loss D.: 4.470350134511136e-08\n",
      "Epoch: 41 Loss G.: 19.9796085357666\n",
      "Epoch: 42 Loss D.: 2.3227503334055655e-06\n",
      "Epoch: 42 Loss G.: 15.17451000213623\n",
      "Epoch: 43 Loss D.: 1.862645149230957e-09\n",
      "Epoch: 43 Loss G.: 27.11615753173828\n",
      "Epoch: 44 Loss D.: 3.227210754630505e-06\n",
      "Epoch: 44 Loss G.: 14.371502876281738\n",
      "Epoch: 45 Loss D.: 1.0291241778759286e-06\n",
      "Epoch: 45 Loss G.: 17.149890899658203\n",
      "Epoch: 46 Loss D.: 3.911566182068782e-07\n",
      "Epoch: 46 Loss G.: 20.379369735717773\n",
      "Epoch: 47 Loss D.: 1.6102746940305224e-06\n",
      "Epoch: 47 Loss G.: 13.118467330932617\n",
      "Epoch: 48 Loss D.: 5.289920181894558e-07\n",
      "Epoch: 48 Loss G.: 15.3831787109375\n",
      "Epoch: 49 Loss D.: 1.0244551162941207e-07\n",
      "Epoch: 49 Loss G.: 16.62892723083496\n"
     ]
    }
   ],
   "source": [
    "for epoch in range(num_epochs):\n",
    "    for n, (real_samples, mnist_labels) in enumerate(train_loader):\n",
    "        # Data for training the discriminator\n",
    "        real_samples = real_samples.to(device=device)\n",
    "        real_samples_labels = torch.ones((batch_size, 1)).to(device=device)\n",
    "        latent_space_samples = torch.randn((batch_size, 100)).to(device=device)\n",
    "        generated_samples = generator(latent_space_samples)\n",
    "        generated_samples_labels = torch.zeros((batch_size, 1)).to(device=device)\n",
    "        all_samples = torch.cat((real_samples, generated_samples))\n",
    "        all_samples_labels = torch.cat((real_samples_labels, generated_samples_labels))\n",
    "\n",
    "        # Training the discriminator\n",
    "        discriminator.zero_grad()\n",
    "        output_discriminator = discriminator(all_samples)\n",
    "        loss_discriminator = loss_function(output_discriminator, all_samples_labels)\n",
    "        loss_discriminator.backward()\n",
    "        optimizer_discriminator.step()\n",
    "\n",
    "        # Data for training the generator\n",
    "        latent_space_samples = torch.randn((batch_size, 100)).to(device=device)\n",
    "\n",
    "        # Training the generator\n",
    "        generator.zero_grad()\n",
    "        generated_samples = generator(latent_space_samples)\n",
    "        output_discriminator_generated = discriminator(generated_samples)\n",
    "        loss_generator = loss_function(output_discriminator_generated, real_samples_labels)\n",
    "        loss_generator.backward()\n",
    "        optimizer_generator.step()\n",
    "\n",
    "        # Show loss\n",
    "        if n == batch_size - 1:\n",
    "            print(f\"Epoch: {epoch} Loss D.: {loss_discriminator}\")\n",
    "            print(f\"Epoch: {epoch} Loss G.: {loss_generator}\")"
   ],
   "metadata": {
    "collapsed": false,
    "pycharm": {
     "name": "#%%\n"
    }
   }
  },
  {
   "cell_type": "code",
   "execution_count": 13,
   "outputs": [],
   "source": [
    "latent_space_samples = torch.randn(batch_size, 100).to(device=device)\n",
    "generated_samples = generator(latent_space_samples)"
   ],
   "metadata": {
    "collapsed": false,
    "pycharm": {
     "name": "#%%\n"
    }
   }
  },
  {
   "cell_type": "code",
   "execution_count": 14,
   "outputs": [
    {
     "data": {
      "text/plain": "<Figure size 432x288 with 16 Axes>",
      "image/png": "[encoded data removed]"
     },
     "metadata": {},
     "output_type": "display_data"
    }
   ],
   "source": [
    "generated_samples = generated_samples.cpu().detach()\n",
    "for i in range(16):\n",
    "    ax = plt.subplot(4, 4, i + 1)\n",
    "    plt.imshow(generated_samples[i].reshape(28, 28), cmap=\"gray_r\")\n",
    "    plt.xticks([])\n",
    "    plt.yticks([])\n"
   ],
   "metadata": {
    "collapsed": false,
    "pycharm": {
     "name": "#%%\n"
    }
   }
  }
 ],
 "metadata": {
  "kernelspec": {
   "display_name": "Python 3",
   "language": "python",
   "name": "python3"
  },
  "language_info": {
   "codemirror_mode": {
    "name": "ipython",
    "version": 2
   },
   "file_extension": ".py",
   "mimetype": "text/x-python",
   "name": "python",
   "nbconvert_exporter": "python",
   "pygments_lexer": "ipython2",
   "version": "2.7.6"
  }
 },
 "nbformat": 4,
 "nbformat_minor": 0
}