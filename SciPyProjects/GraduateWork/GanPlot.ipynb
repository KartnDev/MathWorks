{
 "cells": [
  {
   "cell_type": "code",
   "execution_count": 1,
   "metadata": {
    "collapsed": true
   },
   "outputs": [],
   "source": [
    "import math\n",
    "\n",
    "import matplotlib.pyplot as plt\n",
    "import torch\n",
    "from torch import nn"
   ]
  },
  {
   "cell_type": "code",
   "execution_count": 3,
   "outputs": [
    {
     "data": {
      "text/plain": "<torch._C.Generator at 0x7fbc915e5990>"
     },
     "execution_count": 3,
     "metadata": {},
     "output_type": "execute_result"
    }
   ],
   "source": [
    "torch.manual_seed(111)"
   ],
   "metadata": {
    "collapsed": false,
    "pycharm": {
     "name": "#%%\n"
    }
   }
  },
  {
   "cell_type": "code",
   "execution_count": 4,
   "outputs": [],
   "source": [
    "train_data_length = 1024\n",
    "train_data = torch.zeros((train_data_length, 2))\n",
    "train_data[:, 0] = 2 * math.pi * torch.rand(train_data_length)\n",
    "train_data[:, 1] = torch.sin(train_data[:, 0])\n",
    "train_labels = torch.zeros(train_data_length)\n",
    "train_set = [(train_data[i], train_labels[i]) for i in range(train_data_length)]"
   ],
   "metadata": {
    "collapsed": false,
    "pycharm": {
     "name": "#%%\n"
    }
   }
  },
  {
   "cell_type": "code",
   "execution_count": 5,
   "outputs": [
    {
     "data": {
      "text/plain": "[<matplotlib.lines.Line2D at 0x7fbc95c4b6a0>]"
     },
     "execution_count": 5,
     "metadata": {},
     "output_type": "execute_result"
    },
    {
     "data": {
      "text/plain": "<Figure size 432x288 with 1 Axes>",
      "image/png": "[encoded data removed]"
     },
     "metadata": {
      "needs_background": "light"
     },
     "output_type": "display_data"
    }
   ],
   "source": [
    "plt.plot(train_data[:, 0], train_data[:, 1], \".\")"
   ],
   "metadata": {
    "collapsed": false,
    "pycharm": {
     "name": "#%%\n"
    }
   }
  },
  {
   "cell_type": "code",
   "execution_count": 6,
   "outputs": [],
   "source": [
    "batch_size = 32\n",
    "train_loader = torch.utils.data.DataLoader(train_set, batch_size=batch_size, shuffle=True)"
   ],
   "metadata": {
    "collapsed": false,
    "pycharm": {
     "name": "#%%\n"
    }
   }
  },
  {
   "cell_type": "code",
   "execution_count": 8,
   "outputs": [],
   "source": [
    "class Discriminator(nn.Module):\n",
    "\n",
    "    def __init__(self):\n",
    "        super().__init__()\n",
    "        self.model = nn.Sequential(\n",
    "            nn.Linear(2, 256),\n",
    "            nn.ReLU(),\n",
    "            nn.Dropout(0.3),\n",
    "            nn.Linear(256, 128),\n",
    "            nn.ReLU(),\n",
    "            nn.Dropout(0.3),\n",
    "            nn.Linear(128, 64),\n",
    "            nn.ReLU(),\n",
    "            nn.Dropout(0.3),\n",
    "            nn.Linear(64, 1),\n",
    "            nn.Sigmoid(),\n",
    "        )\n",
    "    def forward(self, x):\n",
    "        output = self.model(x)\n",
    "        return output"
   ],
   "metadata": {
    "collapsed": false,
    "pycharm": {
     "name": "#%%\n"
    }
   }
  },
  {
   "cell_type": "code",
   "execution_count": 11,
   "outputs": [],
   "source": [
    "class Generator(nn.Module):\n",
    "    def __init__(self):\n",
    "        super().__init__()\n",
    "        self.model = nn.Sequential(\n",
    "            nn.Linear(2, 16),\n",
    "            nn.ReLU(),\n",
    "            nn.Linear(16, 32),\n",
    "            nn.ReLU(),\n",
    "            nn.Linear(32, 2),\n",
    "        )\n",
    "\n",
    "\n",
    "    def forward(self, x):\n",
    "        output = self.model(x)\n",
    "        return output"
   ],
   "metadata": {
    "collapsed": false,
    "pycharm": {
     "name": "#%%\n"
    }
   }
  },
  {
   "cell_type": "code",
   "execution_count": 13,
   "outputs": [],
   "source": [
    "discriminator = Discriminator()\n",
    "generator = Generator()"
   ],
   "metadata": {
    "collapsed": false,
    "pycharm": {
     "name": "#%%\n"
    }
   }
  },
  {
   "cell_type": "code",
   "execution_count": 14,
   "outputs": [],
   "source": [
    "lr = 0.001\n",
    "num_epochs = 300\n",
    "loss_function = nn.BCELoss()"
   ],
   "metadata": {
    "collapsed": false,
    "pycharm": {
     "name": "#%%\n"
    }
   }
  },
  {
   "cell_type": "code",
   "execution_count": 15,
   "outputs": [],
   "source": [
    "optimizer_discriminator = torch.optim.Adam(discriminator.parameters(), lr=lr)\n",
    "optimizer_generator = torch.optim.Adam(generator.parameters(), lr=lr)"
   ],
   "metadata": {
    "collapsed": false,
    "pycharm": {
     "name": "#%%\n"
    }
   }
  },
  {
   "cell_type": "code",
   "execution_count": 16,
   "outputs": [
    {
     "name": "stdout",
     "output_type": "stream",
     "text": [
      "Epoch: 0 Loss D.: 0.25311705470085144\n",
      "Epoch: 0 Loss G.: 1.888545036315918\n",
      "Epoch: 10 Loss D.: 0.5732226967811584\n",
      "Epoch: 10 Loss G.: 0.8345379829406738\n",
      "Epoch: 20 Loss D.: 0.6936279535293579\n",
      "Epoch: 20 Loss G.: 0.8637839555740356\n",
      "Epoch: 30 Loss D.: 0.59722900390625\n",
      "Epoch: 30 Loss G.: 1.0184900760650635\n",
      "Epoch: 40 Loss D.: 0.6707755923271179\n",
      "Epoch: 40 Loss G.: 0.6563605070114136\n",
      "Epoch: 50 Loss D.: 0.6867240071296692\n",
      "Epoch: 50 Loss G.: 0.7379283308982849\n",
      "Epoch: 60 Loss D.: 0.6994175910949707\n",
      "Epoch: 60 Loss G.: 0.6676411032676697\n",
      "Epoch: 70 Loss D.: 0.6484549045562744\n",
      "Epoch: 70 Loss G.: 0.901470959186554\n",
      "Epoch: 80 Loss D.: 0.7385814189910889\n",
      "Epoch: 80 Loss G.: 0.7859456539154053\n",
      "Epoch: 90 Loss D.: 0.6581752300262451\n",
      "Epoch: 90 Loss G.: 0.7928749322891235\n",
      "Epoch: 100 Loss D.: 0.6923357248306274\n",
      "Epoch: 100 Loss G.: 0.6460329294204712\n",
      "Epoch: 110 Loss D.: 0.7273387908935547\n",
      "Epoch: 110 Loss G.: 0.6737794876098633\n",
      "Epoch: 120 Loss D.: 0.6735665798187256\n",
      "Epoch: 120 Loss G.: 0.7867452502250671\n",
      "Epoch: 130 Loss D.: 0.6740349531173706\n",
      "Epoch: 130 Loss G.: 0.730699896812439\n",
      "Epoch: 140 Loss D.: 0.6756221652030945\n",
      "Epoch: 140 Loss G.: 0.6863918900489807\n",
      "Epoch: 150 Loss D.: 0.6646339893341064\n",
      "Epoch: 150 Loss G.: 0.7044199705123901\n",
      "Epoch: 160 Loss D.: 0.6795499920845032\n",
      "Epoch: 160 Loss G.: 0.7214187383651733\n",
      "Epoch: 170 Loss D.: 0.7020056247711182\n",
      "Epoch: 170 Loss G.: 0.7139527797698975\n",
      "Epoch: 180 Loss D.: 0.6794952154159546\n",
      "Epoch: 180 Loss G.: 0.7073779106140137\n",
      "Epoch: 190 Loss D.: 0.6813309192657471\n",
      "Epoch: 190 Loss G.: 0.730516254901886\n",
      "Epoch: 200 Loss D.: 0.6547371745109558\n",
      "Epoch: 200 Loss G.: 0.7256003618240356\n",
      "Epoch: 210 Loss D.: 0.6506498456001282\n",
      "Epoch: 210 Loss G.: 0.7628339529037476\n",
      "Epoch: 220 Loss D.: 0.6775217056274414\n",
      "Epoch: 220 Loss G.: 0.7425665259361267\n",
      "Epoch: 230 Loss D.: 0.6768383979797363\n",
      "Epoch: 230 Loss G.: 0.7029318809509277\n",
      "Epoch: 240 Loss D.: 0.6991949081420898\n",
      "Epoch: 240 Loss G.: 0.7129970788955688\n",
      "Epoch: 250 Loss D.: 0.7281447649002075\n",
      "Epoch: 250 Loss G.: 0.685263991355896\n",
      "Epoch: 260 Loss D.: 0.677423357963562\n",
      "Epoch: 260 Loss G.: 0.7373689413070679\n",
      "Epoch: 270 Loss D.: 0.6843999028205872\n",
      "Epoch: 270 Loss G.: 0.6847126483917236\n",
      "Epoch: 280 Loss D.: 0.6929045915603638\n",
      "Epoch: 280 Loss G.: 0.6843670010566711\n",
      "Epoch: 290 Loss D.: 0.6827508211135864\n",
      "Epoch: 290 Loss G.: 0.7835364937782288\n"
     ]
    }
   ],
   "source": [
    "for epoch in range(num_epochs):\n",
    "    for n, (real_samples, _) in enumerate(train_loader):\n",
    "        # Data for training the discriminator\n",
    "        real_samples_labels = torch.ones((batch_size, 1))\n",
    "        latent_space_samples = torch.randn((batch_size, 2))\n",
    "        generated_samples = generator(latent_space_samples)\n",
    "        generated_samples_labels = torch.zeros((batch_size, 1))\n",
    "        all_samples = torch.cat((real_samples, generated_samples))\n",
    "        all_samples_labels = torch.cat((real_samples_labels, generated_samples_labels))\n",
    "\n",
    "        # Training the discriminator\n",
    "        discriminator.zero_grad()\n",
    "        output_discriminator = discriminator(all_samples)\n",
    "        loss_discriminator = loss_function(output_discriminator, all_samples_labels)\n",
    "        loss_discriminator.backward()\n",
    "        optimizer_discriminator.step()\n",
    "\n",
    "        # Data for training the generator\n",
    "        latent_space_samples = torch.randn((batch_size, 2))\n",
    "\n",
    "        # Training the generator\n",
    "        generator.zero_grad()\n",
    "        generated_samples = generator(latent_space_samples)\n",
    "        output_discriminator_generated = discriminator(generated_samples)\n",
    "        loss_generator = loss_function(output_discriminator_generated, real_samples_labels)\n",
    "        loss_generator.backward()\n",
    "        optimizer_generator.step()\n",
    "\n",
    "        # Show loss\n",
    "        if epoch % 10 == 0 and n == batch_size - 1:\n",
    "            print(f\"Epoch: {epoch} Loss D.: {loss_discriminator}\")\n",
    "            print(f\"Epoch: {epoch} Loss G.: {loss_generator}\")"
   ],
   "metadata": {
    "collapsed": false,
    "pycharm": {
     "name": "#%%\n"
    }
   }
  },
  {
   "cell_type": "code",
   "execution_count": 17,
   "outputs": [],
   "source": [
    "latent_space_samples = torch.randn(100, 2)\n",
    "generated_samples = generator(latent_space_samples)"
   ],
   "metadata": {
    "collapsed": false,
    "pycharm": {
     "name": "#%%\n"
    }
   }
  },
  {
   "cell_type": "code",
   "execution_count": 18,
   "outputs": [
    {
     "data": {
      "text/plain": "[<matplotlib.lines.Line2D at 0x7fbc95f01ee0>]"
     },
     "execution_count": 18,
     "metadata": {},
     "output_type": "execute_result"
    },
    {
     "data": {
      "text/plain": "<Figure size 432x288 with 1 Axes>",
      "image/png": "[encoded data removed]"
     },
     "metadata": {
      "needs_background": "light"
     },
     "output_type": "display_data"
    }
   ],
   "source": [
    "generated_samples = generated_samples.detach()\n",
    "plt.plot(generated_samples[:, 0], generated_samples[:, 1], \".\")"
   ],
   "metadata": {
    "collapsed": false,
    "pycharm": {
     "name": "#%%\n"
    }
   }
  }
 ],
 "metadata": {
  "kernelspec": {
   "display_name": "Python 3",
   "language": "python",
   "name": "python3"
  },
  "language_info": {
   "codemirror_mode": {
    "name": "ipython",
    "version": 2
   },
   "file_extension": ".py",
   "mimetype": "text/x-python",
   "name": "python",
   "nbconvert_exporter": "python",
   "pygments_lexer": "ipython2",
   "version": "2.7.6"
  }
 },
 "nbformat": 4,
 "nbformat_minor": 0
}