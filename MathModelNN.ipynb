{
  "nbformat": 4,
  "nbformat_minor": 0,
  "metadata": {
    "colab": {
      "name": "MathModelNN.ipynb",
      "provenance": [],
      "collapsed_sections": [],
      "authorship_tag": "ABX9TyNU9rBelYR5AmVBUj520him",
      "include_colab_link": true
    },
    "kernelspec": {
      "name": "python3",
      "display_name": "Python 3"
    },
    "language_info": {
      "name": "python"
    },
    "accelerator": "GPU"
  },
  "cells": [
    {
      "cell_type": "markdown",
      "metadata": {
        "id": "view-in-github",
        "colab_type": "text"
      },
      "source": [
        "<a href=\"https://colab.research.google.com/github/KartonDCP/MathWorks/blob/master/MathModelNN.ipynb\" target=\"_parent\"><img src=\"https://colab.research.google.com/assets/colab-badge.svg\" alt=\"Open In Colab\"/></a>"
      ]
    },
    {
      "cell_type": "code",
      "execution_count": 57,
      "metadata": {
        "id": "_Q4T4Vd_NZoC"
      },
      "outputs": [],
      "source": [
        "import numpy as np\n",
        "import pandas as pd\n",
        "from sklearn.preprocessing import MinMaxScaler\n",
        "import matplotlib.pyplot as plt\n",
        "\n",
        "from keras.models import Sequential\n",
        "from keras.layers import Dense\n",
        "from keras.layers import LSTM\n",
        "from keras.layers import Dropout\n",
        "import tensorflow as tf"
      ]
    },
    {
      "cell_type": "code",
      "source": [
        "#--------------------- Data Preprocessing --------------------#\n",
        "# Importing and scaling the data\n",
        "dataset_train = pd.read_csv(\"Bitcoin_Stock_Price_Trainset.csv\")\n",
        "dataset_train"
      ],
      "metadata": {
        "colab": {
          "base_uri": "https://localhost:8080/",
          "height": 424
        },
        "id": "m7OMIBE2OFi5",
        "outputId": "9e2b2b0b-281f-4fa3-abb2-f0d62f2a0b53"
      },
      "execution_count": 58,
      "outputs": [
        {
          "output_type": "execute_result",
          "data": {
            "text/html": [
              "\n",
              "  <div id=\"df-b230eaf4-e718-4d44-907d-ec736fa6996e\">\n",
              "    <div class=\"colab-df-container\">\n",
              "      <div>\n",
              "<style scoped>\n",
              "    .dataframe tbody tr th:only-of-type {\n",
              "        vertical-align: middle;\n",
              "    }\n",
              "\n",
              "    .dataframe tbody tr th {\n",
              "        vertical-align: top;\n",
              "    }\n",
              "\n",
              "    .dataframe thead th {\n",
              "        text-align: right;\n",
              "    }\n",
              "</style>\n",
              "<table border=\"1\" class=\"dataframe\">\n",
              "  <thead>\n",
              "    <tr style=\"text-align: right;\">\n",
              "      <th></th>\n",
              "      <th>Date</th>\n",
              "      <th>Open</th>\n",
              "      <th>High</th>\n",
              "      <th>Low</th>\n",
              "      <th>Close</th>\n",
              "      <th>Adj Close</th>\n",
              "      <th>Volume</th>\n",
              "    </tr>\n",
              "  </thead>\n",
              "  <tbody>\n",
              "    <tr>\n",
              "      <th>0</th>\n",
              "      <td>1/1/16</td>\n",
              "      <td>430.721008</td>\n",
              "      <td>436.246002</td>\n",
              "      <td>427.515015</td>\n",
              "      <td>434.334015</td>\n",
              "      <td>434.334015</td>\n",
              "      <td>36278900</td>\n",
              "    </tr>\n",
              "    <tr>\n",
              "      <th>1</th>\n",
              "      <td>1/2/16</td>\n",
              "      <td>434.622009</td>\n",
              "      <td>436.062012</td>\n",
              "      <td>431.869995</td>\n",
              "      <td>433.437988</td>\n",
              "      <td>433.437988</td>\n",
              "      <td>30096600</td>\n",
              "    </tr>\n",
              "    <tr>\n",
              "      <th>2</th>\n",
              "      <td>1/3/16</td>\n",
              "      <td>433.578003</td>\n",
              "      <td>433.743011</td>\n",
              "      <td>424.705994</td>\n",
              "      <td>430.010986</td>\n",
              "      <td>430.010986</td>\n",
              "      <td>39633800</td>\n",
              "    </tr>\n",
              "    <tr>\n",
              "      <th>3</th>\n",
              "      <td>1/4/16</td>\n",
              "      <td>430.061005</td>\n",
              "      <td>434.516998</td>\n",
              "      <td>429.084015</td>\n",
              "      <td>433.091003</td>\n",
              "      <td>433.091003</td>\n",
              "      <td>38477500</td>\n",
              "    </tr>\n",
              "    <tr>\n",
              "      <th>4</th>\n",
              "      <td>1/5/16</td>\n",
              "      <td>433.069000</td>\n",
              "      <td>434.182007</td>\n",
              "      <td>429.675995</td>\n",
              "      <td>431.959991</td>\n",
              "      <td>431.959991</td>\n",
              "      <td>34522600</td>\n",
              "    </tr>\n",
              "    <tr>\n",
              "      <th>...</th>\n",
              "      <td>...</td>\n",
              "      <td>...</td>\n",
              "      <td>...</td>\n",
              "      <td>...</td>\n",
              "      <td>...</td>\n",
              "      <td>...</td>\n",
              "      <td>...</td>\n",
              "    </tr>\n",
              "    <tr>\n",
              "      <th>1818</th>\n",
              "      <td>12/27/20</td>\n",
              "      <td>26439.373050</td>\n",
              "      <td>28288.839840</td>\n",
              "      <td>25922.769530</td>\n",
              "      <td>26272.294920</td>\n",
              "      <td>26272.294920</td>\n",
              "      <td>66479895605</td>\n",
              "    </tr>\n",
              "    <tr>\n",
              "      <th>1819</th>\n",
              "      <td>12/28/20</td>\n",
              "      <td>26280.822270</td>\n",
              "      <td>27389.111330</td>\n",
              "      <td>26207.640630</td>\n",
              "      <td>27084.808590</td>\n",
              "      <td>27084.808590</td>\n",
              "      <td>49056742893</td>\n",
              "    </tr>\n",
              "    <tr>\n",
              "      <th>1820</th>\n",
              "      <td>12/29/20</td>\n",
              "      <td>27081.810550</td>\n",
              "      <td>27370.720700</td>\n",
              "      <td>25987.298830</td>\n",
              "      <td>27362.437500</td>\n",
              "      <td>27362.437500</td>\n",
              "      <td>45265946774</td>\n",
              "    </tr>\n",
              "    <tr>\n",
              "      <th>1821</th>\n",
              "      <td>12/30/20</td>\n",
              "      <td>27360.089840</td>\n",
              "      <td>28937.740230</td>\n",
              "      <td>27360.089840</td>\n",
              "      <td>28840.953130</td>\n",
              "      <td>28840.953130</td>\n",
              "      <td>51287442704</td>\n",
              "    </tr>\n",
              "    <tr>\n",
              "      <th>1822</th>\n",
              "      <td>12/31/20</td>\n",
              "      <td>28841.574220</td>\n",
              "      <td>29244.876950</td>\n",
              "      <td>28201.992190</td>\n",
              "      <td>29001.720700</td>\n",
              "      <td>29001.720700</td>\n",
              "      <td>46754964848</td>\n",
              "    </tr>\n",
              "  </tbody>\n",
              "</table>\n",
              "<p>1823 rows × 7 columns</p>\n",
              "</div>\n",
              "      <button class=\"colab-df-convert\" onclick=\"convertToInteractive('df-b230eaf4-e718-4d44-907d-ec736fa6996e')\"\n",
              "              title=\"Convert this dataframe to an interactive table.\"\n",
              "              style=\"display:none;\">\n",
              "        \n",
              "  <svg xmlns=\"http://www.w3.org/2000/svg\" height=\"24px\"viewBox=\"0 0 24 24\"\n",
              "       width=\"24px\">\n",
              "    <path d=\"M0 0h24v24H0V0z\" fill=\"none\"/>\n",
              "    <path d=\"M18.56 5.44l.94 2.06.94-2.06 2.06-.94-2.06-.94-.94-2.06-.94 2.06-2.06.94zm-11 1L8.5 8.5l.94-2.06 2.06-.94-2.06-.94L8.5 2.5l-.94 2.06-2.06.94zm10 10l.94 2.06.94-2.06 2.06-.94-2.06-.94-.94-2.06-.94 2.06-2.06.94z\"/><path d=\"M17.41 7.96l-1.37-1.37c-.4-.4-.92-.59-1.43-.59-.52 0-1.04.2-1.43.59L10.3 9.45l-7.72 7.72c-.78.78-.78 2.05 0 2.83L4 21.41c.39.39.9.59 1.41.59.51 0 1.02-.2 1.41-.59l7.78-7.78 2.81-2.81c.8-.78.8-2.07 0-2.86zM5.41 20L4 18.59l7.72-7.72 1.47 1.35L5.41 20z\"/>\n",
              "  </svg>\n",
              "      </button>\n",
              "      \n",
              "  <style>\n",
              "    .colab-df-container {\n",
              "      display:flex;\n",
              "      flex-wrap:wrap;\n",
              "      gap: 12px;\n",
              "    }\n",
              "\n",
              "    .colab-df-convert {\n",
              "      background-color: #E8F0FE;\n",
              "      border: none;\n",
              "      border-radius: 50%;\n",
              "      cursor: pointer;\n",
              "      display: none;\n",
              "      fill: #1967D2;\n",
              "      height: 32px;\n",
              "      padding: 0 0 0 0;\n",
              "      width: 32px;\n",
              "    }\n",
              "\n",
              "    .colab-df-convert:hover {\n",
              "      background-color: #E2EBFA;\n",
              "      box-shadow: 0px 1px 2px rgba(60, 64, 67, 0.3), 0px 1px 3px 1px rgba(60, 64, 67, 0.15);\n",
              "      fill: #174EA6;\n",
              "    }\n",
              "\n",
              "    [theme=dark] .colab-df-convert {\n",
              "      background-color: #3B4455;\n",
              "      fill: #D2E3FC;\n",
              "    }\n",
              "\n",
              "    [theme=dark] .colab-df-convert:hover {\n",
              "      background-color: #434B5C;\n",
              "      box-shadow: 0px 1px 3px 1px rgba(0, 0, 0, 0.15);\n",
              "      filter: drop-shadow(0px 1px 2px rgba(0, 0, 0, 0.3));\n",
              "      fill: #FFFFFF;\n",
              "    }\n",
              "  </style>\n",
              "\n",
              "      <script>\n",
              "        const buttonEl =\n",
              "          document.querySelector('#df-b230eaf4-e718-4d44-907d-ec736fa6996e button.colab-df-convert');\n",
              "        buttonEl.style.display =\n",
              "          google.colab.kernel.accessAllowed ? 'block' : 'none';\n",
              "\n",
              "        async function convertToInteractive(key) {\n",
              "          const element = document.querySelector('#df-b230eaf4-e718-4d44-907d-ec736fa6996e');\n",
              "          const dataTable =\n",
              "            await google.colab.kernel.invokeFunction('convertToInteractive',\n",
              "                                                     [key], {});\n",
              "          if (!dataTable) return;\n",
              "\n",
              "          const docLinkHtml = 'Like what you see? Visit the ' +\n",
              "            '<a target=\"_blank\" href=https://colab.research.google.com/notebooks/data_table.ipynb>data table notebook</a>'\n",
              "            + ' to learn more about interactive tables.';\n",
              "          element.innerHTML = '';\n",
              "          dataTable['output_type'] = 'display_data';\n",
              "          await google.colab.output.renderOutput(dataTable, element);\n",
              "          const docLink = document.createElement('div');\n",
              "          docLink.innerHTML = docLinkHtml;\n",
              "          element.appendChild(docLink);\n",
              "        }\n",
              "      </script>\n",
              "    </div>\n",
              "  </div>\n",
              "  "
            ],
            "text/plain": [
              "          Date          Open  ...     Adj Close       Volume\n",
              "0       1/1/16    430.721008  ...    434.334015     36278900\n",
              "1       1/2/16    434.622009  ...    433.437988     30096600\n",
              "2       1/3/16    433.578003  ...    430.010986     39633800\n",
              "3       1/4/16    430.061005  ...    433.091003     38477500\n",
              "4       1/5/16    433.069000  ...    431.959991     34522600\n",
              "...        ...           ...  ...           ...          ...\n",
              "1818  12/27/20  26439.373050  ...  26272.294920  66479895605\n",
              "1819  12/28/20  26280.822270  ...  27084.808590  49056742893\n",
              "1820  12/29/20  27081.810550  ...  27362.437500  45265946774\n",
              "1821  12/30/20  27360.089840  ...  28840.953130  51287442704\n",
              "1822  12/31/20  28841.574220  ...  29001.720700  46754964848\n",
              "\n",
              "[1823 rows x 7 columns]"
            ]
          },
          "metadata": {},
          "execution_count": 58
        }
      ]
    },
    {
      "cell_type": "code",
      "source": [
        "# Feature scaling\n",
        "sc = MinMaxScaler(feature_range=(0,1))\n",
        "training_set_scaled = sc.fit_transform(training_set)\n",
        "training_set_scaled"
      ],
      "metadata": {
        "colab": {
          "base_uri": "https://localhost:8080/"
        },
        "id": "tzse_HxpWVBR",
        "outputId": "75d6f188-e8c9-4657-dcaf-e6386b09393a"
      },
      "execution_count": 59,
      "outputs": [
        {
          "output_type": "execute_result",
          "data": {
            "text/plain": [
              "array([[0.00230534],\n",
              "       [0.00244233],\n",
              "       [0.00240567],\n",
              "       ...,\n",
              "       [0.93820295],\n",
              "       [0.9479752 ],\n",
              "       [1.        ]])"
            ]
          },
          "metadata": {},
          "execution_count": 59
        }
      ]
    },
    {
      "cell_type": "code",
      "source": [
        "#creating a data structure with 60 timesteps and 1 output\n",
        "X_train = []\n",
        "y_train = []\n",
        "\n",
        "for i in range(90,training_set_scaled.size):\n",
        "    # appending the 60 previous stock prices to the list for i\n",
        "    # we need to specify the rows and simply pick the first and only column\n",
        "    X_train.append(training_set_scaled[i-90:i, 0])\n",
        "    # appending the 60th stock price to the list for i\n",
        "    y_train.append(training_set_scaled[i, 0])\n",
        "# transforming pandas lists to numpy arrays required for the RNN\n",
        "X_train, y_train = np.array(X_train), np.array(y_train)\n",
        "print(X_train)"
      ],
      "metadata": {
        "colab": {
          "base_uri": "https://localhost:8080/"
        },
        "id": "TybAde-dWaS6",
        "outputId": "f1fab600-987b-414f-d0e7-7fcae4632e81"
      },
      "execution_count": 60,
      "outputs": [
        {
          "output_type": "stream",
          "name": "stdout",
          "text": [
            "[[0.00230534 0.00244233 0.00240567 ... 0.0021588  0.00208    0.00181767]\n",
            " [0.00244233 0.00240567 0.00228216 ... 0.00208    0.00181767 0.00176229]\n",
            " [0.00240567 0.00228216 0.00238779 ... 0.00181767 0.00176229 0.00181508]\n",
            " ...\n",
            " [0.36478732 0.36544407 0.36336591 ... 0.85375456 0.91564269 0.91007491]\n",
            " [0.36544407 0.36336591 0.36803461 ... 0.91564269 0.91007491 0.93820295]\n",
            " [0.36336591 0.36803461 0.36591355 ... 0.91007491 0.93820295 0.9479752 ]]\n"
          ]
        }
      ]
    },
    {
      "cell_type": "code",
      "source": [
        "# Shaping/adding new dimensions to allow adding more indicators: from 2D to 3D\n",
        "# 3 input arguments\n",
        "# batch_size: number of observations\n",
        "# timesteps: number of columns\n",
        "# input_dim: number of predictors\n",
        "X_train = np.reshape(X_train, [X_train.shape[0], X_train.shape[1], 1])\n",
        "#print(X_train)"
      ],
      "metadata": {
        "id": "pl3UswzIWdVN"
      },
      "execution_count": 61,
      "outputs": []
    },
    {
      "cell_type": "code",
      "source": [
        ""
      ],
      "metadata": {
        "id": "7qsO9qmhWf-M"
      },
      "execution_count": 61,
      "outputs": []
    },
    {
      "cell_type": "code",
      "source": [
        "training_set = dataset_train.iloc[:,1:2].values\n",
        "print(training_set)"
      ],
      "metadata": {
        "colab": {
          "base_uri": "https://localhost:8080/"
        },
        "id": "8eN3ZNoqQIGl",
        "outputId": "9756d1ec-2910-4822-9c79-2c2b2dd64dd1"
      },
      "execution_count": 62,
      "outputs": [
        {
          "output_type": "stream",
          "name": "stdout",
          "text": [
            "[[  430.721008]\n",
            " [  434.622009]\n",
            " [  433.578003]\n",
            " ...\n",
            " [27081.81055 ]\n",
            " [27360.08984 ]\n",
            " [28841.57422 ]]\n"
          ]
        }
      ]
    },
    {
      "cell_type": "code",
      "source": [
        "sc = MinMaxScaler(feature_range=(0,1))\n",
        "training_set_scaled = sc.fit_transform(training_set)"
      ],
      "metadata": {
        "id": "XPh8wjLlNhlY"
      },
      "execution_count": 63,
      "outputs": []
    },
    {
      "cell_type": "code",
      "source": [
        "X_train = []\n",
        "y_train = []\n",
        "\n",
        "for i in range(90,training_set_scaled.size):\n",
        "    # appending the 60 previous stock prices to the list for i\n",
        "    # we need to specify the rows and simply pick the first and only column\n",
        "    X_train.append(training_set_scaled[i-90:i, 0])\n",
        "    # appending the 60th stock price to the list for i\n",
        "    y_train.append(training_set_scaled[i, 0])\n",
        "# transforming pandas lists to numpy arrays required for the RNN\n",
        "X_train, y_train = np.array(X_train), np.array(y_train)\n",
        "#print(X_train)"
      ],
      "metadata": {
        "id": "-PWe1XyPTDVd"
      },
      "execution_count": 64,
      "outputs": []
    },
    {
      "cell_type": "code",
      "source": [
        "X_train = np.reshape(X_train, [X_train.shape[0], X_train.shape[1], 1])"
      ],
      "metadata": {
        "id": "w95VjeRKTDbf"
      },
      "execution_count": 65,
      "outputs": []
    },
    {
      "cell_type": "code",
      "source": [
        "regressor = Sequential()"
      ],
      "metadata": {
        "id": "7npvfKCOTDg2"
      },
      "execution_count": 66,
      "outputs": []
    },
    {
      "cell_type": "code",
      "source": [
        "regressor.add(LSTM(units = 50, return_sequences=True, input_shape = (X_train.shape[1], 1)))\n",
        "\n",
        "# adding Dropout regularization layers\n",
        "# 1 input: amount of neurons to ignore in the layers\n",
        "regressor.add(Dropout(0.2))\n",
        "\n",
        "#------------------------------------------------------------------#\n",
        "# Adding the second LSTM layer\n",
        "#------------------------------------------------------------------#\n",
        "# no input shape needed given that that is specified in the previous layer\n",
        "regressor.add(LSTM(units = 50, return_sequences=True))\n",
        "regressor.add(Dropout(0.2))\n",
        "\n",
        "#------------------------------------------------------------------#\n",
        "# Adding the third LSTM layer\n",
        "#------------------------------------------------------------------#\n",
        "regressor.add(LSTM(units = 50, return_sequences=True))\n",
        "regressor.add(Dropout(0.2))\n",
        "\n",
        "#------------------------------------------------------------------#\n",
        "# Adding the forth LSTM layer\n",
        "#------------------------------------------------------------------#\n",
        "regressor.add(LSTM(units = 50, return_sequences=True))\n",
        "regressor.add(Dropout(0.2))\n",
        "\n",
        "#------------------------------------------------------------------#\n",
        "# Adding the fifth LSTM layer\n",
        "#------------------------------------------------------------------#\n",
        "# note that this is the final LSTM layer, hence we change the binary argument to False\n",
        "regressor.add(LSTM(units = 50))\n",
        "regressor.add(Dropout(0.2))\n",
        "\n",
        "#------------------------------------------------------------------#\n",
        "# Adding output layer to the RNN to make a fully connected NN\n",
        "#------------------------------------------------------------------#\n",
        "# one dimensional real output\n",
        "regressor.add(Dense(units = 1))"
      ],
      "metadata": {
        "id": "AtiSV_qtTKEJ"
      },
      "execution_count": 67,
      "outputs": []
    },
    {
      "cell_type": "code",
      "source": [
        "#--------------------- Compiling the RNN model --------------------#\n",
        "regressor.compile(optimizer = 'adam', loss = 'mean_squared_error')\n",
        "\n",
        "#--------------------- Training RNN model --------------------#\n",
        "#connecting the built regressor to the training model\n",
        "regressor.fit(X_train, y_train, epochs = 120, batch_size = 32)"
      ],
      "metadata": {
        "colab": {
          "base_uri": "https://localhost:8080/"
        },
        "id": "_CJkzQLWTPWt",
        "outputId": "f8ac24e7-d78f-41ef-eadb-0e1eb3f3bd2b"
      },
      "execution_count": 68,
      "outputs": [
        {
          "output_type": "stream",
          "name": "stdout",
          "text": [
            "Epoch 1/120\n",
            "55/55 [==============================] - 15s 106ms/step - loss: 0.0106\n",
            "Epoch 2/120\n",
            "55/55 [==============================] - 6s 106ms/step - loss: 0.0032\n",
            "Epoch 3/120\n",
            "55/55 [==============================] - 6s 106ms/step - loss: 0.0031\n",
            "Epoch 4/120\n",
            "55/55 [==============================] - 6s 108ms/step - loss: 0.0026\n",
            "Epoch 5/120\n",
            "55/55 [==============================] - 6s 107ms/step - loss: 0.0026\n",
            "Epoch 6/120\n",
            "55/55 [==============================] - 6s 107ms/step - loss: 0.0019\n",
            "Epoch 7/120\n",
            "55/55 [==============================] - 6s 107ms/step - loss: 0.0019\n",
            "Epoch 8/120\n",
            "55/55 [==============================] - 6s 106ms/step - loss: 0.0018\n",
            "Epoch 9/120\n",
            "55/55 [==============================] - 6s 107ms/step - loss: 0.0022\n",
            "Epoch 10/120\n",
            "55/55 [==============================] - 6s 108ms/step - loss: 0.0019\n",
            "Epoch 11/120\n",
            "55/55 [==============================] - 6s 108ms/step - loss: 0.0014\n",
            "Epoch 12/120\n",
            "55/55 [==============================] - 6s 107ms/step - loss: 0.0014\n",
            "Epoch 13/120\n",
            "55/55 [==============================] - 6s 107ms/step - loss: 0.0015\n",
            "Epoch 14/120\n",
            "55/55 [==============================] - 6s 108ms/step - loss: 0.0018\n",
            "Epoch 15/120\n",
            "55/55 [==============================] - 6s 107ms/step - loss: 0.0015\n",
            "Epoch 16/120\n",
            "55/55 [==============================] - 6s 107ms/step - loss: 0.0012\n",
            "Epoch 17/120\n",
            "55/55 [==============================] - 6s 107ms/step - loss: 0.0014\n",
            "Epoch 18/120\n",
            "55/55 [==============================] - 6s 107ms/step - loss: 0.0013\n",
            "Epoch 19/120\n",
            "55/55 [==============================] - 6s 110ms/step - loss: 0.0012\n",
            "Epoch 20/120\n",
            "55/55 [==============================] - 6s 107ms/step - loss: 0.0012\n",
            "Epoch 21/120\n",
            "55/55 [==============================] - 6s 107ms/step - loss: 0.0011\n",
            "Epoch 22/120\n",
            "55/55 [==============================] - 6s 107ms/step - loss: 0.0013\n",
            "Epoch 23/120\n",
            "55/55 [==============================] - 6s 107ms/step - loss: 0.0013\n",
            "Epoch 24/120\n",
            "55/55 [==============================] - 6s 107ms/step - loss: 0.0011\n",
            "Epoch 25/120\n",
            "55/55 [==============================] - 6s 106ms/step - loss: 0.0012\n",
            "Epoch 26/120\n",
            "55/55 [==============================] - 6s 108ms/step - loss: 0.0011\n",
            "Epoch 27/120\n",
            "55/55 [==============================] - 6s 108ms/step - loss: 0.0010\n",
            "Epoch 28/120\n",
            "55/55 [==============================] - 6s 107ms/step - loss: 9.7814e-04\n",
            "Epoch 29/120\n",
            "55/55 [==============================] - 6s 108ms/step - loss: 0.0010\n",
            "Epoch 30/120\n",
            "55/55 [==============================] - 6s 107ms/step - loss: 0.0010\n",
            "Epoch 31/120\n",
            "55/55 [==============================] - 6s 108ms/step - loss: 0.0010\n",
            "Epoch 32/120\n",
            "55/55 [==============================] - 6s 107ms/step - loss: 8.9259e-04\n",
            "Epoch 33/120\n",
            "55/55 [==============================] - 6s 107ms/step - loss: 0.0011\n",
            "Epoch 34/120\n",
            "55/55 [==============================] - 6s 107ms/step - loss: 9.7417e-04\n",
            "Epoch 35/120\n",
            "55/55 [==============================] - 6s 107ms/step - loss: 0.0010\n",
            "Epoch 36/120\n",
            "55/55 [==============================] - 6s 107ms/step - loss: 8.0927e-04\n",
            "Epoch 37/120\n",
            "55/55 [==============================] - 6s 107ms/step - loss: 7.7953e-04\n",
            "Epoch 38/120\n",
            "55/55 [==============================] - 6s 107ms/step - loss: 9.7878e-04\n",
            "Epoch 39/120\n",
            "55/55 [==============================] - 6s 107ms/step - loss: 7.9736e-04\n",
            "Epoch 40/120\n",
            "55/55 [==============================] - 6s 107ms/step - loss: 9.1445e-04\n",
            "Epoch 41/120\n",
            "55/55 [==============================] - 6s 106ms/step - loss: 8.9573e-04\n",
            "Epoch 42/120\n",
            "55/55 [==============================] - 6s 107ms/step - loss: 9.0602e-04\n",
            "Epoch 43/120\n",
            "55/55 [==============================] - 6s 107ms/step - loss: 9.8375e-04\n",
            "Epoch 44/120\n",
            "55/55 [==============================] - 6s 107ms/step - loss: 0.0010\n",
            "Epoch 45/120\n",
            "55/55 [==============================] - 6s 107ms/step - loss: 7.8205e-04\n",
            "Epoch 46/120\n",
            "55/55 [==============================] - 6s 107ms/step - loss: 0.0011\n",
            "Epoch 47/120\n",
            "55/55 [==============================] - 6s 108ms/step - loss: 7.0769e-04\n",
            "Epoch 48/120\n",
            "55/55 [==============================] - 6s 108ms/step - loss: 7.6788e-04\n",
            "Epoch 49/120\n",
            "55/55 [==============================] - 6s 107ms/step - loss: 6.4790e-04\n",
            "Epoch 50/120\n",
            "55/55 [==============================] - 6s 107ms/step - loss: 7.4208e-04\n",
            "Epoch 51/120\n",
            "55/55 [==============================] - 6s 107ms/step - loss: 6.8502e-04\n",
            "Epoch 52/120\n",
            "55/55 [==============================] - 6s 107ms/step - loss: 7.0988e-04\n",
            "Epoch 53/120\n",
            "55/55 [==============================] - 6s 107ms/step - loss: 7.5618e-04\n",
            "Epoch 54/120\n",
            "55/55 [==============================] - 6s 107ms/step - loss: 8.7626e-04\n",
            "Epoch 55/120\n",
            "55/55 [==============================] - 6s 106ms/step - loss: 6.6590e-04\n",
            "Epoch 56/120\n",
            "55/55 [==============================] - 6s 107ms/step - loss: 9.0941e-04\n",
            "Epoch 57/120\n",
            "55/55 [==============================] - 6s 107ms/step - loss: 7.5356e-04\n",
            "Epoch 58/120\n",
            "55/55 [==============================] - 6s 107ms/step - loss: 6.9157e-04\n",
            "Epoch 59/120\n",
            "55/55 [==============================] - 6s 107ms/step - loss: 8.0639e-04\n",
            "Epoch 60/120\n",
            "55/55 [==============================] - 6s 107ms/step - loss: 6.3012e-04\n",
            "Epoch 61/120\n",
            "55/55 [==============================] - 6s 107ms/step - loss: 6.7792e-04\n",
            "Epoch 62/120\n",
            "55/55 [==============================] - 6s 107ms/step - loss: 8.6520e-04\n",
            "Epoch 63/120\n",
            "55/55 [==============================] - 6s 107ms/step - loss: 7.4495e-04\n",
            "Epoch 64/120\n",
            "55/55 [==============================] - 6s 107ms/step - loss: 6.7945e-04\n",
            "Epoch 65/120\n",
            "55/55 [==============================] - 6s 107ms/step - loss: 6.4970e-04\n",
            "Epoch 66/120\n",
            "55/55 [==============================] - 6s 107ms/step - loss: 6.1717e-04\n",
            "Epoch 67/120\n",
            "55/55 [==============================] - 6s 107ms/step - loss: 7.3262e-04\n",
            "Epoch 68/120\n",
            "55/55 [==============================] - 6s 107ms/step - loss: 5.9668e-04\n",
            "Epoch 69/120\n",
            "55/55 [==============================] - 6s 107ms/step - loss: 5.7891e-04\n",
            "Epoch 70/120\n",
            "55/55 [==============================] - 6s 106ms/step - loss: 6.8461e-04\n",
            "Epoch 71/120\n",
            "55/55 [==============================] - 6s 107ms/step - loss: 5.5811e-04\n",
            "Epoch 72/120\n",
            "55/55 [==============================] - 6s 107ms/step - loss: 6.8896e-04\n",
            "Epoch 73/120\n",
            "55/55 [==============================] - 6s 107ms/step - loss: 7.2726e-04\n",
            "Epoch 74/120\n",
            "55/55 [==============================] - 6s 108ms/step - loss: 6.4538e-04\n",
            "Epoch 75/120\n",
            "55/55 [==============================] - 6s 108ms/step - loss: 6.4429e-04\n",
            "Epoch 76/120\n",
            "55/55 [==============================] - 6s 107ms/step - loss: 6.6768e-04\n",
            "Epoch 77/120\n",
            "55/55 [==============================] - 6s 108ms/step - loss: 6.5768e-04\n",
            "Epoch 78/120\n",
            "55/55 [==============================] - 6s 107ms/step - loss: 7.2350e-04\n",
            "Epoch 79/120\n",
            "55/55 [==============================] - 6s 107ms/step - loss: 5.8566e-04\n",
            "Epoch 80/120\n",
            "55/55 [==============================] - 6s 107ms/step - loss: 6.5370e-04\n",
            "Epoch 81/120\n",
            "55/55 [==============================] - 6s 107ms/step - loss: 5.8514e-04\n",
            "Epoch 82/120\n",
            "55/55 [==============================] - 6s 107ms/step - loss: 5.9160e-04\n",
            "Epoch 83/120\n",
            "55/55 [==============================] - 6s 107ms/step - loss: 6.4483e-04\n",
            "Epoch 84/120\n",
            "55/55 [==============================] - 6s 107ms/step - loss: 6.6024e-04\n",
            "Epoch 85/120\n",
            "55/55 [==============================] - 6s 107ms/step - loss: 6.1371e-04\n",
            "Epoch 86/120\n",
            "55/55 [==============================] - 6s 106ms/step - loss: 6.1135e-04\n",
            "Epoch 87/120\n",
            "55/55 [==============================] - 6s 107ms/step - loss: 5.1621e-04\n",
            "Epoch 88/120\n",
            "55/55 [==============================] - 6s 106ms/step - loss: 5.4004e-04\n",
            "Epoch 89/120\n",
            "55/55 [==============================] - 6s 106ms/step - loss: 7.2942e-04\n",
            "Epoch 90/120\n",
            "55/55 [==============================] - 6s 107ms/step - loss: 6.6603e-04\n",
            "Epoch 91/120\n",
            "55/55 [==============================] - 6s 107ms/step - loss: 5.8085e-04\n",
            "Epoch 92/120\n",
            "55/55 [==============================] - 6s 107ms/step - loss: 5.5523e-04\n",
            "Epoch 93/120\n",
            "55/55 [==============================] - 6s 106ms/step - loss: 6.5550e-04\n",
            "Epoch 94/120\n",
            "55/55 [==============================] - 6s 107ms/step - loss: 5.3850e-04\n",
            "Epoch 95/120\n",
            "55/55 [==============================] - 6s 107ms/step - loss: 5.6365e-04\n",
            "Epoch 96/120\n",
            "55/55 [==============================] - 6s 107ms/step - loss: 7.5135e-04\n",
            "Epoch 97/120\n",
            "55/55 [==============================] - 6s 107ms/step - loss: 5.3877e-04\n",
            "Epoch 98/120\n",
            "55/55 [==============================] - 6s 107ms/step - loss: 6.0496e-04\n",
            "Epoch 99/120\n",
            "55/55 [==============================] - 6s 106ms/step - loss: 5.0226e-04\n",
            "Epoch 100/120\n",
            "55/55 [==============================] - 6s 106ms/step - loss: 5.1824e-04\n",
            "Epoch 101/120\n",
            "55/55 [==============================] - 6s 107ms/step - loss: 5.7438e-04\n",
            "Epoch 102/120\n",
            "55/55 [==============================] - 6s 108ms/step - loss: 5.5027e-04\n",
            "Epoch 103/120\n",
            "55/55 [==============================] - 6s 106ms/step - loss: 6.1091e-04\n",
            "Epoch 104/120\n",
            "55/55 [==============================] - 6s 107ms/step - loss: 5.1892e-04\n",
            "Epoch 105/120\n",
            "55/55 [==============================] - 6s 107ms/step - loss: 5.0234e-04\n",
            "Epoch 106/120\n",
            "55/55 [==============================] - 6s 107ms/step - loss: 5.5181e-04\n",
            "Epoch 107/120\n",
            "55/55 [==============================] - 6s 107ms/step - loss: 5.0864e-04\n",
            "Epoch 108/120\n",
            "55/55 [==============================] - 6s 108ms/step - loss: 5.3217e-04\n",
            "Epoch 109/120\n",
            "55/55 [==============================] - 6s 106ms/step - loss: 5.1645e-04\n",
            "Epoch 110/120\n",
            "55/55 [==============================] - 6s 107ms/step - loss: 5.4700e-04\n",
            "Epoch 111/120\n",
            "55/55 [==============================] - 6s 107ms/step - loss: 7.4366e-04\n",
            "Epoch 112/120\n",
            "55/55 [==============================] - 6s 108ms/step - loss: 5.4758e-04\n",
            "Epoch 113/120\n",
            "55/55 [==============================] - 6s 107ms/step - loss: 6.6970e-04\n",
            "Epoch 114/120\n",
            "55/55 [==============================] - 6s 108ms/step - loss: 5.7029e-04\n",
            "Epoch 115/120\n",
            "55/55 [==============================] - 6s 108ms/step - loss: 7.2726e-04\n",
            "Epoch 116/120\n",
            "55/55 [==============================] - 6s 107ms/step - loss: 5.3600e-04\n",
            "Epoch 117/120\n",
            "55/55 [==============================] - 6s 107ms/step - loss: 5.9470e-04\n",
            "Epoch 118/120\n",
            "55/55 [==============================] - 6s 107ms/step - loss: 5.5725e-04\n",
            "Epoch 119/120\n",
            "55/55 [==============================] - 6s 107ms/step - loss: 5.2856e-04\n",
            "Epoch 120/120\n",
            "55/55 [==============================] - 6s 107ms/step - loss: 6.0388e-04\n"
          ]
        },
        {
          "output_type": "execute_result",
          "data": {
            "text/plain": [
              "<keras.callbacks.History at 0x7f4252582cd0>"
            ]
          },
          "metadata": {},
          "execution_count": 68
        }
      ]
    },
    {
      "cell_type": "code",
      "source": [
        "dataset_test = pd.read_csv(\"Bitcoin_Stock_Price_Testset.csv\")\n",
        "# actual stock prices\n",
        "real_stock_price = dataset_test.iloc[:,1:2].values\n",
        "# predicting the stock prices using X_test\n",
        "# we need the original training data (vertical concatination 0, horizontal 1)\n",
        "dataset_total = pd.concat((dataset_train['Open'], dataset_test['Open']), axis = 0)\n",
        "print(real_stock_price)"
      ],
      "metadata": {
        "colab": {
          "base_uri": "https://localhost:8080/"
        },
        "id": "JACsDr-_WuVO",
        "outputId": "22359e03-f44d-4dd7-b8fc-4030d6acf13c"
      },
      "execution_count": 69,
      "outputs": [
        {
          "output_type": "stream",
          "name": "stdout",
          "text": [
            "[[28994.00977]\n",
            " [29376.45508]\n",
            " [32129.4082 ]\n",
            " [32810.94922]\n",
            " [31977.04102]\n",
            " [34013.61328]\n",
            " [36833.875  ]\n",
            " [39381.76563]\n",
            " [40788.64063]\n",
            " [40254.21875]\n",
            " [38346.53125]\n",
            " [35516.35938]\n",
            " [33915.12109]\n",
            " [37325.10938]\n",
            " [39156.70703]\n",
            " [36821.64844]\n",
            " [36163.64844]\n",
            " [35792.23828]\n",
            " [36642.23438]\n",
            " [36050.11328]\n",
            " [35549.39844]\n",
            " [30817.625  ]\n",
            " [32985.75781]\n",
            " [32064.37695]\n",
            " [32285.79883]\n",
            " [32358.61328]\n",
            " [32564.0293 ]\n",
            " [30441.04102]\n",
            " [34318.67188]\n",
            " [34295.93359]\n",
            " [34270.87891]\n",
            " [33114.57813]\n",
            " [33533.19922]\n",
            " [35510.82031]\n",
            " [37475.10547]\n",
            " [36931.54688]\n",
            " [38138.38672]\n",
            " [39250.19141]\n",
            " [38886.82813]\n",
            " [46184.99219]\n",
            " [46469.76172]\n",
            " [44898.71094]\n",
            " [47877.03516]\n",
            " [47491.20313]\n",
            " [47114.50781]\n",
            " [48696.53516]\n",
            " [47944.45703]\n",
            " [49207.27734]\n",
            " [52140.97266]\n",
            " [51675.98047]\n",
            " [55887.33594]\n",
            " [56068.56641]\n",
            " [57532.73828]\n",
            " [54204.92969]\n",
            " [48835.08594]\n",
            " [49709.08203]\n",
            " [47180.46484]\n",
            " [46344.77344]\n",
            " [46194.01563]\n",
            " [        nan]]\n"
          ]
        }
      ]
    },
    {
      "cell_type": "code",
      "source": [
        "print(\"First Financial day in 2021, when testing period begins\",len(dataset_total)- len(dataset_test))\n",
        "print(\"First Financial day in 2021 minus 60 days\",len(dataset_total)- len(dataset_test) - 90)\n",
        "inputs = dataset_total[len(dataset_total) - len(dataset_test) - 90:].values\n",
        "\n",
        "# reshaping,normalizing the inputs\n",
        "inputs = inputs.reshape(-1,1)\n",
        "# no longer fitting but just transforming\n",
        "inputs = sc.transform(inputs)\n"
      ],
      "metadata": {
        "colab": {
          "base_uri": "https://localhost:8080/"
        },
        "id": "BV9WKuEtWyHf",
        "outputId": "f69f7b79-3a89-4c2a-dd5e-ca15067533a5"
      },
      "execution_count": 70,
      "outputs": [
        {
          "output_type": "stream",
          "name": "stdout",
          "text": [
            "First Financial day in 2021, when testing period begins 1823\n",
            "First Financial day in 2021 minus 60 days 1733\n"
          ]
        }
      ]
    },
    {
      "cell_type": "code",
      "source": [
        "X_test = []\n",
        "for i in range(90,inputs.size):\n",
        "    X_test.append(inputs[i-90:i, 0])\n",
        "X_test = np.array(X_test)\n",
        "#adding extra dimension\n",
        "X_test = np.reshape(X_test, [X_test.shape[0], X_test.shape[1], 1])\n",
        "\n",
        "#obtaining predicted values\n",
        "predicted_stock_price = regressor.predict(X_test)\n",
        "predicted_stock_price = sc.inverse_transform(predicted_stock_price)"
      ],
      "metadata": {
        "id": "5sD8zpKaW1W2"
      },
      "execution_count": 71,
      "outputs": []
    },
    {
      "cell_type": "code",
      "source": [
        "#--------------------- Visualizing the RNN model results--------------------#\n",
        "plt.plot(real_stock_price, color = '#ffd700', label = \"Real Price January - March 2021\")\n",
        "plt.plot(predicted_stock_price, color = '#4782B4', label = \"Predicted Price January - March 2021\")\n",
        "plt.title(\"Bitcoin Price Prediction\")\n",
        "plt.xlabel(\"Time\")\n",
        "plt.ylabel(\"Bitcoin Price\")\n",
        "plt.legend()\n",
        "plt.show()"
      ],
      "metadata": {
        "colab": {
          "base_uri": "https://localhost:8080/",
          "height": 295
        },
        "id": "IGImtixAW2IU",
        "outputId": "a88b6eb8-1bd4-4db8-cfbc-b72078fa0a83"
      },
      "execution_count": 72,
      "outputs": [
        {
          "output_type": "display_data",
          "data": {
            "image/png": "[encoded data removed]",
            "text/plain": [
              "<Figure size 432x288 with 1 Axes>"
            ]
          },
          "metadata": {
            "needs_background": "light"
          }
        }
      ]
    }
  ]
}